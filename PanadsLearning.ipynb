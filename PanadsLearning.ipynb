{
 "cells": [
  {
   "cell_type": "code",
   "execution_count": 102,
   "id": "bd665675-2cb9-4171-8fb7-a2b3a8e81f80",
   "metadata": {},
   "outputs": [],
   "source": [
    "import pandas as pd"
   ]
  },
  {
   "cell_type": "code",
   "execution_count": 103,
   "id": "2fa6ba2a-db7d-4b78-bfff-782ea2282328",
   "metadata": {},
   "outputs": [],
   "source": [
    "import numpy as np"
   ]
  },
  {
   "cell_type": "code",
   "execution_count": 104,
   "id": "8bc35251-15f8-476b-8ea7-d7b77b281ef0",
   "metadata": {},
   "outputs": [],
   "source": [
    "from pandas import DataFrame"
   ]
  },
  {
   "cell_type": "code",
   "execution_count": 105,
   "id": "a0c9a7d8-6f2b-4f92-9a93-0f3f81a87461",
   "metadata": {},
   "outputs": [],
   "source": [
    "import sqlite3"
   ]
  },
  {
   "cell_type": "code",
   "execution_count": 106,
   "id": "cd3a7118-4297-4504-8cd0-0af94e2e5ac3",
   "metadata": {},
   "outputs": [],
   "source": [
    "con = sqlite3.connect(r'D:\\my data\\faradars\\Python\\Pandas\\[FVPY328] Pandas_Projects [Files_And_Codes]\\zomato_rawdata.sqlite')"
   ]
  },
  {
   "cell_type": "code",
   "execution_count": 107,
   "id": "2230b4b6-f252-4686-ba38-b993fd3a5c10",
   "metadata": {},
   "outputs": [],
   "source": [
    "df = pd.read_sql_query(\"select * from Users\",con)"
   ]
  },
  {
   "cell_type": "code",
   "execution_count": 108,
   "id": "06654d2b-f78b-4d06-a8b9-dbb1f9d47cdd",
   "metadata": {},
   "outputs": [
    {
     "data": {
      "text/html": [
       "<div>\n",
       "<style scoped>\n",
       "    .dataframe tbody tr th:only-of-type {\n",
       "        vertical-align: middle;\n",
       "    }\n",
       "\n",
       "    .dataframe tbody tr th {\n",
       "        vertical-align: top;\n",
       "    }\n",
       "\n",
       "    .dataframe thead th {\n",
       "        text-align: right;\n",
       "    }\n",
       "</style>\n",
       "<table border=\"1\" class=\"dataframe\">\n",
       "  <thead>\n",
       "    <tr style=\"text-align: right;\">\n",
       "      <th></th>\n",
       "      <th>index</th>\n",
       "      <th>url</th>\n",
       "      <th>address</th>\n",
       "      <th>name</th>\n",
       "      <th>online_order</th>\n",
       "      <th>book_table</th>\n",
       "      <th>rate</th>\n",
       "      <th>votes</th>\n",
       "      <th>phone</th>\n",
       "      <th>location</th>\n",
       "      <th>rest_type</th>\n",
       "      <th>dish_liked</th>\n",
       "      <th>cuisines</th>\n",
       "      <th>approx_cost(for two people)</th>\n",
       "      <th>reviews_list</th>\n",
       "      <th>menu_item</th>\n",
       "      <th>listed_in(type)</th>\n",
       "      <th>listed_in(city)</th>\n",
       "    </tr>\n",
       "  </thead>\n",
       "  <tbody>\n",
       "    <tr>\n",
       "      <th>0</th>\n",
       "      <td>0</td>\n",
       "      <td>https://www.zomato.com/bangalore/jalsa-banasha...</td>\n",
       "      <td>942, 21st Main Road, 2nd Stage, Banashankari, ...</td>\n",
       "      <td>Jalsa</td>\n",
       "      <td>Yes</td>\n",
       "      <td>Yes</td>\n",
       "      <td>4.1/5</td>\n",
       "      <td>775</td>\n",
       "      <td>080 42297555\\r\\n+91 9743772233</td>\n",
       "      <td>Banashankari</td>\n",
       "      <td>Casual Dining</td>\n",
       "      <td>Pasta, Lunch Buffet, Masala Papad, Paneer Laja...</td>\n",
       "      <td>North Indian, Mughlai, Chinese</td>\n",
       "      <td>800</td>\n",
       "      <td>[('Rated 4.0', 'RATED\\n  A beautiful place to ...</td>\n",
       "      <td>[]</td>\n",
       "      <td>Buffet</td>\n",
       "      <td>Banashankari</td>\n",
       "    </tr>\n",
       "    <tr>\n",
       "      <th>1</th>\n",
       "      <td>1</td>\n",
       "      <td>https://www.zomato.com/bangalore/spice-elephan...</td>\n",
       "      <td>2nd Floor, 80 Feet Road, Near Big Bazaar, 6th ...</td>\n",
       "      <td>Spice Elephant</td>\n",
       "      <td>Yes</td>\n",
       "      <td>No</td>\n",
       "      <td>4.1/5</td>\n",
       "      <td>787</td>\n",
       "      <td>080 41714161</td>\n",
       "      <td>Banashankari</td>\n",
       "      <td>Casual Dining</td>\n",
       "      <td>Momos, Lunch Buffet, Chocolate Nirvana, Thai G...</td>\n",
       "      <td>Chinese, North Indian, Thai</td>\n",
       "      <td>800</td>\n",
       "      <td>[('Rated 4.0', 'RATED\\n  Had been here for din...</td>\n",
       "      <td>[]</td>\n",
       "      <td>Buffet</td>\n",
       "      <td>Banashankari</td>\n",
       "    </tr>\n",
       "    <tr>\n",
       "      <th>2</th>\n",
       "      <td>2</td>\n",
       "      <td>https://www.zomato.com/SanchurroBangalore?cont...</td>\n",
       "      <td>1112, Next to KIMS Medical College, 17th Cross...</td>\n",
       "      <td>San Churro Cafe</td>\n",
       "      <td>Yes</td>\n",
       "      <td>No</td>\n",
       "      <td>3.8/5</td>\n",
       "      <td>918</td>\n",
       "      <td>+91 9663487993</td>\n",
       "      <td>Banashankari</td>\n",
       "      <td>Cafe, Casual Dining</td>\n",
       "      <td>Churros, Cannelloni, Minestrone Soup, Hot Choc...</td>\n",
       "      <td>Cafe, Mexican, Italian</td>\n",
       "      <td>800</td>\n",
       "      <td>[('Rated 3.0', \"RATED\\n  Ambience is not that ...</td>\n",
       "      <td>[]</td>\n",
       "      <td>Buffet</td>\n",
       "      <td>Banashankari</td>\n",
       "    </tr>\n",
       "    <tr>\n",
       "      <th>3</th>\n",
       "      <td>3</td>\n",
       "      <td>https://www.zomato.com/bangalore/addhuri-udupi...</td>\n",
       "      <td>1st Floor, Annakuteera, 3rd Stage, Banashankar...</td>\n",
       "      <td>Addhuri Udupi Bhojana</td>\n",
       "      <td>No</td>\n",
       "      <td>No</td>\n",
       "      <td>3.7/5</td>\n",
       "      <td>88</td>\n",
       "      <td>+91 9620009302</td>\n",
       "      <td>Banashankari</td>\n",
       "      <td>Quick Bites</td>\n",
       "      <td>Masala Dosa</td>\n",
       "      <td>South Indian, North Indian</td>\n",
       "      <td>300</td>\n",
       "      <td>[('Rated 4.0', \"RATED\\n  Great food and proper...</td>\n",
       "      <td>[]</td>\n",
       "      <td>Buffet</td>\n",
       "      <td>Banashankari</td>\n",
       "    </tr>\n",
       "    <tr>\n",
       "      <th>4</th>\n",
       "      <td>4</td>\n",
       "      <td>https://www.zomato.com/bangalore/grand-village...</td>\n",
       "      <td>10, 3rd Floor, Lakshmi Associates, Gandhi Baza...</td>\n",
       "      <td>Grand Village</td>\n",
       "      <td>No</td>\n",
       "      <td>No</td>\n",
       "      <td>3.8/5</td>\n",
       "      <td>166</td>\n",
       "      <td>+91 8026612447\\r\\n+91 9901210005</td>\n",
       "      <td>Basavanagudi</td>\n",
       "      <td>Casual Dining</td>\n",
       "      <td>Panipuri, Gol Gappe</td>\n",
       "      <td>North Indian, Rajasthani</td>\n",
       "      <td>600</td>\n",
       "      <td>[('Rated 4.0', 'RATED\\n  Very good restaurant ...</td>\n",
       "      <td>[]</td>\n",
       "      <td>Buffet</td>\n",
       "      <td>Banashankari</td>\n",
       "    </tr>\n",
       "    <tr>\n",
       "      <th>...</th>\n",
       "      <td>...</td>\n",
       "      <td>...</td>\n",
       "      <td>...</td>\n",
       "      <td>...</td>\n",
       "      <td>...</td>\n",
       "      <td>...</td>\n",
       "      <td>...</td>\n",
       "      <td>...</td>\n",
       "      <td>...</td>\n",
       "      <td>...</td>\n",
       "      <td>...</td>\n",
       "      <td>...</td>\n",
       "      <td>...</td>\n",
       "      <td>...</td>\n",
       "      <td>...</td>\n",
       "      <td>...</td>\n",
       "      <td>...</td>\n",
       "      <td>...</td>\n",
       "    </tr>\n",
       "    <tr>\n",
       "      <th>51712</th>\n",
       "      <td>51712</td>\n",
       "      <td>https://www.zomato.com/bangalore/best-brews-fo...</td>\n",
       "      <td>Four Points by Sheraton Bengaluru, 43/3, White...</td>\n",
       "      <td>Best Brews - Four Points by Sheraton Bengaluru...</td>\n",
       "      <td>No</td>\n",
       "      <td>No</td>\n",
       "      <td>3.6 /5</td>\n",
       "      <td>27</td>\n",
       "      <td>080 40301477</td>\n",
       "      <td>Whitefield</td>\n",
       "      <td>Bar</td>\n",
       "      <td>None</td>\n",
       "      <td>Continental</td>\n",
       "      <td>1,500</td>\n",
       "      <td>[('Rated 5.0', \"RATED\\n  Food and service are ...</td>\n",
       "      <td>[]</td>\n",
       "      <td>Pubs and bars</td>\n",
       "      <td>Whitefield</td>\n",
       "    </tr>\n",
       "    <tr>\n",
       "      <th>51713</th>\n",
       "      <td>51713</td>\n",
       "      <td>https://www.zomato.com/bangalore/vinod-bar-and...</td>\n",
       "      <td>Number 10, Garudachar Palya, Mahadevapura, Whi...</td>\n",
       "      <td>Vinod Bar And Restaurant</td>\n",
       "      <td>No</td>\n",
       "      <td>No</td>\n",
       "      <td>None</td>\n",
       "      <td>0</td>\n",
       "      <td>+91 8197675843</td>\n",
       "      <td>Whitefield</td>\n",
       "      <td>Bar</td>\n",
       "      <td>None</td>\n",
       "      <td>Finger Food</td>\n",
       "      <td>600</td>\n",
       "      <td>[]</td>\n",
       "      <td>[]</td>\n",
       "      <td>Pubs and bars</td>\n",
       "      <td>Whitefield</td>\n",
       "    </tr>\n",
       "    <tr>\n",
       "      <th>51714</th>\n",
       "      <td>51714</td>\n",
       "      <td>https://www.zomato.com/bangalore/plunge-sherat...</td>\n",
       "      <td>Sheraton Grand Bengaluru Whitefield Hotel &amp; Co...</td>\n",
       "      <td>Plunge - Sheraton Grand Bengaluru Whitefield H...</td>\n",
       "      <td>No</td>\n",
       "      <td>No</td>\n",
       "      <td>None</td>\n",
       "      <td>0</td>\n",
       "      <td>None</td>\n",
       "      <td>Whitefield</td>\n",
       "      <td>Bar</td>\n",
       "      <td>None</td>\n",
       "      <td>Finger Food</td>\n",
       "      <td>2,000</td>\n",
       "      <td>[]</td>\n",
       "      <td>[]</td>\n",
       "      <td>Pubs and bars</td>\n",
       "      <td>Whitefield</td>\n",
       "    </tr>\n",
       "    <tr>\n",
       "      <th>51715</th>\n",
       "      <td>51715</td>\n",
       "      <td>https://www.zomato.com/bangalore/chime-sherato...</td>\n",
       "      <td>Sheraton Grand Bengaluru Whitefield Hotel &amp; Co...</td>\n",
       "      <td>Chime - Sheraton Grand Bengaluru Whitefield Ho...</td>\n",
       "      <td>No</td>\n",
       "      <td>Yes</td>\n",
       "      <td>4.3 /5</td>\n",
       "      <td>236</td>\n",
       "      <td>080 49652769</td>\n",
       "      <td>ITPL Main Road, Whitefield</td>\n",
       "      <td>Bar</td>\n",
       "      <td>Cocktails, Pizza, Buttermilk</td>\n",
       "      <td>Finger Food</td>\n",
       "      <td>2,500</td>\n",
       "      <td>[('Rated 4.0', 'RATED\\n  Nice and friendly pla...</td>\n",
       "      <td>[]</td>\n",
       "      <td>Pubs and bars</td>\n",
       "      <td>Whitefield</td>\n",
       "    </tr>\n",
       "    <tr>\n",
       "      <th>51716</th>\n",
       "      <td>51716</td>\n",
       "      <td>https://www.zomato.com/bangalore/the-nest-the-...</td>\n",
       "      <td>ITPL Main Road, KIADB Export Promotion Industr...</td>\n",
       "      <td>The Nest - The Den Bengaluru</td>\n",
       "      <td>No</td>\n",
       "      <td>No</td>\n",
       "      <td>3.4 /5</td>\n",
       "      <td>13</td>\n",
       "      <td>+91 8071117272</td>\n",
       "      <td>ITPL Main Road, Whitefield</td>\n",
       "      <td>Bar, Casual Dining</td>\n",
       "      <td>None</td>\n",
       "      <td>Finger Food, North Indian, Continental</td>\n",
       "      <td>1,500</td>\n",
       "      <td>[('Rated 5.0', 'RATED\\n  Great ambience , look...</td>\n",
       "      <td>[]</td>\n",
       "      <td>Pubs and bars</td>\n",
       "      <td>Whitefield</td>\n",
       "    </tr>\n",
       "  </tbody>\n",
       "</table>\n",
       "<p>51717 rows × 18 columns</p>\n",
       "</div>"
      ],
      "text/plain": [
       "       index                                                url  \\\n",
       "0          0  https://www.zomato.com/bangalore/jalsa-banasha...   \n",
       "1          1  https://www.zomato.com/bangalore/spice-elephan...   \n",
       "2          2  https://www.zomato.com/SanchurroBangalore?cont...   \n",
       "3          3  https://www.zomato.com/bangalore/addhuri-udupi...   \n",
       "4          4  https://www.zomato.com/bangalore/grand-village...   \n",
       "...      ...                                                ...   \n",
       "51712  51712  https://www.zomato.com/bangalore/best-brews-fo...   \n",
       "51713  51713  https://www.zomato.com/bangalore/vinod-bar-and...   \n",
       "51714  51714  https://www.zomato.com/bangalore/plunge-sherat...   \n",
       "51715  51715  https://www.zomato.com/bangalore/chime-sherato...   \n",
       "51716  51716  https://www.zomato.com/bangalore/the-nest-the-...   \n",
       "\n",
       "                                                 address  \\\n",
       "0      942, 21st Main Road, 2nd Stage, Banashankari, ...   \n",
       "1      2nd Floor, 80 Feet Road, Near Big Bazaar, 6th ...   \n",
       "2      1112, Next to KIMS Medical College, 17th Cross...   \n",
       "3      1st Floor, Annakuteera, 3rd Stage, Banashankar...   \n",
       "4      10, 3rd Floor, Lakshmi Associates, Gandhi Baza...   \n",
       "...                                                  ...   \n",
       "51712  Four Points by Sheraton Bengaluru, 43/3, White...   \n",
       "51713  Number 10, Garudachar Palya, Mahadevapura, Whi...   \n",
       "51714  Sheraton Grand Bengaluru Whitefield Hotel & Co...   \n",
       "51715  Sheraton Grand Bengaluru Whitefield Hotel & Co...   \n",
       "51716  ITPL Main Road, KIADB Export Promotion Industr...   \n",
       "\n",
       "                                                    name online_order  \\\n",
       "0                                                  Jalsa          Yes   \n",
       "1                                         Spice Elephant          Yes   \n",
       "2                                        San Churro Cafe          Yes   \n",
       "3                                  Addhuri Udupi Bhojana           No   \n",
       "4                                          Grand Village           No   \n",
       "...                                                  ...          ...   \n",
       "51712  Best Brews - Four Points by Sheraton Bengaluru...           No   \n",
       "51713                           Vinod Bar And Restaurant           No   \n",
       "51714  Plunge - Sheraton Grand Bengaluru Whitefield H...           No   \n",
       "51715  Chime - Sheraton Grand Bengaluru Whitefield Ho...           No   \n",
       "51716                       The Nest - The Den Bengaluru           No   \n",
       "\n",
       "      book_table    rate  votes                             phone  \\\n",
       "0            Yes   4.1/5    775    080 42297555\\r\\n+91 9743772233   \n",
       "1             No   4.1/5    787                      080 41714161   \n",
       "2             No   3.8/5    918                    +91 9663487993   \n",
       "3             No   3.7/5     88                    +91 9620009302   \n",
       "4             No   3.8/5    166  +91 8026612447\\r\\n+91 9901210005   \n",
       "...          ...     ...    ...                               ...   \n",
       "51712         No  3.6 /5     27                      080 40301477   \n",
       "51713         No    None      0                    +91 8197675843   \n",
       "51714         No    None      0                              None   \n",
       "51715        Yes  4.3 /5    236                      080 49652769   \n",
       "51716         No  3.4 /5     13                    +91 8071117272   \n",
       "\n",
       "                         location            rest_type  \\\n",
       "0                    Banashankari        Casual Dining   \n",
       "1                    Banashankari        Casual Dining   \n",
       "2                    Banashankari  Cafe, Casual Dining   \n",
       "3                    Banashankari          Quick Bites   \n",
       "4                    Basavanagudi        Casual Dining   \n",
       "...                           ...                  ...   \n",
       "51712                  Whitefield                  Bar   \n",
       "51713                  Whitefield                  Bar   \n",
       "51714                  Whitefield                  Bar   \n",
       "51715  ITPL Main Road, Whitefield                  Bar   \n",
       "51716  ITPL Main Road, Whitefield   Bar, Casual Dining   \n",
       "\n",
       "                                              dish_liked  \\\n",
       "0      Pasta, Lunch Buffet, Masala Papad, Paneer Laja...   \n",
       "1      Momos, Lunch Buffet, Chocolate Nirvana, Thai G...   \n",
       "2      Churros, Cannelloni, Minestrone Soup, Hot Choc...   \n",
       "3                                            Masala Dosa   \n",
       "4                                    Panipuri, Gol Gappe   \n",
       "...                                                  ...   \n",
       "51712                                               None   \n",
       "51713                                               None   \n",
       "51714                                               None   \n",
       "51715                       Cocktails, Pizza, Buttermilk   \n",
       "51716                                               None   \n",
       "\n",
       "                                     cuisines approx_cost(for two people)  \\\n",
       "0              North Indian, Mughlai, Chinese                         800   \n",
       "1                 Chinese, North Indian, Thai                         800   \n",
       "2                      Cafe, Mexican, Italian                         800   \n",
       "3                  South Indian, North Indian                         300   \n",
       "4                    North Indian, Rajasthani                         600   \n",
       "...                                       ...                         ...   \n",
       "51712                             Continental                       1,500   \n",
       "51713                             Finger Food                         600   \n",
       "51714                             Finger Food                       2,000   \n",
       "51715                             Finger Food                       2,500   \n",
       "51716  Finger Food, North Indian, Continental                       1,500   \n",
       "\n",
       "                                            reviews_list menu_item  \\\n",
       "0      [('Rated 4.0', 'RATED\\n  A beautiful place to ...        []   \n",
       "1      [('Rated 4.0', 'RATED\\n  Had been here for din...        []   \n",
       "2      [('Rated 3.0', \"RATED\\n  Ambience is not that ...        []   \n",
       "3      [('Rated 4.0', \"RATED\\n  Great food and proper...        []   \n",
       "4      [('Rated 4.0', 'RATED\\n  Very good restaurant ...        []   \n",
       "...                                                  ...       ...   \n",
       "51712  [('Rated 5.0', \"RATED\\n  Food and service are ...        []   \n",
       "51713                                                 []        []   \n",
       "51714                                                 []        []   \n",
       "51715  [('Rated 4.0', 'RATED\\n  Nice and friendly pla...        []   \n",
       "51716  [('Rated 5.0', 'RATED\\n  Great ambience , look...        []   \n",
       "\n",
       "      listed_in(type) listed_in(city)  \n",
       "0              Buffet    Banashankari  \n",
       "1              Buffet    Banashankari  \n",
       "2              Buffet    Banashankari  \n",
       "3              Buffet    Banashankari  \n",
       "4              Buffet    Banashankari  \n",
       "...               ...             ...  \n",
       "51712   Pubs and bars      Whitefield  \n",
       "51713   Pubs and bars      Whitefield  \n",
       "51714   Pubs and bars      Whitefield  \n",
       "51715   Pubs and bars      Whitefield  \n",
       "51716   Pubs and bars      Whitefield  \n",
       "\n",
       "[51717 rows x 18 columns]"
      ]
     },
     "execution_count": 108,
     "metadata": {},
     "output_type": "execute_result"
    }
   ],
   "source": [
    "df"
   ]
  },
  {
   "cell_type": "code",
   "execution_count": 109,
   "id": "b338fb0c-bc12-469f-a537-d90cf57b5f08",
   "metadata": {},
   "outputs": [
    {
     "data": {
      "text/plain": [
       "<bound method NDFrame.head of        index                                                url  \\\n",
       "0          0  https://www.zomato.com/bangalore/jalsa-banasha...   \n",
       "1          1  https://www.zomato.com/bangalore/spice-elephan...   \n",
       "2          2  https://www.zomato.com/SanchurroBangalore?cont...   \n",
       "3          3  https://www.zomato.com/bangalore/addhuri-udupi...   \n",
       "4          4  https://www.zomato.com/bangalore/grand-village...   \n",
       "...      ...                                                ...   \n",
       "51712  51712  https://www.zomato.com/bangalore/best-brews-fo...   \n",
       "51713  51713  https://www.zomato.com/bangalore/vinod-bar-and...   \n",
       "51714  51714  https://www.zomato.com/bangalore/plunge-sherat...   \n",
       "51715  51715  https://www.zomato.com/bangalore/chime-sherato...   \n",
       "51716  51716  https://www.zomato.com/bangalore/the-nest-the-...   \n",
       "\n",
       "                                                 address  \\\n",
       "0      942, 21st Main Road, 2nd Stage, Banashankari, ...   \n",
       "1      2nd Floor, 80 Feet Road, Near Big Bazaar, 6th ...   \n",
       "2      1112, Next to KIMS Medical College, 17th Cross...   \n",
       "3      1st Floor, Annakuteera, 3rd Stage, Banashankar...   \n",
       "4      10, 3rd Floor, Lakshmi Associates, Gandhi Baza...   \n",
       "...                                                  ...   \n",
       "51712  Four Points by Sheraton Bengaluru, 43/3, White...   \n",
       "51713  Number 10, Garudachar Palya, Mahadevapura, Whi...   \n",
       "51714  Sheraton Grand Bengaluru Whitefield Hotel & Co...   \n",
       "51715  Sheraton Grand Bengaluru Whitefield Hotel & Co...   \n",
       "51716  ITPL Main Road, KIADB Export Promotion Industr...   \n",
       "\n",
       "                                                    name online_order  \\\n",
       "0                                                  Jalsa          Yes   \n",
       "1                                         Spice Elephant          Yes   \n",
       "2                                        San Churro Cafe          Yes   \n",
       "3                                  Addhuri Udupi Bhojana           No   \n",
       "4                                          Grand Village           No   \n",
       "...                                                  ...          ...   \n",
       "51712  Best Brews - Four Points by Sheraton Bengaluru...           No   \n",
       "51713                           Vinod Bar And Restaurant           No   \n",
       "51714  Plunge - Sheraton Grand Bengaluru Whitefield H...           No   \n",
       "51715  Chime - Sheraton Grand Bengaluru Whitefield Ho...           No   \n",
       "51716                       The Nest - The Den Bengaluru           No   \n",
       "\n",
       "      book_table    rate  votes                             phone  \\\n",
       "0            Yes   4.1/5    775    080 42297555\\r\\n+91 9743772233   \n",
       "1             No   4.1/5    787                      080 41714161   \n",
       "2             No   3.8/5    918                    +91 9663487993   \n",
       "3             No   3.7/5     88                    +91 9620009302   \n",
       "4             No   3.8/5    166  +91 8026612447\\r\\n+91 9901210005   \n",
       "...          ...     ...    ...                               ...   \n",
       "51712         No  3.6 /5     27                      080 40301477   \n",
       "51713         No    None      0                    +91 8197675843   \n",
       "51714         No    None      0                              None   \n",
       "51715        Yes  4.3 /5    236                      080 49652769   \n",
       "51716         No  3.4 /5     13                    +91 8071117272   \n",
       "\n",
       "                         location            rest_type  \\\n",
       "0                    Banashankari        Casual Dining   \n",
       "1                    Banashankari        Casual Dining   \n",
       "2                    Banashankari  Cafe, Casual Dining   \n",
       "3                    Banashankari          Quick Bites   \n",
       "4                    Basavanagudi        Casual Dining   \n",
       "...                           ...                  ...   \n",
       "51712                  Whitefield                  Bar   \n",
       "51713                  Whitefield                  Bar   \n",
       "51714                  Whitefield                  Bar   \n",
       "51715  ITPL Main Road, Whitefield                  Bar   \n",
       "51716  ITPL Main Road, Whitefield   Bar, Casual Dining   \n",
       "\n",
       "                                              dish_liked  \\\n",
       "0      Pasta, Lunch Buffet, Masala Papad, Paneer Laja...   \n",
       "1      Momos, Lunch Buffet, Chocolate Nirvana, Thai G...   \n",
       "2      Churros, Cannelloni, Minestrone Soup, Hot Choc...   \n",
       "3                                            Masala Dosa   \n",
       "4                                    Panipuri, Gol Gappe   \n",
       "...                                                  ...   \n",
       "51712                                               None   \n",
       "51713                                               None   \n",
       "51714                                               None   \n",
       "51715                       Cocktails, Pizza, Buttermilk   \n",
       "51716                                               None   \n",
       "\n",
       "                                     cuisines approx_cost(for two people)  \\\n",
       "0              North Indian, Mughlai, Chinese                         800   \n",
       "1                 Chinese, North Indian, Thai                         800   \n",
       "2                      Cafe, Mexican, Italian                         800   \n",
       "3                  South Indian, North Indian                         300   \n",
       "4                    North Indian, Rajasthani                         600   \n",
       "...                                       ...                         ...   \n",
       "51712                             Continental                       1,500   \n",
       "51713                             Finger Food                         600   \n",
       "51714                             Finger Food                       2,000   \n",
       "51715                             Finger Food                       2,500   \n",
       "51716  Finger Food, North Indian, Continental                       1,500   \n",
       "\n",
       "                                            reviews_list menu_item  \\\n",
       "0      [('Rated 4.0', 'RATED\\n  A beautiful place to ...        []   \n",
       "1      [('Rated 4.0', 'RATED\\n  Had been here for din...        []   \n",
       "2      [('Rated 3.0', \"RATED\\n  Ambience is not that ...        []   \n",
       "3      [('Rated 4.0', \"RATED\\n  Great food and proper...        []   \n",
       "4      [('Rated 4.0', 'RATED\\n  Very good restaurant ...        []   \n",
       "...                                                  ...       ...   \n",
       "51712  [('Rated 5.0', \"RATED\\n  Food and service are ...        []   \n",
       "51713                                                 []        []   \n",
       "51714                                                 []        []   \n",
       "51715  [('Rated 4.0', 'RATED\\n  Nice and friendly pla...        []   \n",
       "51716  [('Rated 5.0', 'RATED\\n  Great ambience , look...        []   \n",
       "\n",
       "      listed_in(type) listed_in(city)  \n",
       "0              Buffet    Banashankari  \n",
       "1              Buffet    Banashankari  \n",
       "2              Buffet    Banashankari  \n",
       "3              Buffet    Banashankari  \n",
       "4              Buffet    Banashankari  \n",
       "...               ...             ...  \n",
       "51712   Pubs and bars      Whitefield  \n",
       "51713   Pubs and bars      Whitefield  \n",
       "51714   Pubs and bars      Whitefield  \n",
       "51715   Pubs and bars      Whitefield  \n",
       "51716   Pubs and bars      Whitefield  \n",
       "\n",
       "[51717 rows x 18 columns]>"
      ]
     },
     "execution_count": 109,
     "metadata": {},
     "output_type": "execute_result"
    }
   ],
   "source": [
    "df.head"
   ]
  },
  {
   "cell_type": "code",
   "execution_count": 110,
   "id": "96f098cf-07f4-4053-8914-bfe8c130238d",
   "metadata": {},
   "outputs": [
    {
     "data": {
      "text/plain": [
       "<bound method NDFrame.tail of        index                                                url  \\\n",
       "0          0  https://www.zomato.com/bangalore/jalsa-banasha...   \n",
       "1          1  https://www.zomato.com/bangalore/spice-elephan...   \n",
       "2          2  https://www.zomato.com/SanchurroBangalore?cont...   \n",
       "3          3  https://www.zomato.com/bangalore/addhuri-udupi...   \n",
       "4          4  https://www.zomato.com/bangalore/grand-village...   \n",
       "...      ...                                                ...   \n",
       "51712  51712  https://www.zomato.com/bangalore/best-brews-fo...   \n",
       "51713  51713  https://www.zomato.com/bangalore/vinod-bar-and...   \n",
       "51714  51714  https://www.zomato.com/bangalore/plunge-sherat...   \n",
       "51715  51715  https://www.zomato.com/bangalore/chime-sherato...   \n",
       "51716  51716  https://www.zomato.com/bangalore/the-nest-the-...   \n",
       "\n",
       "                                                 address  \\\n",
       "0      942, 21st Main Road, 2nd Stage, Banashankari, ...   \n",
       "1      2nd Floor, 80 Feet Road, Near Big Bazaar, 6th ...   \n",
       "2      1112, Next to KIMS Medical College, 17th Cross...   \n",
       "3      1st Floor, Annakuteera, 3rd Stage, Banashankar...   \n",
       "4      10, 3rd Floor, Lakshmi Associates, Gandhi Baza...   \n",
       "...                                                  ...   \n",
       "51712  Four Points by Sheraton Bengaluru, 43/3, White...   \n",
       "51713  Number 10, Garudachar Palya, Mahadevapura, Whi...   \n",
       "51714  Sheraton Grand Bengaluru Whitefield Hotel & Co...   \n",
       "51715  Sheraton Grand Bengaluru Whitefield Hotel & Co...   \n",
       "51716  ITPL Main Road, KIADB Export Promotion Industr...   \n",
       "\n",
       "                                                    name online_order  \\\n",
       "0                                                  Jalsa          Yes   \n",
       "1                                         Spice Elephant          Yes   \n",
       "2                                        San Churro Cafe          Yes   \n",
       "3                                  Addhuri Udupi Bhojana           No   \n",
       "4                                          Grand Village           No   \n",
       "...                                                  ...          ...   \n",
       "51712  Best Brews - Four Points by Sheraton Bengaluru...           No   \n",
       "51713                           Vinod Bar And Restaurant           No   \n",
       "51714  Plunge - Sheraton Grand Bengaluru Whitefield H...           No   \n",
       "51715  Chime - Sheraton Grand Bengaluru Whitefield Ho...           No   \n",
       "51716                       The Nest - The Den Bengaluru           No   \n",
       "\n",
       "      book_table    rate  votes                             phone  \\\n",
       "0            Yes   4.1/5    775    080 42297555\\r\\n+91 9743772233   \n",
       "1             No   4.1/5    787                      080 41714161   \n",
       "2             No   3.8/5    918                    +91 9663487993   \n",
       "3             No   3.7/5     88                    +91 9620009302   \n",
       "4             No   3.8/5    166  +91 8026612447\\r\\n+91 9901210005   \n",
       "...          ...     ...    ...                               ...   \n",
       "51712         No  3.6 /5     27                      080 40301477   \n",
       "51713         No    None      0                    +91 8197675843   \n",
       "51714         No    None      0                              None   \n",
       "51715        Yes  4.3 /5    236                      080 49652769   \n",
       "51716         No  3.4 /5     13                    +91 8071117272   \n",
       "\n",
       "                         location            rest_type  \\\n",
       "0                    Banashankari        Casual Dining   \n",
       "1                    Banashankari        Casual Dining   \n",
       "2                    Banashankari  Cafe, Casual Dining   \n",
       "3                    Banashankari          Quick Bites   \n",
       "4                    Basavanagudi        Casual Dining   \n",
       "...                           ...                  ...   \n",
       "51712                  Whitefield                  Bar   \n",
       "51713                  Whitefield                  Bar   \n",
       "51714                  Whitefield                  Bar   \n",
       "51715  ITPL Main Road, Whitefield                  Bar   \n",
       "51716  ITPL Main Road, Whitefield   Bar, Casual Dining   \n",
       "\n",
       "                                              dish_liked  \\\n",
       "0      Pasta, Lunch Buffet, Masala Papad, Paneer Laja...   \n",
       "1      Momos, Lunch Buffet, Chocolate Nirvana, Thai G...   \n",
       "2      Churros, Cannelloni, Minestrone Soup, Hot Choc...   \n",
       "3                                            Masala Dosa   \n",
       "4                                    Panipuri, Gol Gappe   \n",
       "...                                                  ...   \n",
       "51712                                               None   \n",
       "51713                                               None   \n",
       "51714                                               None   \n",
       "51715                       Cocktails, Pizza, Buttermilk   \n",
       "51716                                               None   \n",
       "\n",
       "                                     cuisines approx_cost(for two people)  \\\n",
       "0              North Indian, Mughlai, Chinese                         800   \n",
       "1                 Chinese, North Indian, Thai                         800   \n",
       "2                      Cafe, Mexican, Italian                         800   \n",
       "3                  South Indian, North Indian                         300   \n",
       "4                    North Indian, Rajasthani                         600   \n",
       "...                                       ...                         ...   \n",
       "51712                             Continental                       1,500   \n",
       "51713                             Finger Food                         600   \n",
       "51714                             Finger Food                       2,000   \n",
       "51715                             Finger Food                       2,500   \n",
       "51716  Finger Food, North Indian, Continental                       1,500   \n",
       "\n",
       "                                            reviews_list menu_item  \\\n",
       "0      [('Rated 4.0', 'RATED\\n  A beautiful place to ...        []   \n",
       "1      [('Rated 4.0', 'RATED\\n  Had been here for din...        []   \n",
       "2      [('Rated 3.0', \"RATED\\n  Ambience is not that ...        []   \n",
       "3      [('Rated 4.0', \"RATED\\n  Great food and proper...        []   \n",
       "4      [('Rated 4.0', 'RATED\\n  Very good restaurant ...        []   \n",
       "...                                                  ...       ...   \n",
       "51712  [('Rated 5.0', \"RATED\\n  Food and service are ...        []   \n",
       "51713                                                 []        []   \n",
       "51714                                                 []        []   \n",
       "51715  [('Rated 4.0', 'RATED\\n  Nice and friendly pla...        []   \n",
       "51716  [('Rated 5.0', 'RATED\\n  Great ambience , look...        []   \n",
       "\n",
       "      listed_in(type) listed_in(city)  \n",
       "0              Buffet    Banashankari  \n",
       "1              Buffet    Banashankari  \n",
       "2              Buffet    Banashankari  \n",
       "3              Buffet    Banashankari  \n",
       "4              Buffet    Banashankari  \n",
       "...               ...             ...  \n",
       "51712   Pubs and bars      Whitefield  \n",
       "51713   Pubs and bars      Whitefield  \n",
       "51714   Pubs and bars      Whitefield  \n",
       "51715   Pubs and bars      Whitefield  \n",
       "51716   Pubs and bars      Whitefield  \n",
       "\n",
       "[51717 rows x 18 columns]>"
      ]
     },
     "execution_count": 110,
     "metadata": {},
     "output_type": "execute_result"
    }
   ],
   "source": [
    "df.tail"
   ]
  },
  {
   "cell_type": "code",
   "execution_count": 111,
   "id": "36967d3e-085b-4d7f-ba6a-829202f69576",
   "metadata": {},
   "outputs": [
    {
     "data": {
      "text/plain": [
       "(51717, 18)"
      ]
     },
     "execution_count": 111,
     "metadata": {},
     "output_type": "execute_result"
    }
   ],
   "source": [
    "df.shape"
   ]
  },
  {
   "cell_type": "code",
   "execution_count": 112,
   "id": "b89aae7e-1c2e-4e3d-84fe-17532721a180",
   "metadata": {},
   "outputs": [
    {
     "data": {
      "text/plain": [
       "RangeIndex(start=0, stop=51717, step=1)"
      ]
     },
     "execution_count": 112,
     "metadata": {},
     "output_type": "execute_result"
    }
   ],
   "source": [
    "df.index"
   ]
  },
  {
   "cell_type": "code",
   "execution_count": 113,
   "id": "b3c448d6-8534-415f-b600-a2625356bbe6",
   "metadata": {},
   "outputs": [
    {
     "data": {
      "text/plain": [
       "0            0\n",
       "1            1\n",
       "2            2\n",
       "3            3\n",
       "4            4\n",
       "         ...  \n",
       "51712    51712\n",
       "51713    51713\n",
       "51714    51714\n",
       "51715    51715\n",
       "51716    51716\n",
       "Name: index, Length: 51717, dtype: int64"
      ]
     },
     "execution_count": 113,
     "metadata": {},
     "output_type": "execute_result"
    }
   ],
   "source": [
    "df['index']"
   ]
  },
  {
   "cell_type": "code",
   "execution_count": 114,
   "id": "d926cb5c-2b50-4399-852a-dadf766908ff",
   "metadata": {},
   "outputs": [
    {
     "data": {
      "text/html": [
       "<div>\n",
       "<style scoped>\n",
       "    .dataframe tbody tr th:only-of-type {\n",
       "        vertical-align: middle;\n",
       "    }\n",
       "\n",
       "    .dataframe tbody tr th {\n",
       "        vertical-align: top;\n",
       "    }\n",
       "\n",
       "    .dataframe thead th {\n",
       "        text-align: right;\n",
       "    }\n",
       "</style>\n",
       "<table border=\"1\" class=\"dataframe\">\n",
       "  <thead>\n",
       "    <tr style=\"text-align: right;\">\n",
       "      <th></th>\n",
       "      <th>index</th>\n",
       "      <th>rate</th>\n",
       "    </tr>\n",
       "  </thead>\n",
       "  <tbody>\n",
       "    <tr>\n",
       "      <th>0</th>\n",
       "      <td>0</td>\n",
       "      <td>4.1/5</td>\n",
       "    </tr>\n",
       "    <tr>\n",
       "      <th>1</th>\n",
       "      <td>1</td>\n",
       "      <td>4.1/5</td>\n",
       "    </tr>\n",
       "    <tr>\n",
       "      <th>2</th>\n",
       "      <td>2</td>\n",
       "      <td>3.8/5</td>\n",
       "    </tr>\n",
       "    <tr>\n",
       "      <th>3</th>\n",
       "      <td>3</td>\n",
       "      <td>3.7/5</td>\n",
       "    </tr>\n",
       "    <tr>\n",
       "      <th>4</th>\n",
       "      <td>4</td>\n",
       "      <td>3.8/5</td>\n",
       "    </tr>\n",
       "    <tr>\n",
       "      <th>...</th>\n",
       "      <td>...</td>\n",
       "      <td>...</td>\n",
       "    </tr>\n",
       "    <tr>\n",
       "      <th>51712</th>\n",
       "      <td>51712</td>\n",
       "      <td>3.6 /5</td>\n",
       "    </tr>\n",
       "    <tr>\n",
       "      <th>51713</th>\n",
       "      <td>51713</td>\n",
       "      <td>None</td>\n",
       "    </tr>\n",
       "    <tr>\n",
       "      <th>51714</th>\n",
       "      <td>51714</td>\n",
       "      <td>None</td>\n",
       "    </tr>\n",
       "    <tr>\n",
       "      <th>51715</th>\n",
       "      <td>51715</td>\n",
       "      <td>4.3 /5</td>\n",
       "    </tr>\n",
       "    <tr>\n",
       "      <th>51716</th>\n",
       "      <td>51716</td>\n",
       "      <td>3.4 /5</td>\n",
       "    </tr>\n",
       "  </tbody>\n",
       "</table>\n",
       "<p>51717 rows × 2 columns</p>\n",
       "</div>"
      ],
      "text/plain": [
       "       index    rate\n",
       "0          0   4.1/5\n",
       "1          1   4.1/5\n",
       "2          2   3.8/5\n",
       "3          3   3.7/5\n",
       "4          4   3.8/5\n",
       "...      ...     ...\n",
       "51712  51712  3.6 /5\n",
       "51713  51713    None\n",
       "51714  51714    None\n",
       "51715  51715  4.3 /5\n",
       "51716  51716  3.4 /5\n",
       "\n",
       "[51717 rows x 2 columns]"
      ]
     },
     "execution_count": 114,
     "metadata": {},
     "output_type": "execute_result"
    }
   ],
   "source": [
    "df[['index','rate']]"
   ]
  },
  {
   "cell_type": "code",
   "execution_count": 115,
   "id": "e69bc7e9-db4f-4d3e-913d-82656c1786d7",
   "metadata": {},
   "outputs": [
    {
     "data": {
      "text/html": [
       "<div>\n",
       "<style scoped>\n",
       "    .dataframe tbody tr th:only-of-type {\n",
       "        vertical-align: middle;\n",
       "    }\n",
       "\n",
       "    .dataframe tbody tr th {\n",
       "        vertical-align: top;\n",
       "    }\n",
       "\n",
       "    .dataframe thead th {\n",
       "        text-align: right;\n",
       "    }\n",
       "</style>\n",
       "<table border=\"1\" class=\"dataframe\">\n",
       "  <thead>\n",
       "    <tr style=\"text-align: right;\">\n",
       "      <th></th>\n",
       "      <th>index</th>\n",
       "      <th>rate</th>\n",
       "    </tr>\n",
       "  </thead>\n",
       "  <tbody>\n",
       "    <tr>\n",
       "      <th>0</th>\n",
       "      <td>0</td>\n",
       "      <td>4.1/5</td>\n",
       "    </tr>\n",
       "    <tr>\n",
       "      <th>1</th>\n",
       "      <td>1</td>\n",
       "      <td>4.1/5</td>\n",
       "    </tr>\n",
       "    <tr>\n",
       "      <th>2</th>\n",
       "      <td>2</td>\n",
       "      <td>3.8/5</td>\n",
       "    </tr>\n",
       "    <tr>\n",
       "      <th>3</th>\n",
       "      <td>3</td>\n",
       "      <td>3.7/5</td>\n",
       "    </tr>\n",
       "    <tr>\n",
       "      <th>4</th>\n",
       "      <td>4</td>\n",
       "      <td>3.8/5</td>\n",
       "    </tr>\n",
       "    <tr>\n",
       "      <th>5</th>\n",
       "      <td>5</td>\n",
       "      <td>3.8/5</td>\n",
       "    </tr>\n",
       "    <tr>\n",
       "      <th>6</th>\n",
       "      <td>6</td>\n",
       "      <td>3.6/5</td>\n",
       "    </tr>\n",
       "    <tr>\n",
       "      <th>7</th>\n",
       "      <td>7</td>\n",
       "      <td>4.6/5</td>\n",
       "    </tr>\n",
       "    <tr>\n",
       "      <th>8</th>\n",
       "      <td>8</td>\n",
       "      <td>4.0/5</td>\n",
       "    </tr>\n",
       "    <tr>\n",
       "      <th>9</th>\n",
       "      <td>9</td>\n",
       "      <td>4.2/5</td>\n",
       "    </tr>\n",
       "  </tbody>\n",
       "</table>\n",
       "</div>"
      ],
      "text/plain": [
       "   index   rate\n",
       "0      0  4.1/5\n",
       "1      1  4.1/5\n",
       "2      2  3.8/5\n",
       "3      3  3.7/5\n",
       "4      4  3.8/5\n",
       "5      5  3.8/5\n",
       "6      6  3.6/5\n",
       "7      7  4.6/5\n",
       "8      8  4.0/5\n",
       "9      9  4.2/5"
      ]
     },
     "execution_count": 115,
     "metadata": {},
     "output_type": "execute_result"
    }
   ],
   "source": [
    "df[['index','rate']][0:10]"
   ]
  },
  {
   "cell_type": "code",
   "execution_count": 116,
   "id": "c6d81db7-6516-484d-976e-15aaa8a9d19a",
   "metadata": {},
   "outputs": [
    {
     "data": {
      "text/plain": [
       "index       6\n",
       "votes    2568\n",
       "dtype: int64"
      ]
     },
     "execution_count": 116,
     "metadata": {},
     "output_type": "execute_result"
    }
   ],
   "source": [
    "df[['index','votes']][0:4].sum()"
   ]
  },
  {
   "cell_type": "code",
   "execution_count": 117,
   "id": "5602e329-1c72-4ff6-b3f3-7760508e9e49",
   "metadata": {},
   "outputs": [
    {
     "data": {
      "text/plain": [
       "0    775\n",
       "1    788\n",
       "2    920\n",
       "3     91\n",
       "dtype: int64"
      ]
     },
     "execution_count": 117,
     "metadata": {},
     "output_type": "execute_result"
    }
   ],
   "source": [
    "df[['index','votes']][0:4].sum(axis=1)"
   ]
  },
  {
   "cell_type": "code",
   "execution_count": 118,
   "id": "3e8f04dc-5ad2-4f06-8b0d-6d122d7b21b1",
   "metadata": {},
   "outputs": [],
   "source": [
    "describe = df.describe()"
   ]
  },
  {
   "cell_type": "code",
   "execution_count": 119,
   "id": "04954711-f13a-493c-a57a-f35447f7df1c",
   "metadata": {},
   "outputs": [
    {
     "data": {
      "text/html": [
       "<div>\n",
       "<style scoped>\n",
       "    .dataframe tbody tr th:only-of-type {\n",
       "        vertical-align: middle;\n",
       "    }\n",
       "\n",
       "    .dataframe tbody tr th {\n",
       "        vertical-align: top;\n",
       "    }\n",
       "\n",
       "    .dataframe thead th {\n",
       "        text-align: right;\n",
       "    }\n",
       "</style>\n",
       "<table border=\"1\" class=\"dataframe\">\n",
       "  <thead>\n",
       "    <tr style=\"text-align: right;\">\n",
       "      <th></th>\n",
       "      <th>index</th>\n",
       "      <th>votes</th>\n",
       "    </tr>\n",
       "  </thead>\n",
       "  <tbody>\n",
       "    <tr>\n",
       "      <th>count</th>\n",
       "      <td>51717.000000</td>\n",
       "      <td>51717.000000</td>\n",
       "    </tr>\n",
       "    <tr>\n",
       "      <th>mean</th>\n",
       "      <td>25858.000000</td>\n",
       "      <td>283.697527</td>\n",
       "    </tr>\n",
       "    <tr>\n",
       "      <th>std</th>\n",
       "      <td>14929.556273</td>\n",
       "      <td>803.838853</td>\n",
       "    </tr>\n",
       "    <tr>\n",
       "      <th>min</th>\n",
       "      <td>0.000000</td>\n",
       "      <td>0.000000</td>\n",
       "    </tr>\n",
       "    <tr>\n",
       "      <th>25%</th>\n",
       "      <td>12929.000000</td>\n",
       "      <td>7.000000</td>\n",
       "    </tr>\n",
       "    <tr>\n",
       "      <th>50%</th>\n",
       "      <td>25858.000000</td>\n",
       "      <td>41.000000</td>\n",
       "    </tr>\n",
       "    <tr>\n",
       "      <th>75%</th>\n",
       "      <td>38787.000000</td>\n",
       "      <td>198.000000</td>\n",
       "    </tr>\n",
       "    <tr>\n",
       "      <th>max</th>\n",
       "      <td>51716.000000</td>\n",
       "      <td>16832.000000</td>\n",
       "    </tr>\n",
       "  </tbody>\n",
       "</table>\n",
       "</div>"
      ],
      "text/plain": [
       "              index         votes\n",
       "count  51717.000000  51717.000000\n",
       "mean   25858.000000    283.697527\n",
       "std    14929.556273    803.838853\n",
       "min        0.000000      0.000000\n",
       "25%    12929.000000      7.000000\n",
       "50%    25858.000000     41.000000\n",
       "75%    38787.000000    198.000000\n",
       "max    51716.000000  16832.000000"
      ]
     },
     "execution_count": 119,
     "metadata": {},
     "output_type": "execute_result"
    }
   ],
   "source": [
    "describe"
   ]
  },
  {
   "cell_type": "code",
   "execution_count": 120,
   "id": "39f2967f-8d3f-4e70-8163-c708ca5fa8fc",
   "metadata": {},
   "outputs": [
    {
     "data": {
      "text/plain": [
       "' تا اینجا واکشی داده ها  و بررسی داده ها '"
      ]
     },
     "execution_count": 120,
     "metadata": {},
     "output_type": "execute_result"
    }
   ],
   "source": [
    "\"\"\" تا اینجا واکشی داده ها  و بررسی داده ها \"\"\""
   ]
  },
  {
   "cell_type": "code",
   "execution_count": 121,
   "id": "3c6e3076-e17d-400f-8a1b-b1d4d24a6f74",
   "metadata": {},
   "outputs": [
    {
     "data": {
      "text/plain": [
       "' از اینجا به بعد صحت سنجی و پیش پردازش دیتا '"
      ]
     },
     "execution_count": 121,
     "metadata": {},
     "output_type": "execute_result"
    }
   ],
   "source": [
    "\"\"\" از اینجا به بعد صحت سنجی و پیش پردازش دیتا \"\"\""
   ]
  },
  {
   "cell_type": "code",
   "execution_count": 122,
   "id": "f81df1ac-7bfe-4ac8-8fee-0a7398882c48",
   "metadata": {},
   "outputs": [],
   "source": [
    "dfnullcheck0 = df.dropna(axis=0)"
   ]
  },
  {
   "cell_type": "code",
   "execution_count": 123,
   "id": "61a50c11-85c8-46c7-bbd0-9208b61c2b76",
   "metadata": {},
   "outputs": [],
   "source": [
    "dfnullcheck1 = df.dropna(axis=1)"
   ]
  },
  {
   "cell_type": "code",
   "execution_count": 124,
   "id": "f10b2899-a937-44af-b197-96101e1d7b68",
   "metadata": {},
   "outputs": [
    {
     "data": {
      "text/plain": [
       "Index(['index', 'url', 'address', 'name', 'online_order', 'book_table', 'rate',\n",
       "       'votes', 'phone', 'location', 'rest_type', 'dish_liked', 'cuisines',\n",
       "       'approx_cost(for two people)', 'reviews_list', 'menu_item',\n",
       "       'listed_in(type)', 'listed_in(city)'],\n",
       "      dtype='object')"
      ]
     },
     "execution_count": 124,
     "metadata": {},
     "output_type": "execute_result"
    }
   ],
   "source": [
    "dfnullcheck0.columns"
   ]
  },
  {
   "cell_type": "code",
   "execution_count": 125,
   "id": "7a99399c-55bf-4560-8c27-3f20f71befac",
   "metadata": {},
   "outputs": [
    {
     "data": {
      "text/plain": [
       "(23193, 18)"
      ]
     },
     "execution_count": 125,
     "metadata": {},
     "output_type": "execute_result"
    }
   ],
   "source": [
    "dfnullcheck0.shape"
   ]
  },
  {
   "cell_type": "code",
   "execution_count": 126,
   "id": "c6a6f14f-81b3-4d99-ba75-574978a664c4",
   "metadata": {},
   "outputs": [
    {
     "data": {
      "text/plain": [
       "Index(['index', 'url', 'address', 'name', 'online_order', 'book_table',\n",
       "       'votes', 'reviews_list', 'menu_item', 'listed_in(type)',\n",
       "       'listed_in(city)'],\n",
       "      dtype='object')"
      ]
     },
     "execution_count": 126,
     "metadata": {},
     "output_type": "execute_result"
    }
   ],
   "source": [
    "dfnullcheck1.columns"
   ]
  },
  {
   "cell_type": "code",
   "execution_count": 127,
   "id": "6115b88f-6ad7-430a-8cd8-d683bdd8c07c",
   "metadata": {},
   "outputs": [
    {
     "data": {
      "text/plain": [
       "(51717, 11)"
      ]
     },
     "execution_count": 127,
     "metadata": {},
     "output_type": "execute_result"
    }
   ],
   "source": [
    "dfnullcheck1.shape"
   ]
  },
  {
   "cell_type": "code",
   "execution_count": 128,
   "id": "500bc78d-3285-422b-8f40-924df1b36d35",
   "metadata": {},
   "outputs": [
    {
     "data": {
      "text/plain": [
       "index                              0\n",
       "url                                0\n",
       "address                            0\n",
       "name                               0\n",
       "online_order                       0\n",
       "book_table                         0\n",
       "rate                            7775\n",
       "votes                              0\n",
       "phone                           1208\n",
       "location                          21\n",
       "rest_type                        227\n",
       "dish_liked                     28078\n",
       "cuisines                          45\n",
       "approx_cost(for two people)      346\n",
       "reviews_list                       0\n",
       "menu_item                          0\n",
       "listed_in(type)                    0\n",
       "listed_in(city)                    0\n",
       "dtype: int64"
      ]
     },
     "execution_count": 128,
     "metadata": {},
     "output_type": "execute_result"
    }
   ],
   "source": [
    "df.isnull().sum()"
   ]
  },
  {
   "cell_type": "code",
   "execution_count": 129,
   "id": "ecd8f281-17e5-4b17-8c6e-77ec5f27101f",
   "metadata": {},
   "outputs": [
    {
     "data": {
      "text/plain": [
       "index                          0\n",
       "url                            0\n",
       "address                        0\n",
       "name                           0\n",
       "online_order                   0\n",
       "book_table                     0\n",
       "rate                           0\n",
       "votes                          0\n",
       "phone                          0\n",
       "location                       0\n",
       "rest_type                      0\n",
       "dish_liked                     0\n",
       "cuisines                       0\n",
       "approx_cost(for two people)    0\n",
       "reviews_list                   0\n",
       "menu_item                      0\n",
       "listed_in(type)                0\n",
       "listed_in(city)                0\n",
       "dtype: int64"
      ]
     },
     "execution_count": 129,
     "metadata": {},
     "output_type": "execute_result"
    }
   ],
   "source": [
    "dfnullcheck0.isnull().sum()"
   ]
  },
  {
   "cell_type": "code",
   "execution_count": 130,
   "id": "7d1357d0-3e21-4de1-8028-895d9e0bfe3a",
   "metadata": {},
   "outputs": [
    {
     "data": {
      "text/plain": [
       "index              0\n",
       "url                0\n",
       "address            0\n",
       "name               0\n",
       "online_order       0\n",
       "book_table         0\n",
       "votes              0\n",
       "reviews_list       0\n",
       "menu_item          0\n",
       "listed_in(type)    0\n",
       "listed_in(city)    0\n",
       "dtype: int64"
      ]
     },
     "execution_count": 130,
     "metadata": {},
     "output_type": "execute_result"
    }
   ],
   "source": [
    "dfnullcheck1.isnull().sum()"
   ]
  },
  {
   "cell_type": "code",
   "execution_count": 131,
   "id": "1c57a412-128e-4841-908a-98e0a6de4378",
   "metadata": {},
   "outputs": [],
   "source": [
    "feature_na =[]\n",
    "for feature in df.columns:\n",
    " if df[feature].isnull().sum()>1 :\n",
    "  feature_na.append(feature)   \n",
    "     "
   ]
  },
  {
   "cell_type": "code",
   "execution_count": 132,
   "id": "dc2cbc01-7f6f-4690-adb5-5bd648626af9",
   "metadata": {},
   "outputs": [
    {
     "data": {
      "text/plain": [
       "['rate',\n",
       " 'phone',\n",
       " 'location',\n",
       " 'rest_type',\n",
       " 'dish_liked',\n",
       " 'cuisines',\n",
       " 'approx_cost(for two people)']"
      ]
     },
     "execution_count": 132,
     "metadata": {},
     "output_type": "execute_result"
    }
   ],
   "source": [
    "feature_na"
   ]
  },
  {
   "cell_type": "code",
   "execution_count": 133,
   "id": "6199bb8b-d9ac-4d17-bd71-7bd815b3d952",
   "metadata": {},
   "outputs": [
    {
     "name": "stdout",
     "output_type": "stream",
     "text": [
      " rate has 15.034% missing value.\n",
      " phone has 2.336% missing value.\n",
      " location has 0.041% missing value.\n",
      " rest_type has 0.439% missing value.\n",
      " dish_liked has 54.292% missing value.\n",
      " cuisines has 0.087% missing value.\n",
      " approx_cost(for two people) has 0.669% missing value.\n"
     ]
    }
   ],
   "source": [
    "for f in feature_na :\n",
    " print(' {} has {}% missing value.' .format(f,round(df[f].isnull().sum()/len(df)*100,3)))"
   ]
  },
  {
   "cell_type": "code",
   "execution_count": 134,
   "id": "6ffe2f64-075e-4cd2-a85f-51368fc35dc5",
   "metadata": {},
   "outputs": [
    {
     "data": {
      "text/plain": [
       "' در اینجا به این نتیجه رسیدم که با توجه به اینکه ستون دیش لایک بیش از 50 درصد دیتای نال دارد عملا در تحلیل داده کاربردی ندارد و لذا از مدار محاسبات باید خارج شود'"
      ]
     },
     "execution_count": 134,
     "metadata": {},
     "output_type": "execute_result"
    }
   ],
   "source": [
    "\"\"\" در اینجا به این نتیجه رسیدم که با توجه به اینکه ستون دیش لایک بیش از 50 درصد دیتای نال دارد عملا در تحلیل داده کاربردی ندارد و لذا از مدار محاسبات باید خارج شود\"\"\""
   ]
  },
  {
   "cell_type": "code",
   "execution_count": 135,
   "id": "d29224d5-3d22-4180-95be-69285c207805",
   "metadata": {},
   "outputs": [
    {
     "data": {
      "text/plain": [
       "' از اینجا به بعد پاکسازی داده '"
      ]
     },
     "execution_count": 135,
     "metadata": {},
     "output_type": "execute_result"
    }
   ],
   "source": [
    "\"\"\" از اینجا به بعد پاکسازی داده \"\"\""
   ]
  },
  {
   "cell_type": "code",
   "execution_count": 136,
   "id": "5ac34a0e-5af3-4281-96c9-3f56f16ab061",
   "metadata": {},
   "outputs": [
    {
     "data": {
      "text/plain": [
       "index                           int64\n",
       "url                            object\n",
       "address                        object\n",
       "name                           object\n",
       "online_order                   object\n",
       "book_table                     object\n",
       "rate                           object\n",
       "votes                           int64\n",
       "phone                          object\n",
       "location                       object\n",
       "rest_type                      object\n",
       "dish_liked                     object\n",
       "cuisines                       object\n",
       "approx_cost(for two people)    object\n",
       "reviews_list                   object\n",
       "menu_item                      object\n",
       "listed_in(type)                object\n",
       "listed_in(city)                object\n",
       "dtype: object"
      ]
     },
     "execution_count": 136,
     "metadata": {},
     "output_type": "execute_result"
    }
   ],
   "source": [
    "df.dtypes"
   ]
  },
  {
   "cell_type": "code",
   "execution_count": 137,
   "id": "1a0a6649-48bb-4fcf-a34d-74d4e2d32e78",
   "metadata": {},
   "outputs": [
    {
     "data": {
      "text/plain": [
       "0          800\n",
       "1          800\n",
       "2          800\n",
       "3          300\n",
       "4          600\n",
       "         ...  \n",
       "51712    1,500\n",
       "51713      600\n",
       "51714    2,000\n",
       "51715    2,500\n",
       "51716    1,500\n",
       "Name: approx_cost(for two people), Length: 51717, dtype: object"
      ]
     },
     "execution_count": 137,
     "metadata": {},
     "output_type": "execute_result"
    }
   ],
   "source": [
    "df['approx_cost(for two people)'] # بررسی علت اینکه نوع داده آبجت ثبت شده \n"
   ]
  },
  {
   "cell_type": "code",
   "execution_count": 138,
   "id": "2996ed18-29bf-4138-aaf1-5a37392d0237",
   "metadata": {},
   "outputs": [
    {
     "data": {
      "text/plain": [
       "'در اینجا می بینیم که ردیف های انتهایی عدد با کاما جدا شده '"
      ]
     },
     "execution_count": 138,
     "metadata": {},
     "output_type": "execute_result"
    }
   ],
   "source": [
    "\"\"\"در اینجا می بینیم که ردیف های انتهایی عدد با کاما جدا شده \"\"\""
   ]
  },
  {
   "cell_type": "code",
   "execution_count": 139,
   "id": "0ffa975c-d695-423b-97cc-66d05f5fc2f0",
   "metadata": {},
   "outputs": [
    {
     "data": {
      "text/plain": [
       "0        False\n",
       "1        False\n",
       "2        False\n",
       "3        False\n",
       "4        False\n",
       "         ...  \n",
       "51712    False\n",
       "51713    False\n",
       "51714    False\n",
       "51715    False\n",
       "51716    False\n",
       "Name: approx_cost(for two people), Length: 51717, dtype: bool"
      ]
     },
     "execution_count": 139,
     "metadata": {},
     "output_type": "execute_result"
    }
   ],
   "source": [
    "df['approx_cost(for two people)'].isnull() # بررسی وجود نال در این ستون"
   ]
  },
  {
   "cell_type": "code",
   "execution_count": 140,
   "id": "387ab4d1-e63a-4996-b7ff-f9c1691cefb3",
   "metadata": {},
   "outputs": [
    {
     "data": {
      "text/plain": [
       "346"
      ]
     },
     "execution_count": 140,
     "metadata": {},
     "output_type": "execute_result"
    }
   ],
   "source": [
    "df['approx_cost(for two people)'].isnull().sum() # تعداد ردیف های نال در این ستون"
   ]
  },
  {
   "cell_type": "code",
   "execution_count": 141,
   "id": "3788e37c-ea84-45c5-880b-74796d4bd6b2",
   "metadata": {},
   "outputs": [
    {
     "data": {
      "text/plain": [
       "array(['800', '300', '600', '700', '550', '500', '450', '650', '400',\n",
       "       '900', '200', '750', '150', '850', '100', '1,200', '350', '250',\n",
       "       '950', '1,000', '1,500', '1,300', '199', '80', '1,100', '160',\n",
       "       '1,600', '230', '130', '50', '190', '1,700', None, '1,400', '180',\n",
       "       '1,350', '2,200', '2,000', '1,800', '1,900', '330', '2,500',\n",
       "       '2,100', '3,000', '2,800', '3,400', '40', '1,250', '3,500',\n",
       "       '4,000', '2,400', '2,600', '120', '1,450', '469', '70', '3,200',\n",
       "       '60', '560', '240', '360', '6,000', '1,050', '2,300', '4,100',\n",
       "       '5,000', '3,700', '1,650', '2,700', '4,500', '140'], dtype=object)"
      ]
     },
     "execution_count": 141,
     "metadata": {},
     "output_type": "execute_result"
    }
   ],
   "source": [
    "df['approx_cost(for two people)'].unique() # داده ها را به صورت یونیک فراخوانی کردم که ببینم کدام داده عددی نیستند \n"
   ]
  },
  {
   "cell_type": "code",
   "execution_count": 142,
   "id": "aa57736b-678f-4bb0-acd4-ff15d93eedd9",
   "metadata": {},
   "outputs": [
    {
     "data": {
      "text/plain": [
       "'مرحله بعدی داده ها را به رشته تبدیل می کنم که بعد بتوانم کاما را از آن خارج کنم '"
      ]
     },
     "execution_count": 142,
     "metadata": {},
     "output_type": "execute_result"
    }
   ],
   "source": [
    "\"\"\"مرحله بعدی داده ها را به رشته تبدیل می کنم که بعد بتوانم کاما را از آن خارج کنم \"\"\""
   ]
  },
  {
   "cell_type": "code",
   "execution_count": 143,
   "id": "eb34ae6a-b4db-4c29-a833-320555d56d90",
   "metadata": {},
   "outputs": [
    {
     "data": {
      "text/plain": [
       "0         800\n",
       "1         800\n",
       "2         800\n",
       "3         300\n",
       "4         600\n",
       "         ... \n",
       "51712    1500\n",
       "51713     600\n",
       "51714    2000\n",
       "51715    2500\n",
       "51716    1500\n",
       "Name: approx_cost(for two people), Length: 51717, dtype: object"
      ]
     },
     "execution_count": 143,
     "metadata": {},
     "output_type": "execute_result"
    }
   ],
   "source": [
    "df['approx_cost(for two people)'].astype(str).apply(lambda x:x.replace(',',''))\n"
   ]
  },
  {
   "cell_type": "code",
   "execution_count": 144,
   "id": "71ab6d93-dff0-4aae-92f7-4c7937fdb7dc",
   "metadata": {},
   "outputs": [
    {
     "data": {
      "text/plain": [
       "'تا اینجا کاما خارج شد اما برای راحتی کار مرحله بعدی یک متد تعریف می کنم که با استفاده از آن متد پاکسازی کاما از دل عدد راحت باشد'"
      ]
     },
     "execution_count": 144,
     "metadata": {},
     "output_type": "execute_result"
    }
   ],
   "source": [
    "\"\"\"تا اینجا کاما خارج شد اما برای راحتی کار مرحله بعدی یک متد تعریف می کنم که با استفاده از آن متد پاکسازی کاما از دل عدد راحت باشد\"\"\""
   ]
  },
  {
   "cell_type": "code",
   "execution_count": 145,
   "id": "8241a872-6161-4c9f-b56f-734735015760",
   "metadata": {},
   "outputs": [],
   "source": [
    "def remove_comma (x):\n",
    "    return x.replace (',','')"
   ]
  },
  {
   "cell_type": "code",
   "execution_count": 146,
   "id": "2de715ac-db79-4bae-ba6b-6b794636504a",
   "metadata": {},
   "outputs": [
    {
     "data": {
      "text/plain": [
       "'در همان ستون قبلی متد حذف کاما که نوشتم را اجرا می کنم '"
      ]
     },
     "execution_count": 146,
     "metadata": {},
     "output_type": "execute_result"
    }
   ],
   "source": [
    "\"\"\"در همان ستون قبلی متد حذف کاما که نوشتم را اجرا می کنم \"\"\""
   ]
  },
  {
   "cell_type": "code",
   "execution_count": 147,
   "id": "6f3b1460-fb39-42ff-9bcc-cf8fe682c241",
   "metadata": {},
   "outputs": [
    {
     "data": {
      "text/plain": [
       "0         800\n",
       "1         800\n",
       "2         800\n",
       "3         300\n",
       "4         600\n",
       "         ... \n",
       "51712    1500\n",
       "51713     600\n",
       "51714    2000\n",
       "51715    2500\n",
       "51716    1500\n",
       "Name: approx_cost(for two people), Length: 51717, dtype: object"
      ]
     },
     "execution_count": 147,
     "metadata": {},
     "output_type": "execute_result"
    }
   ],
   "source": [
    "df['approx_cost(for two people)'].astype(str).apply(remove_comma)"
   ]
  },
  {
   "cell_type": "code",
   "execution_count": 148,
   "id": "b1b08a6f-21ba-4d79-af60-45bdfcb6f22d",
   "metadata": {},
   "outputs": [
    {
     "data": {
      "text/plain": [
       "'داده ها را برای اینکه ذخیره شوند در یک دیتا فریم ذخیره می کنم '"
      ]
     },
     "execution_count": 148,
     "metadata": {},
     "output_type": "execute_result"
    }
   ],
   "source": [
    "\"\"\"داده ها را برای اینکه ذخیره شوند در یک دیتا فریم ذخیره می کنم \"\"\""
   ]
  },
  {
   "cell_type": "code",
   "execution_count": 149,
   "id": "ffa9252d-8be9-4ee7-861a-e84d039e903e",
   "metadata": {},
   "outputs": [],
   "source": [
    "df['approx_cost(for two people)'] = df['approx_cost(for two people)'].astype(str).apply(remove_comma)"
   ]
  },
  {
   "cell_type": "code",
   "execution_count": 150,
   "id": "754ca1be-0b7f-47f7-9258-157840510a04",
   "metadata": {},
   "outputs": [
    {
     "data": {
      "text/plain": [
       "0         800\n",
       "1         800\n",
       "2         800\n",
       "3         300\n",
       "4         600\n",
       "         ... \n",
       "51712    1500\n",
       "51713     600\n",
       "51714    2000\n",
       "51715    2500\n",
       "51716    1500\n",
       "Name: approx_cost(for two people), Length: 51717, dtype: object"
      ]
     },
     "execution_count": 150,
     "metadata": {},
     "output_type": "execute_result"
    }
   ],
   "source": [
    "df['approx_cost(for two people)']"
   ]
  },
  {
   "cell_type": "code",
   "execution_count": 151,
   "id": "397e64af-6409-4ccd-9d03-d7463e999c90",
   "metadata": {},
   "outputs": [
    {
     "data": {
      "text/plain": [
       "'حالا که کاما حذف شد میتوانم نوع داده آبجکت را به فلوت تبدیل کنم\\n'"
      ]
     },
     "execution_count": 151,
     "metadata": {},
     "output_type": "execute_result"
    }
   ],
   "source": [
    "\"\"\"حالا که کاما حذف شد میتوانم نوع داده آبجکت را به فلوت تبدیل کنم\n",
    "\"\"\""
   ]
  },
  {
   "cell_type": "code",
   "execution_count": 152,
   "id": "84925f33-f40e-44db-ab5f-ad98da8744f2",
   "metadata": {},
   "outputs": [],
   "source": [
    "df['approx_cost(for two people)'] = pd.to_numeric(df['approx_cost(for two people)'], errors='coerce').astype(float)\n",
    "\n"
   ]
  },
  {
   "cell_type": "code",
   "execution_count": 153,
   "id": "f90dc64e-635a-4667-be87-e2bd3790ed6b",
   "metadata": {},
   "outputs": [
    {
     "data": {
      "text/plain": [
       "dtype('float64')"
      ]
     },
     "execution_count": 153,
     "metadata": {},
     "output_type": "execute_result"
    }
   ],
   "source": [
    "df['approx_cost(for two people)'].dtype"
   ]
  },
  {
   "cell_type": "code",
   "execution_count": 154,
   "id": "c5bc23dd-1826-40c8-bd6f-f1773150acc3",
   "metadata": {},
   "outputs": [
    {
     "data": {
      "text/plain": [
       "index                            int64\n",
       "url                             object\n",
       "address                         object\n",
       "name                            object\n",
       "online_order                    object\n",
       "book_table                      object\n",
       "rate                            object\n",
       "votes                            int64\n",
       "phone                           object\n",
       "location                        object\n",
       "rest_type                       object\n",
       "dish_liked                      object\n",
       "cuisines                        object\n",
       "approx_cost(for two people)    float64\n",
       "reviews_list                    object\n",
       "menu_item                       object\n",
       "listed_in(type)                 object\n",
       "listed_in(city)                 object\n",
       "dtype: object"
      ]
     },
     "execution_count": 154,
     "metadata": {},
     "output_type": "execute_result"
    }
   ],
   "source": [
    "df.dtypes"
   ]
  },
  {
   "cell_type": "code",
   "execution_count": 155,
   "id": "fe52b097-8791-46da-a5ef-01c653055ffe",
   "metadata": {},
   "outputs": [
    {
     "data": {
      "text/plain": [
       "'تا اینجا نوع داده را تغییر دادیم حالا ستون دیش لایک که بالاتر گفتم باید حذف شود دراپ می کنم'"
      ]
     },
     "execution_count": 155,
     "metadata": {},
     "output_type": "execute_result"
    }
   ],
   "source": [
    "\"\"\"تا اینجا نوع داده را تغییر دادیم حالا ستون دیش لایک که بالاتر گفتم باید حذف شود دراپ می کنم\"\"\""
   ]
  },
  {
   "cell_type": "code",
   "execution_count": 156,
   "id": "f17c2249-161d-489d-9f0c-bf28de1473c4",
   "metadata": {},
   "outputs": [
    {
     "data": {
      "text/html": [
       "<div>\n",
       "<style scoped>\n",
       "    .dataframe tbody tr th:only-of-type {\n",
       "        vertical-align: middle;\n",
       "    }\n",
       "\n",
       "    .dataframe tbody tr th {\n",
       "        vertical-align: top;\n",
       "    }\n",
       "\n",
       "    .dataframe thead th {\n",
       "        text-align: right;\n",
       "    }\n",
       "</style>\n",
       "<table border=\"1\" class=\"dataframe\">\n",
       "  <thead>\n",
       "    <tr style=\"text-align: right;\">\n",
       "      <th></th>\n",
       "      <th>index</th>\n",
       "      <th>url</th>\n",
       "      <th>address</th>\n",
       "      <th>name</th>\n",
       "      <th>online_order</th>\n",
       "      <th>book_table</th>\n",
       "      <th>rate</th>\n",
       "      <th>votes</th>\n",
       "      <th>phone</th>\n",
       "      <th>location</th>\n",
       "      <th>rest_type</th>\n",
       "      <th>cuisines</th>\n",
       "      <th>approx_cost(for two people)</th>\n",
       "      <th>reviews_list</th>\n",
       "      <th>menu_item</th>\n",
       "      <th>listed_in(type)</th>\n",
       "      <th>listed_in(city)</th>\n",
       "    </tr>\n",
       "  </thead>\n",
       "  <tbody>\n",
       "    <tr>\n",
       "      <th>0</th>\n",
       "      <td>0</td>\n",
       "      <td>https://www.zomato.com/bangalore/jalsa-banasha...</td>\n",
       "      <td>942, 21st Main Road, 2nd Stage, Banashankari, ...</td>\n",
       "      <td>Jalsa</td>\n",
       "      <td>Yes</td>\n",
       "      <td>Yes</td>\n",
       "      <td>4.1/5</td>\n",
       "      <td>775</td>\n",
       "      <td>080 42297555\\r\\n+91 9743772233</td>\n",
       "      <td>Banashankari</td>\n",
       "      <td>Casual Dining</td>\n",
       "      <td>North Indian, Mughlai, Chinese</td>\n",
       "      <td>800.0</td>\n",
       "      <td>[('Rated 4.0', 'RATED\\n  A beautiful place to ...</td>\n",
       "      <td>[]</td>\n",
       "      <td>Buffet</td>\n",
       "      <td>Banashankari</td>\n",
       "    </tr>\n",
       "    <tr>\n",
       "      <th>1</th>\n",
       "      <td>1</td>\n",
       "      <td>https://www.zomato.com/bangalore/spice-elephan...</td>\n",
       "      <td>2nd Floor, 80 Feet Road, Near Big Bazaar, 6th ...</td>\n",
       "      <td>Spice Elephant</td>\n",
       "      <td>Yes</td>\n",
       "      <td>No</td>\n",
       "      <td>4.1/5</td>\n",
       "      <td>787</td>\n",
       "      <td>080 41714161</td>\n",
       "      <td>Banashankari</td>\n",
       "      <td>Casual Dining</td>\n",
       "      <td>Chinese, North Indian, Thai</td>\n",
       "      <td>800.0</td>\n",
       "      <td>[('Rated 4.0', 'RATED\\n  Had been here for din...</td>\n",
       "      <td>[]</td>\n",
       "      <td>Buffet</td>\n",
       "      <td>Banashankari</td>\n",
       "    </tr>\n",
       "    <tr>\n",
       "      <th>2</th>\n",
       "      <td>2</td>\n",
       "      <td>https://www.zomato.com/SanchurroBangalore?cont...</td>\n",
       "      <td>1112, Next to KIMS Medical College, 17th Cross...</td>\n",
       "      <td>San Churro Cafe</td>\n",
       "      <td>Yes</td>\n",
       "      <td>No</td>\n",
       "      <td>3.8/5</td>\n",
       "      <td>918</td>\n",
       "      <td>+91 9663487993</td>\n",
       "      <td>Banashankari</td>\n",
       "      <td>Cafe, Casual Dining</td>\n",
       "      <td>Cafe, Mexican, Italian</td>\n",
       "      <td>800.0</td>\n",
       "      <td>[('Rated 3.0', \"RATED\\n  Ambience is not that ...</td>\n",
       "      <td>[]</td>\n",
       "      <td>Buffet</td>\n",
       "      <td>Banashankari</td>\n",
       "    </tr>\n",
       "    <tr>\n",
       "      <th>3</th>\n",
       "      <td>3</td>\n",
       "      <td>https://www.zomato.com/bangalore/addhuri-udupi...</td>\n",
       "      <td>1st Floor, Annakuteera, 3rd Stage, Banashankar...</td>\n",
       "      <td>Addhuri Udupi Bhojana</td>\n",
       "      <td>No</td>\n",
       "      <td>No</td>\n",
       "      <td>3.7/5</td>\n",
       "      <td>88</td>\n",
       "      <td>+91 9620009302</td>\n",
       "      <td>Banashankari</td>\n",
       "      <td>Quick Bites</td>\n",
       "      <td>South Indian, North Indian</td>\n",
       "      <td>300.0</td>\n",
       "      <td>[('Rated 4.0', \"RATED\\n  Great food and proper...</td>\n",
       "      <td>[]</td>\n",
       "      <td>Buffet</td>\n",
       "      <td>Banashankari</td>\n",
       "    </tr>\n",
       "    <tr>\n",
       "      <th>4</th>\n",
       "      <td>4</td>\n",
       "      <td>https://www.zomato.com/bangalore/grand-village...</td>\n",
       "      <td>10, 3rd Floor, Lakshmi Associates, Gandhi Baza...</td>\n",
       "      <td>Grand Village</td>\n",
       "      <td>No</td>\n",
       "      <td>No</td>\n",
       "      <td>3.8/5</td>\n",
       "      <td>166</td>\n",
       "      <td>+91 8026612447\\r\\n+91 9901210005</td>\n",
       "      <td>Basavanagudi</td>\n",
       "      <td>Casual Dining</td>\n",
       "      <td>North Indian, Rajasthani</td>\n",
       "      <td>600.0</td>\n",
       "      <td>[('Rated 4.0', 'RATED\\n  Very good restaurant ...</td>\n",
       "      <td>[]</td>\n",
       "      <td>Buffet</td>\n",
       "      <td>Banashankari</td>\n",
       "    </tr>\n",
       "    <tr>\n",
       "      <th>...</th>\n",
       "      <td>...</td>\n",
       "      <td>...</td>\n",
       "      <td>...</td>\n",
       "      <td>...</td>\n",
       "      <td>...</td>\n",
       "      <td>...</td>\n",
       "      <td>...</td>\n",
       "      <td>...</td>\n",
       "      <td>...</td>\n",
       "      <td>...</td>\n",
       "      <td>...</td>\n",
       "      <td>...</td>\n",
       "      <td>...</td>\n",
       "      <td>...</td>\n",
       "      <td>...</td>\n",
       "      <td>...</td>\n",
       "      <td>...</td>\n",
       "    </tr>\n",
       "    <tr>\n",
       "      <th>51712</th>\n",
       "      <td>51712</td>\n",
       "      <td>https://www.zomato.com/bangalore/best-brews-fo...</td>\n",
       "      <td>Four Points by Sheraton Bengaluru, 43/3, White...</td>\n",
       "      <td>Best Brews - Four Points by Sheraton Bengaluru...</td>\n",
       "      <td>No</td>\n",
       "      <td>No</td>\n",
       "      <td>3.6 /5</td>\n",
       "      <td>27</td>\n",
       "      <td>080 40301477</td>\n",
       "      <td>Whitefield</td>\n",
       "      <td>Bar</td>\n",
       "      <td>Continental</td>\n",
       "      <td>1500.0</td>\n",
       "      <td>[('Rated 5.0', \"RATED\\n  Food and service are ...</td>\n",
       "      <td>[]</td>\n",
       "      <td>Pubs and bars</td>\n",
       "      <td>Whitefield</td>\n",
       "    </tr>\n",
       "    <tr>\n",
       "      <th>51713</th>\n",
       "      <td>51713</td>\n",
       "      <td>https://www.zomato.com/bangalore/vinod-bar-and...</td>\n",
       "      <td>Number 10, Garudachar Palya, Mahadevapura, Whi...</td>\n",
       "      <td>Vinod Bar And Restaurant</td>\n",
       "      <td>No</td>\n",
       "      <td>No</td>\n",
       "      <td>None</td>\n",
       "      <td>0</td>\n",
       "      <td>+91 8197675843</td>\n",
       "      <td>Whitefield</td>\n",
       "      <td>Bar</td>\n",
       "      <td>Finger Food</td>\n",
       "      <td>600.0</td>\n",
       "      <td>[]</td>\n",
       "      <td>[]</td>\n",
       "      <td>Pubs and bars</td>\n",
       "      <td>Whitefield</td>\n",
       "    </tr>\n",
       "    <tr>\n",
       "      <th>51714</th>\n",
       "      <td>51714</td>\n",
       "      <td>https://www.zomato.com/bangalore/plunge-sherat...</td>\n",
       "      <td>Sheraton Grand Bengaluru Whitefield Hotel &amp; Co...</td>\n",
       "      <td>Plunge - Sheraton Grand Bengaluru Whitefield H...</td>\n",
       "      <td>No</td>\n",
       "      <td>No</td>\n",
       "      <td>None</td>\n",
       "      <td>0</td>\n",
       "      <td>None</td>\n",
       "      <td>Whitefield</td>\n",
       "      <td>Bar</td>\n",
       "      <td>Finger Food</td>\n",
       "      <td>2000.0</td>\n",
       "      <td>[]</td>\n",
       "      <td>[]</td>\n",
       "      <td>Pubs and bars</td>\n",
       "      <td>Whitefield</td>\n",
       "    </tr>\n",
       "    <tr>\n",
       "      <th>51715</th>\n",
       "      <td>51715</td>\n",
       "      <td>https://www.zomato.com/bangalore/chime-sherato...</td>\n",
       "      <td>Sheraton Grand Bengaluru Whitefield Hotel &amp; Co...</td>\n",
       "      <td>Chime - Sheraton Grand Bengaluru Whitefield Ho...</td>\n",
       "      <td>No</td>\n",
       "      <td>Yes</td>\n",
       "      <td>4.3 /5</td>\n",
       "      <td>236</td>\n",
       "      <td>080 49652769</td>\n",
       "      <td>ITPL Main Road, Whitefield</td>\n",
       "      <td>Bar</td>\n",
       "      <td>Finger Food</td>\n",
       "      <td>2500.0</td>\n",
       "      <td>[('Rated 4.0', 'RATED\\n  Nice and friendly pla...</td>\n",
       "      <td>[]</td>\n",
       "      <td>Pubs and bars</td>\n",
       "      <td>Whitefield</td>\n",
       "    </tr>\n",
       "    <tr>\n",
       "      <th>51716</th>\n",
       "      <td>51716</td>\n",
       "      <td>https://www.zomato.com/bangalore/the-nest-the-...</td>\n",
       "      <td>ITPL Main Road, KIADB Export Promotion Industr...</td>\n",
       "      <td>The Nest - The Den Bengaluru</td>\n",
       "      <td>No</td>\n",
       "      <td>No</td>\n",
       "      <td>3.4 /5</td>\n",
       "      <td>13</td>\n",
       "      <td>+91 8071117272</td>\n",
       "      <td>ITPL Main Road, Whitefield</td>\n",
       "      <td>Bar, Casual Dining</td>\n",
       "      <td>Finger Food, North Indian, Continental</td>\n",
       "      <td>1500.0</td>\n",
       "      <td>[('Rated 5.0', 'RATED\\n  Great ambience , look...</td>\n",
       "      <td>[]</td>\n",
       "      <td>Pubs and bars</td>\n",
       "      <td>Whitefield</td>\n",
       "    </tr>\n",
       "  </tbody>\n",
       "</table>\n",
       "<p>51717 rows × 17 columns</p>\n",
       "</div>"
      ],
      "text/plain": [
       "       index                                                url  \\\n",
       "0          0  https://www.zomato.com/bangalore/jalsa-banasha...   \n",
       "1          1  https://www.zomato.com/bangalore/spice-elephan...   \n",
       "2          2  https://www.zomato.com/SanchurroBangalore?cont...   \n",
       "3          3  https://www.zomato.com/bangalore/addhuri-udupi...   \n",
       "4          4  https://www.zomato.com/bangalore/grand-village...   \n",
       "...      ...                                                ...   \n",
       "51712  51712  https://www.zomato.com/bangalore/best-brews-fo...   \n",
       "51713  51713  https://www.zomato.com/bangalore/vinod-bar-and...   \n",
       "51714  51714  https://www.zomato.com/bangalore/plunge-sherat...   \n",
       "51715  51715  https://www.zomato.com/bangalore/chime-sherato...   \n",
       "51716  51716  https://www.zomato.com/bangalore/the-nest-the-...   \n",
       "\n",
       "                                                 address  \\\n",
       "0      942, 21st Main Road, 2nd Stage, Banashankari, ...   \n",
       "1      2nd Floor, 80 Feet Road, Near Big Bazaar, 6th ...   \n",
       "2      1112, Next to KIMS Medical College, 17th Cross...   \n",
       "3      1st Floor, Annakuteera, 3rd Stage, Banashankar...   \n",
       "4      10, 3rd Floor, Lakshmi Associates, Gandhi Baza...   \n",
       "...                                                  ...   \n",
       "51712  Four Points by Sheraton Bengaluru, 43/3, White...   \n",
       "51713  Number 10, Garudachar Palya, Mahadevapura, Whi...   \n",
       "51714  Sheraton Grand Bengaluru Whitefield Hotel & Co...   \n",
       "51715  Sheraton Grand Bengaluru Whitefield Hotel & Co...   \n",
       "51716  ITPL Main Road, KIADB Export Promotion Industr...   \n",
       "\n",
       "                                                    name online_order  \\\n",
       "0                                                  Jalsa          Yes   \n",
       "1                                         Spice Elephant          Yes   \n",
       "2                                        San Churro Cafe          Yes   \n",
       "3                                  Addhuri Udupi Bhojana           No   \n",
       "4                                          Grand Village           No   \n",
       "...                                                  ...          ...   \n",
       "51712  Best Brews - Four Points by Sheraton Bengaluru...           No   \n",
       "51713                           Vinod Bar And Restaurant           No   \n",
       "51714  Plunge - Sheraton Grand Bengaluru Whitefield H...           No   \n",
       "51715  Chime - Sheraton Grand Bengaluru Whitefield Ho...           No   \n",
       "51716                       The Nest - The Den Bengaluru           No   \n",
       "\n",
       "      book_table    rate  votes                             phone  \\\n",
       "0            Yes   4.1/5    775    080 42297555\\r\\n+91 9743772233   \n",
       "1             No   4.1/5    787                      080 41714161   \n",
       "2             No   3.8/5    918                    +91 9663487993   \n",
       "3             No   3.7/5     88                    +91 9620009302   \n",
       "4             No   3.8/5    166  +91 8026612447\\r\\n+91 9901210005   \n",
       "...          ...     ...    ...                               ...   \n",
       "51712         No  3.6 /5     27                      080 40301477   \n",
       "51713         No    None      0                    +91 8197675843   \n",
       "51714         No    None      0                              None   \n",
       "51715        Yes  4.3 /5    236                      080 49652769   \n",
       "51716         No  3.4 /5     13                    +91 8071117272   \n",
       "\n",
       "                         location            rest_type  \\\n",
       "0                    Banashankari        Casual Dining   \n",
       "1                    Banashankari        Casual Dining   \n",
       "2                    Banashankari  Cafe, Casual Dining   \n",
       "3                    Banashankari          Quick Bites   \n",
       "4                    Basavanagudi        Casual Dining   \n",
       "...                           ...                  ...   \n",
       "51712                  Whitefield                  Bar   \n",
       "51713                  Whitefield                  Bar   \n",
       "51714                  Whitefield                  Bar   \n",
       "51715  ITPL Main Road, Whitefield                  Bar   \n",
       "51716  ITPL Main Road, Whitefield   Bar, Casual Dining   \n",
       "\n",
       "                                     cuisines  approx_cost(for two people)  \\\n",
       "0              North Indian, Mughlai, Chinese                        800.0   \n",
       "1                 Chinese, North Indian, Thai                        800.0   \n",
       "2                      Cafe, Mexican, Italian                        800.0   \n",
       "3                  South Indian, North Indian                        300.0   \n",
       "4                    North Indian, Rajasthani                        600.0   \n",
       "...                                       ...                          ...   \n",
       "51712                             Continental                       1500.0   \n",
       "51713                             Finger Food                        600.0   \n",
       "51714                             Finger Food                       2000.0   \n",
       "51715                             Finger Food                       2500.0   \n",
       "51716  Finger Food, North Indian, Continental                       1500.0   \n",
       "\n",
       "                                            reviews_list menu_item  \\\n",
       "0      [('Rated 4.0', 'RATED\\n  A beautiful place to ...        []   \n",
       "1      [('Rated 4.0', 'RATED\\n  Had been here for din...        []   \n",
       "2      [('Rated 3.0', \"RATED\\n  Ambience is not that ...        []   \n",
       "3      [('Rated 4.0', \"RATED\\n  Great food and proper...        []   \n",
       "4      [('Rated 4.0', 'RATED\\n  Very good restaurant ...        []   \n",
       "...                                                  ...       ...   \n",
       "51712  [('Rated 5.0', \"RATED\\n  Food and service are ...        []   \n",
       "51713                                                 []        []   \n",
       "51714                                                 []        []   \n",
       "51715  [('Rated 4.0', 'RATED\\n  Nice and friendly pla...        []   \n",
       "51716  [('Rated 5.0', 'RATED\\n  Great ambience , look...        []   \n",
       "\n",
       "      listed_in(type) listed_in(city)  \n",
       "0              Buffet    Banashankari  \n",
       "1              Buffet    Banashankari  \n",
       "2              Buffet    Banashankari  \n",
       "3              Buffet    Banashankari  \n",
       "4              Buffet    Banashankari  \n",
       "...               ...             ...  \n",
       "51712   Pubs and bars      Whitefield  \n",
       "51713   Pubs and bars      Whitefield  \n",
       "51714   Pubs and bars      Whitefield  \n",
       "51715   Pubs and bars      Whitefield  \n",
       "51716   Pubs and bars      Whitefield  \n",
       "\n",
       "[51717 rows x 17 columns]"
      ]
     },
     "execution_count": 156,
     "metadata": {},
     "output_type": "execute_result"
    }
   ],
   "source": [
    "df.drop('dish_liked' , axis=1 )"
   ]
  },
  {
   "cell_type": "code",
   "execution_count": 157,
   "id": "f78eb686-b7da-4090-a28c-73bc49646c47",
   "metadata": {},
   "outputs": [],
   "source": [
    "df = df.drop('dish_liked' , axis=1 )"
   ]
  },
  {
   "cell_type": "code",
   "execution_count": 158,
   "id": "51433a71-fe66-443c-a4ac-c1b3a6ffc90c",
   "metadata": {},
   "outputs": [
    {
     "data": {
      "text/plain": [
       "Index(['index', 'url', 'address', 'name', 'online_order', 'book_table', 'rate',\n",
       "       'votes', 'phone', 'location', 'rest_type', 'cuisines',\n",
       "       'approx_cost(for two people)', 'reviews_list', 'menu_item',\n",
       "       'listed_in(type)', 'listed_in(city)'],\n",
       "      dtype='object')"
      ]
     },
     "execution_count": 158,
     "metadata": {},
     "output_type": "execute_result"
    }
   ],
   "source": [
    "df.columns"
   ]
  },
  {
   "cell_type": "code",
   "execution_count": 159,
   "id": "639f7107-58b4-4ffb-89a7-a045d8da6148",
   "metadata": {},
   "outputs": [
    {
     "data": {
      "text/plain": [
       "'دیش لایک حذف شد'"
      ]
     },
     "execution_count": 159,
     "metadata": {},
     "output_type": "execute_result"
    }
   ],
   "source": [
    "\"\"\"دیش لایک حذف شد\"\"\""
   ]
  },
  {
   "cell_type": "code",
   "execution_count": 160,
   "id": "e20ac77d-d605-4fea-86f4-a9c3b9886464",
   "metadata": {},
   "outputs": [
    {
     "data": {
      "text/plain": [
       "(51717, 17)"
      ]
     },
     "execution_count": 160,
     "metadata": {},
     "output_type": "execute_result"
    }
   ],
   "source": [
    "df.shape"
   ]
  },
  {
   "cell_type": "code",
   "execution_count": 161,
   "id": "06eeb833-fcbb-4e28-a651-4f1702423bc3",
   "metadata": {},
   "outputs": [
    {
     "data": {
      "text/plain": [
       "array(['Casual Dining', 'Cafe, Casual Dining', 'Quick Bites',\n",
       "       'Casual Dining, Cafe', 'Cafe', 'Quick Bites, Cafe',\n",
       "       'Cafe, Quick Bites', 'Delivery', 'Mess', 'Dessert Parlor',\n",
       "       'Bakery, Dessert Parlor', 'Pub', 'Bakery', 'Takeaway, Delivery',\n",
       "       'Fine Dining', 'Beverage Shop', 'Sweet Shop', 'Bar',\n",
       "       'Beverage Shop, Quick Bites', 'Confectionery',\n",
       "       'Quick Bites, Beverage Shop', 'Dessert Parlor, Sweet Shop',\n",
       "       'Bakery, Quick Bites', 'Sweet Shop, Quick Bites', 'Kiosk',\n",
       "       'Food Truck', 'Quick Bites, Dessert Parlor',\n",
       "       'Beverage Shop, Dessert Parlor', 'Takeaway', 'Pub, Casual Dining',\n",
       "       'Casual Dining, Bar', 'Dessert Parlor, Beverage Shop',\n",
       "       'Quick Bites, Bakery', 'Dessert Parlor, Quick Bites',\n",
       "       'Microbrewery, Casual Dining', 'Lounge', 'Bar, Casual Dining',\n",
       "       'Food Court', 'Cafe, Bakery', None, 'Dhaba',\n",
       "       'Quick Bites, Sweet Shop', 'Microbrewery',\n",
       "       'Food Court, Quick Bites', 'Pub, Bar', 'Casual Dining, Pub',\n",
       "       'Lounge, Bar', 'Food Court, Dessert Parlor',\n",
       "       'Casual Dining, Sweet Shop', 'Food Court, Casual Dining',\n",
       "       'Casual Dining, Microbrewery', 'Sweet Shop, Dessert Parlor',\n",
       "       'Bakery, Beverage Shop', 'Lounge, Casual Dining',\n",
       "       'Cafe, Food Court', 'Beverage Shop, Cafe', 'Cafe, Dessert Parlor',\n",
       "       'Dessert Parlor, Cafe', 'Dessert Parlor, Bakery',\n",
       "       'Microbrewery, Pub', 'Bakery, Food Court', 'Club',\n",
       "       'Quick Bites, Food Court', 'Bakery, Cafe', 'Bar, Cafe',\n",
       "       'Pub, Cafe', 'Casual Dining, Irani Cafee', 'Fine Dining, Lounge',\n",
       "       'Bar, Quick Bites', 'Bakery, Kiosk', 'Pub, Microbrewery',\n",
       "       'Microbrewery, Lounge', 'Fine Dining, Microbrewery',\n",
       "       'Fine Dining, Bar', 'Mess, Quick Bites', 'Dessert Parlor, Kiosk',\n",
       "       'Bhojanalya', 'Casual Dining, Quick Bites', 'Pop Up', 'Cafe, Bar',\n",
       "       'Casual Dining, Lounge', 'Bakery, Sweet Shop', 'Microbrewery, Bar',\n",
       "       'Cafe, Lounge', 'Bar, Pub', 'Lounge, Cafe', 'Club, Casual Dining',\n",
       "       'Quick Bites, Mess', 'Quick Bites, Meat Shop',\n",
       "       'Quick Bites, Kiosk', 'Lounge, Microbrewery',\n",
       "       'Food Court, Beverage Shop', 'Dessert Parlor, Food Court',\n",
       "       'Bar, Lounge'], dtype=object)"
      ]
     },
     "execution_count": 161,
     "metadata": {},
     "output_type": "execute_result"
    }
   ],
   "source": [
    "df['rest_type'].unique() # مشاهده موارد یونیک این ستون"
   ]
  },
  {
   "cell_type": "code",
   "execution_count": 162,
   "id": "9623a0e3-4326-4f7a-a786-08767f2fe307",
   "metadata": {},
   "outputs": [
    {
     "data": {
      "text/plain": [
       "rest_type\n",
       "Quick Bites                   19132\n",
       "Casual Dining                 10330\n",
       "Cafe                           3732\n",
       "Delivery                       2604\n",
       "Dessert Parlor                 2263\n",
       "                              ...  \n",
       "Dessert Parlor, Kiosk             2\n",
       "Food Court, Beverage Shop         2\n",
       "Dessert Parlor, Food Court        2\n",
       "Sweet Shop, Dessert Parlor        1\n",
       "Quick Bites, Kiosk                1\n",
       "Name: count, Length: 93, dtype: int64"
      ]
     },
     "execution_count": 162,
     "metadata": {},
     "output_type": "execute_result"
    }
   ],
   "source": [
    "df['rest_type'].value_counts()  # تعداد فراوانی داده های رست تایپ "
   ]
  },
  {
   "cell_type": "code",
   "execution_count": 163,
   "id": "a46fd4a3-5b0d-4280-96bd-54a02658a506",
   "metadata": {},
   "outputs": [
    {
     "data": {
      "text/plain": [
       "' حالا برای اینکه دسته بندی بهتری داشته باشم چون فراوانی برخی داده های رست تایپ نسبت به بقیه داده های آن ستون بیشتر است یک متد جدید تعریف می کنم که دادههای رست تایپ را ستون جدیدی دسته بندی کنم '"
      ]
     },
     "execution_count": 163,
     "metadata": {},
     "output_type": "execute_result"
    }
   ],
   "source": [
    "\"\"\" حالا برای اینکه دسته بندی بهتری داشته باشم چون فراوانی برخی داده های رست تایپ نسبت به بقیه داده های آن ستون بیشتر است یک متد جدید تعریف می کنم که دادههای رست تایپ را ستون جدیدی دسته بندی کنم \"\"\""
   ]
  },
  {
   "cell_type": "code",
   "execution_count": 164,
   "id": "c44c73d3-ac8a-48e2-b8ce-6258efab68fb",
   "metadata": {},
   "outputs": [],
   "source": [
    "\n",
    "def mark(x):\n",
    "    if x == 'Quick Bites':\n",
    "        return 'Quick Bites'\n",
    "    elif x == 'Casual Dining':\n",
    "        return 'Casual Dining'\n",
    "    else:\n",
    "        return 'others'"
   ]
  },
  {
   "cell_type": "code",
   "execution_count": 165,
   "id": "111f139f-dcae-4fce-a69d-3af84dc5b192",
   "metadata": {},
   "outputs": [
    {
     "data": {
      "text/plain": [
       "'حالا متد دسته بندی رابرای ستون جدیدی محاسبه می کنم'"
      ]
     },
     "execution_count": 165,
     "metadata": {},
     "output_type": "execute_result"
    }
   ],
   "source": [
    "\"\"\"حالا متد دسته بندی رابرای ستون جدیدی محاسبه می کنم\"\"\""
   ]
  },
  {
   "cell_type": "code",
   "execution_count": 166,
   "id": "c33cd754-cd0a-46fa-8b20-a358cbd56431",
   "metadata": {},
   "outputs": [],
   "source": [
    "df['rest_type2'] = df['rest_type'].apply(mark)"
   ]
  },
  {
   "cell_type": "code",
   "execution_count": 167,
   "id": "712ade03-31f7-44c5-9e06-900a0b3d3929",
   "metadata": {},
   "outputs": [
    {
     "data": {
      "text/html": [
       "<div>\n",
       "<style scoped>\n",
       "    .dataframe tbody tr th:only-of-type {\n",
       "        vertical-align: middle;\n",
       "    }\n",
       "\n",
       "    .dataframe tbody tr th {\n",
       "        vertical-align: top;\n",
       "    }\n",
       "\n",
       "    .dataframe thead th {\n",
       "        text-align: right;\n",
       "    }\n",
       "</style>\n",
       "<table border=\"1\" class=\"dataframe\">\n",
       "  <thead>\n",
       "    <tr style=\"text-align: right;\">\n",
       "      <th></th>\n",
       "      <th>index</th>\n",
       "      <th>url</th>\n",
       "      <th>address</th>\n",
       "      <th>name</th>\n",
       "      <th>online_order</th>\n",
       "      <th>book_table</th>\n",
       "      <th>rate</th>\n",
       "      <th>votes</th>\n",
       "      <th>phone</th>\n",
       "      <th>location</th>\n",
       "      <th>rest_type</th>\n",
       "      <th>cuisines</th>\n",
       "      <th>approx_cost(for two people)</th>\n",
       "      <th>reviews_list</th>\n",
       "      <th>menu_item</th>\n",
       "      <th>listed_in(type)</th>\n",
       "      <th>listed_in(city)</th>\n",
       "      <th>rest_type2</th>\n",
       "    </tr>\n",
       "  </thead>\n",
       "  <tbody>\n",
       "    <tr>\n",
       "      <th>0</th>\n",
       "      <td>0</td>\n",
       "      <td>https://www.zomato.com/bangalore/jalsa-banasha...</td>\n",
       "      <td>942, 21st Main Road, 2nd Stage, Banashankari, ...</td>\n",
       "      <td>Jalsa</td>\n",
       "      <td>Yes</td>\n",
       "      <td>Yes</td>\n",
       "      <td>4.1/5</td>\n",
       "      <td>775</td>\n",
       "      <td>080 42297555\\r\\n+91 9743772233</td>\n",
       "      <td>Banashankari</td>\n",
       "      <td>Casual Dining</td>\n",
       "      <td>North Indian, Mughlai, Chinese</td>\n",
       "      <td>800.0</td>\n",
       "      <td>[('Rated 4.0', 'RATED\\n  A beautiful place to ...</td>\n",
       "      <td>[]</td>\n",
       "      <td>Buffet</td>\n",
       "      <td>Banashankari</td>\n",
       "      <td>Casual Dining</td>\n",
       "    </tr>\n",
       "    <tr>\n",
       "      <th>1</th>\n",
       "      <td>1</td>\n",
       "      <td>https://www.zomato.com/bangalore/spice-elephan...</td>\n",
       "      <td>2nd Floor, 80 Feet Road, Near Big Bazaar, 6th ...</td>\n",
       "      <td>Spice Elephant</td>\n",
       "      <td>Yes</td>\n",
       "      <td>No</td>\n",
       "      <td>4.1/5</td>\n",
       "      <td>787</td>\n",
       "      <td>080 41714161</td>\n",
       "      <td>Banashankari</td>\n",
       "      <td>Casual Dining</td>\n",
       "      <td>Chinese, North Indian, Thai</td>\n",
       "      <td>800.0</td>\n",
       "      <td>[('Rated 4.0', 'RATED\\n  Had been here for din...</td>\n",
       "      <td>[]</td>\n",
       "      <td>Buffet</td>\n",
       "      <td>Banashankari</td>\n",
       "      <td>Casual Dining</td>\n",
       "    </tr>\n",
       "    <tr>\n",
       "      <th>2</th>\n",
       "      <td>2</td>\n",
       "      <td>https://www.zomato.com/SanchurroBangalore?cont...</td>\n",
       "      <td>1112, Next to KIMS Medical College, 17th Cross...</td>\n",
       "      <td>San Churro Cafe</td>\n",
       "      <td>Yes</td>\n",
       "      <td>No</td>\n",
       "      <td>3.8/5</td>\n",
       "      <td>918</td>\n",
       "      <td>+91 9663487993</td>\n",
       "      <td>Banashankari</td>\n",
       "      <td>Cafe, Casual Dining</td>\n",
       "      <td>Cafe, Mexican, Italian</td>\n",
       "      <td>800.0</td>\n",
       "      <td>[('Rated 3.0', \"RATED\\n  Ambience is not that ...</td>\n",
       "      <td>[]</td>\n",
       "      <td>Buffet</td>\n",
       "      <td>Banashankari</td>\n",
       "      <td>others</td>\n",
       "    </tr>\n",
       "    <tr>\n",
       "      <th>3</th>\n",
       "      <td>3</td>\n",
       "      <td>https://www.zomato.com/bangalore/addhuri-udupi...</td>\n",
       "      <td>1st Floor, Annakuteera, 3rd Stage, Banashankar...</td>\n",
       "      <td>Addhuri Udupi Bhojana</td>\n",
       "      <td>No</td>\n",
       "      <td>No</td>\n",
       "      <td>3.7/5</td>\n",
       "      <td>88</td>\n",
       "      <td>+91 9620009302</td>\n",
       "      <td>Banashankari</td>\n",
       "      <td>Quick Bites</td>\n",
       "      <td>South Indian, North Indian</td>\n",
       "      <td>300.0</td>\n",
       "      <td>[('Rated 4.0', \"RATED\\n  Great food and proper...</td>\n",
       "      <td>[]</td>\n",
       "      <td>Buffet</td>\n",
       "      <td>Banashankari</td>\n",
       "      <td>Quick Bites</td>\n",
       "    </tr>\n",
       "    <tr>\n",
       "      <th>4</th>\n",
       "      <td>4</td>\n",
       "      <td>https://www.zomato.com/bangalore/grand-village...</td>\n",
       "      <td>10, 3rd Floor, Lakshmi Associates, Gandhi Baza...</td>\n",
       "      <td>Grand Village</td>\n",
       "      <td>No</td>\n",
       "      <td>No</td>\n",
       "      <td>3.8/5</td>\n",
       "      <td>166</td>\n",
       "      <td>+91 8026612447\\r\\n+91 9901210005</td>\n",
       "      <td>Basavanagudi</td>\n",
       "      <td>Casual Dining</td>\n",
       "      <td>North Indian, Rajasthani</td>\n",
       "      <td>600.0</td>\n",
       "      <td>[('Rated 4.0', 'RATED\\n  Very good restaurant ...</td>\n",
       "      <td>[]</td>\n",
       "      <td>Buffet</td>\n",
       "      <td>Banashankari</td>\n",
       "      <td>Casual Dining</td>\n",
       "    </tr>\n",
       "  </tbody>\n",
       "</table>\n",
       "</div>"
      ],
      "text/plain": [
       "   index                                                url  \\\n",
       "0      0  https://www.zomato.com/bangalore/jalsa-banasha...   \n",
       "1      1  https://www.zomato.com/bangalore/spice-elephan...   \n",
       "2      2  https://www.zomato.com/SanchurroBangalore?cont...   \n",
       "3      3  https://www.zomato.com/bangalore/addhuri-udupi...   \n",
       "4      4  https://www.zomato.com/bangalore/grand-village...   \n",
       "\n",
       "                                             address                   name  \\\n",
       "0  942, 21st Main Road, 2nd Stage, Banashankari, ...                  Jalsa   \n",
       "1  2nd Floor, 80 Feet Road, Near Big Bazaar, 6th ...         Spice Elephant   \n",
       "2  1112, Next to KIMS Medical College, 17th Cross...        San Churro Cafe   \n",
       "3  1st Floor, Annakuteera, 3rd Stage, Banashankar...  Addhuri Udupi Bhojana   \n",
       "4  10, 3rd Floor, Lakshmi Associates, Gandhi Baza...          Grand Village   \n",
       "\n",
       "  online_order book_table   rate  votes                             phone  \\\n",
       "0          Yes        Yes  4.1/5    775    080 42297555\\r\\n+91 9743772233   \n",
       "1          Yes         No  4.1/5    787                      080 41714161   \n",
       "2          Yes         No  3.8/5    918                    +91 9663487993   \n",
       "3           No         No  3.7/5     88                    +91 9620009302   \n",
       "4           No         No  3.8/5    166  +91 8026612447\\r\\n+91 9901210005   \n",
       "\n",
       "       location            rest_type                        cuisines  \\\n",
       "0  Banashankari        Casual Dining  North Indian, Mughlai, Chinese   \n",
       "1  Banashankari        Casual Dining     Chinese, North Indian, Thai   \n",
       "2  Banashankari  Cafe, Casual Dining          Cafe, Mexican, Italian   \n",
       "3  Banashankari          Quick Bites      South Indian, North Indian   \n",
       "4  Basavanagudi        Casual Dining        North Indian, Rajasthani   \n",
       "\n",
       "   approx_cost(for two people)  \\\n",
       "0                        800.0   \n",
       "1                        800.0   \n",
       "2                        800.0   \n",
       "3                        300.0   \n",
       "4                        600.0   \n",
       "\n",
       "                                        reviews_list menu_item  \\\n",
       "0  [('Rated 4.0', 'RATED\\n  A beautiful place to ...        []   \n",
       "1  [('Rated 4.0', 'RATED\\n  Had been here for din...        []   \n",
       "2  [('Rated 3.0', \"RATED\\n  Ambience is not that ...        []   \n",
       "3  [('Rated 4.0', \"RATED\\n  Great food and proper...        []   \n",
       "4  [('Rated 4.0', 'RATED\\n  Very good restaurant ...        []   \n",
       "\n",
       "  listed_in(type) listed_in(city)     rest_type2  \n",
       "0          Buffet    Banashankari  Casual Dining  \n",
       "1          Buffet    Banashankari  Casual Dining  \n",
       "2          Buffet    Banashankari         others  \n",
       "3          Buffet    Banashankari    Quick Bites  \n",
       "4          Buffet    Banashankari  Casual Dining  "
      ]
     },
     "execution_count": 167,
     "metadata": {},
     "output_type": "execute_result"
    }
   ],
   "source": [
    "df.head() #مشاهده ستون جدید انتهای سمت راست"
   ]
  },
  {
   "cell_type": "code",
   "execution_count": 168,
   "id": "278bf238-6dd4-40b5-8a84-92329a070979",
   "metadata": {},
   "outputs": [
    {
     "data": {
      "text/plain": [
       "rest_type2\n",
       "others           22255\n",
       "Quick Bites      19132\n",
       "Casual Dining    10330\n",
       "Name: count, dtype: int64"
      ]
     },
     "execution_count": 168,
     "metadata": {},
     "output_type": "execute_result"
    }
   ],
   "source": [
    "df['rest_type2'].value_counts()"
   ]
  },
  {
   "cell_type": "code",
   "execution_count": 169,
   "id": "bd79d579-c1c9-43d9-9735-7409c2cac24c",
   "metadata": {},
   "outputs": [
    {
     "data": {
      "text/plain": [
       "<Axes: xlabel='rest_type2'>"
      ]
     },
     "execution_count": 169,
     "metadata": {},
     "output_type": "execute_result"
    },
    {
     "data": {
      "image/png": "[encoded data removed]",
      "text/plain": [
       "<Figure size 640x480 with 1 Axes>"
      ]
     },
     "metadata": {},
     "output_type": "display_data"
    }
   ],
   "source": [
    "df['rest_type2'].value_counts().plot.bar()"
   ]
  },
  {
   "cell_type": "code",
   "execution_count": 170,
   "id": "5844586a-28a2-42f7-99bd-0ec03120e07a",
   "metadata": {},
   "outputs": [
    {
     "data": {
      "text/plain": [
       "'از اینجا به بعد می خواهم گروه بندی ورتبه بندی انجام دهم اول نگاهی به ستون های مورد نیاز می کنم '"
      ]
     },
     "execution_count": 170,
     "metadata": {},
     "output_type": "execute_result"
    }
   ],
   "source": [
    "\"\"\"از اینجا به بعد می خواهم گروه بندی ورتبه بندی انجام دهم اول نگاهی به ستون های مورد نیاز می کنم \"\"\""
   ]
  },
  {
   "cell_type": "code",
   "execution_count": 171,
   "id": "6fc11df1-ebfc-40b0-8280-75af3546e5df",
   "metadata": {},
   "outputs": [
    {
     "data": {
      "text/plain": [
       "Index(['index', 'url', 'address', 'name', 'online_order', 'book_table', 'rate',\n",
       "       'votes', 'phone', 'location', 'rest_type', 'cuisines',\n",
       "       'approx_cost(for two people)', 'reviews_list', 'menu_item',\n",
       "       'listed_in(type)', 'listed_in(city)', 'rest_type2'],\n",
       "      dtype='object')"
      ]
     },
     "execution_count": 171,
     "metadata": {},
     "output_type": "execute_result"
    }
   ],
   "source": [
    "df.columns"
   ]
  },
  {
   "cell_type": "code",
   "execution_count": 172,
   "id": "bc1fbd08-6d55-4aa6-95db-f6a27ae69da8",
   "metadata": {},
   "outputs": [
    {
     "data": {
      "text/plain": [
       "index                            int64\n",
       "url                             object\n",
       "address                         object\n",
       "name                            object\n",
       "online_order                    object\n",
       "book_table                      object\n",
       "rate                            object\n",
       "votes                            int64\n",
       "phone                           object\n",
       "location                        object\n",
       "rest_type                       object\n",
       "cuisines                        object\n",
       "approx_cost(for two people)    float64\n",
       "reviews_list                    object\n",
       "menu_item                       object\n",
       "listed_in(type)                 object\n",
       "listed_in(city)                 object\n",
       "rest_type2                      object\n",
       "dtype: object"
      ]
     },
     "execution_count": 172,
     "metadata": {},
     "output_type": "execute_result"
    }
   ],
   "source": [
    "df.dtypes"
   ]
  },
  {
   "cell_type": "code",
   "execution_count": 173,
   "id": "1e65f63a-3977-4a23-a5a2-a991bd4946a5",
   "metadata": {},
   "outputs": [
    {
     "data": {
      "text/plain": [
       "'اینجا دو ستون مقداری دارم که قابلیت محاسباتی دارند ستون ریت آبجکت هست به آن هم نیاز دارم که ابتدا آن را به نوع عددی تبدیل می کنم '"
      ]
     },
     "execution_count": 173,
     "metadata": {},
     "output_type": "execute_result"
    }
   ],
   "source": [
    "\"\"\"اینجا دو ستون مقداری دارم که قابلیت محاسباتی دارند ستون ریت آبجکت هست به آن هم نیاز دارم که ابتدا آن را به نوع عددی تبدیل می کنم \"\"\""
   ]
  },
  {
   "cell_type": "code",
   "execution_count": 174,
   "id": "745b4bcc-8331-4eb9-b120-c2a3e2eed24c",
   "metadata": {},
   "outputs": [
    {
     "data": {
      "text/plain": [
       "array(['4.1/5', '3.8/5', '3.7/5', '3.6/5', '4.6/5', '4.0/5', '4.2/5',\n",
       "       '3.9/5', '3.1/5', '3.0/5', '3.2/5', '3.3/5', '2.8/5', '4.4/5',\n",
       "       '4.3/5', 'NEW', '2.9/5', '3.5/5', None, '2.6/5', '3.8 /5', '3.4/5',\n",
       "       '4.5/5', '2.5/5', '2.7/5', '4.7/5', '2.4/5', '2.2/5', '2.3/5',\n",
       "       '3.4 /5', '-', '3.6 /5', '4.8/5', '3.9 /5', '4.2 /5', '4.0 /5',\n",
       "       '4.1 /5', '3.7 /5', '3.1 /5', '2.9 /5', '3.3 /5', '2.8 /5',\n",
       "       '3.5 /5', '2.7 /5', '2.5 /5', '3.2 /5', '2.6 /5', '4.5 /5',\n",
       "       '4.3 /5', '4.4 /5', '4.9/5', '2.1/5', '2.0/5', '1.8/5', '4.6 /5',\n",
       "       '4.9 /5', '3.0 /5', '4.8 /5', '2.3 /5', '4.7 /5', '2.4 /5',\n",
       "       '2.1 /5', '2.2 /5', '2.0 /5', '1.8 /5'], dtype=object)"
      ]
     },
     "execution_count": 174,
     "metadata": {},
     "output_type": "execute_result"
    }
   ],
   "source": [
    "df['rate'].unique()"
   ]
  },
  {
   "cell_type": "code",
   "execution_count": 175,
   "id": "4b7d374f-0120-456c-a17d-9d92729fef47",
   "metadata": {},
   "outputs": [
    {
     "data": {
      "text/plain": [
       "'الان می بینم که یک عدد 5 و اسلش  با اعداد قرار دارند که با جداکننده اسلش عملیات پاکسازی را انجام بدهم '"
      ]
     },
     "execution_count": 175,
     "metadata": {},
     "output_type": "execute_result"
    }
   ],
   "source": [
    "\"\"\"الان می بینم که یک عدد 5 و اسلش  با اعداد قرار دارند که با جداکننده اسلش عملیات پاکسازی را انجام بدهم \"\"\""
   ]
  },
  {
   "cell_type": "code",
   "execution_count": 176,
   "id": "e19f5bbb-7353-41a2-a837-fa9a34e3beff",
   "metadata": {},
   "outputs": [
    {
     "data": {
      "text/plain": [
       "['4.1', '5']"
      ]
     },
     "execution_count": 176,
     "metadata": {},
     "output_type": "execute_result"
    }
   ],
   "source": [
    "df['rate'][0].split('/') # روی یک داده از ستون ریت اسپلیت را امتحان می کنم و سپس برای همه متد می نویسم"
   ]
  },
  {
   "cell_type": "code",
   "execution_count": 177,
   "id": "46934dc7-efdb-414e-8109-c0dcb830d95b",
   "metadata": {},
   "outputs": [
    {
     "data": {
      "text/plain": [
       "'4.1'"
      ]
     },
     "execution_count": 177,
     "metadata": {},
     "output_type": "execute_result"
    }
   ],
   "source": [
    "df['rate'][0].split('/')[0] # به داده پشت اسلش نیاز ندارم و لذا حذف می کنم"
   ]
  },
  {
   "cell_type": "code",
   "execution_count": 178,
   "id": "4df46c41-9033-4877-a4f8-007ceb8311f8",
   "metadata": {},
   "outputs": [],
   "source": [
    "def split (x):\n",
    "    return x.split('/')[0] # تعریف متد"
   ]
  },
  {
   "cell_type": "code",
   "execution_count": 179,
   "id": "76ff8a1b-8393-48d0-9a9e-e4f763927fcc",
   "metadata": {},
   "outputs": [
    {
     "data": {
      "text/plain": [
       "0         4.1\n",
       "1         4.1\n",
       "2         3.8\n",
       "3         3.7\n",
       "4         3.8\n",
       "         ... \n",
       "51712    3.6 \n",
       "51713    None\n",
       "51714    None\n",
       "51715    4.3 \n",
       "51716    3.4 \n",
       "Name: rate, Length: 51717, dtype: object"
      ]
     },
     "execution_count": 179,
     "metadata": {},
     "output_type": "execute_result"
    }
   ],
   "source": [
    "df['rate'].astype(str).apply(split) # اعمال متد در ستون ریت . البته قبلش نوع اسپلیت را به استرینگ تبدیل کردم"
   ]
  },
  {
   "cell_type": "code",
   "execution_count": 180,
   "id": "021e5c8f-6c4c-4880-9d77-2c6a90b0f305",
   "metadata": {},
   "outputs": [],
   "source": [
    "df['rate']= df['rate'].astype(str).apply(split) #ستون را با داده جدید جایگزین می کنم"
   ]
  },
  {
   "cell_type": "code",
   "execution_count": 181,
   "id": "09fe1fc8-2b6a-4777-919a-18a37d9e1495",
   "metadata": {},
   "outputs": [
    {
     "data": {
      "text/plain": [
       "array(['4.1', '3.8', '3.7', '3.6', '4.6', '4.0', '4.2', '3.9', '3.1',\n",
       "       '3.0', '3.2', '3.3', '2.8', '4.4', '4.3', 'NEW', '2.9', '3.5',\n",
       "       'None', '2.6', '3.8 ', '3.4', '4.5', '2.5', '2.7', '4.7', '2.4',\n",
       "       '2.2', '2.3', '3.4 ', '-', '3.6 ', '4.8', '3.9 ', '4.2 ', '4.0 ',\n",
       "       '4.1 ', '3.7 ', '3.1 ', '2.9 ', '3.3 ', '2.8 ', '3.5 ', '2.7 ',\n",
       "       '2.5 ', '3.2 ', '2.6 ', '4.5 ', '4.3 ', '4.4 ', '4.9', '2.1',\n",
       "       '2.0', '1.8', '4.6 ', '4.9 ', '3.0 ', '4.8 ', '2.3 ', '4.7 ',\n",
       "       '2.4 ', '2.1 ', '2.2 ', '2.0 ', '1.8 '], dtype=object)"
      ]
     },
     "execution_count": 181,
     "metadata": {},
     "output_type": "execute_result"
    }
   ],
   "source": [
    "df['rate'].unique() #وجود دارد که باید آنها هم خارج کنم  new  بررسی مجدد داده ها که می بینم همچنان آبجت است و دو داده مثل - و "
   ]
  },
  {
   "cell_type": "code",
   "execution_count": 182,
   "id": "9f6f12f0-1afc-4acd-8b1c-d3526c51bd6b",
   "metadata": {},
   "outputs": [],
   "source": [
    "df['rate'] = df['rate'].replace('None','Nan')"
   ]
  },
  {
   "cell_type": "code",
   "execution_count": 183,
   "id": "84d0d5b8-2cfd-453c-a182-0dd740e8384f",
   "metadata": {},
   "outputs": [],
   "source": [
    "df['rate'] = df['rate'].replace('NEW','Nan')"
   ]
  },
  {
   "cell_type": "code",
   "execution_count": 184,
   "id": "d06fe08a-b18d-4972-84e9-8a2717ea2d24",
   "metadata": {},
   "outputs": [],
   "source": [
    "df['rate'] = df['rate'].replace('-','Nan')"
   ]
  },
  {
   "cell_type": "code",
   "execution_count": 185,
   "id": "7bc4414d-12e9-45cc-9694-4ef07b5de052",
   "metadata": {},
   "outputs": [
    {
     "data": {
      "text/plain": [
       "array(['4.1', '3.8', '3.7', '3.6', '4.6', '4.0', '4.2', '3.9', '3.1',\n",
       "       '3.0', '3.2', '3.3', '2.8', '4.4', '4.3', 'Nan', '2.9', '3.5',\n",
       "       '2.6', '3.8 ', '3.4', '4.5', '2.5', '2.7', '4.7', '2.4', '2.2',\n",
       "       '2.3', '3.4 ', '3.6 ', '4.8', '3.9 ', '4.2 ', '4.0 ', '4.1 ',\n",
       "       '3.7 ', '3.1 ', '2.9 ', '3.3 ', '2.8 ', '3.5 ', '2.7 ', '2.5 ',\n",
       "       '3.2 ', '2.6 ', '4.5 ', '4.3 ', '4.4 ', '4.9', '2.1', '2.0', '1.8',\n",
       "       '4.6 ', '4.9 ', '3.0 ', '4.8 ', '2.3 ', '4.7 ', '2.4 ', '2.1 ',\n",
       "       '2.2 ', '2.0 ', '1.8 '], dtype=object)"
      ]
     },
     "execution_count": 185,
     "metadata": {},
     "output_type": "execute_result"
    }
   ],
   "source": [
    "df['rate'].unique() # داده ها اوکی هستند برای تبدیل به عددی"
   ]
  },
  {
   "cell_type": "code",
   "execution_count": 186,
   "id": "0de4d647-5df9-49a5-b171-2a8824949c4d",
   "metadata": {},
   "outputs": [],
   "source": [
    "df['rate']= df['rate'].astype(float)"
   ]
  },
  {
   "cell_type": "code",
   "execution_count": 187,
   "id": "88c62298-1986-40ea-9037-7b6d400744ba",
   "metadata": {},
   "outputs": [
    {
     "data": {
      "text/plain": [
       "'حالا که ستون ریت عددی شد برمیگردم به ادامه گروه بندی و رتبه بندی '"
      ]
     },
     "execution_count": 187,
     "metadata": {},
     "output_type": "execute_result"
    }
   ],
   "source": [
    "\"\"\"حالا که ستون ریت عددی شد برمیگردم به ادامه گروه بندی و رتبه بندی \"\"\""
   ]
  },
  {
   "cell_type": "code",
   "execution_count": 188,
   "id": "044a1a29-2951-41cf-9992-51ef35423f9d",
   "metadata": {},
   "outputs": [
    {
     "data": {
      "text/plain": [
       "index                            int64\n",
       "url                             object\n",
       "address                         object\n",
       "name                            object\n",
       "online_order                    object\n",
       "book_table                      object\n",
       "rate                           float64\n",
       "votes                            int64\n",
       "phone                           object\n",
       "location                        object\n",
       "rest_type                       object\n",
       "cuisines                        object\n",
       "approx_cost(for two people)    float64\n",
       "reviews_list                    object\n",
       "menu_item                       object\n",
       "listed_in(type)                 object\n",
       "listed_in(city)                 object\n",
       "rest_type2                      object\n",
       "dtype: object"
      ]
     },
     "execution_count": 188,
     "metadata": {},
     "output_type": "execute_result"
    }
   ],
   "source": [
    "df.dtypes"
   ]
  },
  {
   "cell_type": "code",
   "execution_count": 189,
   "id": "e3e96136-c3f3-4560-bc61-d5e6c60953df",
   "metadata": {},
   "outputs": [
    {
     "data": {
      "text/plain": [
       "name\n",
       "Cafe Coffee Day                                            96\n",
       "Onesta                                                     85\n",
       "Just Bake                                                  73\n",
       "Empire Restaurant                                          71\n",
       "Five Star Chicken                                          70\n",
       "                                                           ..\n",
       "Natis                                                       1\n",
       "Shreyas                                                     1\n",
       "Vishwas Kabab Centre                                        1\n",
       "Taj Biryani Centre                                          1\n",
       "Plunge - Sheraton Grand Bengaluru Whitefield Hotel &...     1\n",
       "Name: count, Length: 8792, dtype: int64"
      ]
     },
     "execution_count": 189,
     "metadata": {},
     "output_type": "execute_result"
    }
   ],
   "source": [
    "df['name'].value_counts() # بررسی تعداد فراوانی نام ها"
   ]
  },
  {
   "cell_type": "code",
   "execution_count": 190,
   "id": "1e49823f-6059-43c0-8e6d-e6646b1be539",
   "metadata": {},
   "outputs": [
    {
     "data": {
      "text/html": [
       "<div>\n",
       "<style scoped>\n",
       "    .dataframe tbody tr th:only-of-type {\n",
       "        vertical-align: middle;\n",
       "    }\n",
       "\n",
       "    .dataframe tbody tr th {\n",
       "        vertical-align: top;\n",
       "    }\n",
       "\n",
       "    .dataframe thead th {\n",
       "        text-align: right;\n",
       "    }\n",
       "</style>\n",
       "<table border=\"1\" class=\"dataframe\">\n",
       "  <thead>\n",
       "    <tr style=\"text-align: right;\">\n",
       "      <th></th>\n",
       "      <th>votes</th>\n",
       "    </tr>\n",
       "    <tr>\n",
       "      <th>name</th>\n",
       "      <th></th>\n",
       "    </tr>\n",
       "  </thead>\n",
       "  <tbody>\n",
       "    <tr>\n",
       "      <th>#FeelTheROLL</th>\n",
       "      <td>14</td>\n",
       "    </tr>\n",
       "    <tr>\n",
       "      <th>#L-81 Cafe</th>\n",
       "      <td>432</td>\n",
       "    </tr>\n",
       "    <tr>\n",
       "      <th>#Vibes Restro</th>\n",
       "      <td>0</td>\n",
       "    </tr>\n",
       "    <tr>\n",
       "      <th>#refuel</th>\n",
       "      <td>111</td>\n",
       "    </tr>\n",
       "    <tr>\n",
       "      <th>'Brahmins' Thatte Idli</th>\n",
       "      <td>0</td>\n",
       "    </tr>\n",
       "    <tr>\n",
       "      <th>...</th>\n",
       "      <td>...</td>\n",
       "    </tr>\n",
       "    <tr>\n",
       "      <th>late100</th>\n",
       "      <td>0</td>\n",
       "    </tr>\n",
       "    <tr>\n",
       "      <th>nu.tree</th>\n",
       "      <td>1443</td>\n",
       "    </tr>\n",
       "    <tr>\n",
       "      <th>re:cess - Hilton Bangalore Embassy GolfLinks</th>\n",
       "      <td>438</td>\n",
       "    </tr>\n",
       "    <tr>\n",
       "      <th>repEAT Hub</th>\n",
       "      <td>0</td>\n",
       "    </tr>\n",
       "    <tr>\n",
       "      <th>sCoolMeal</th>\n",
       "      <td>0</td>\n",
       "    </tr>\n",
       "  </tbody>\n",
       "</table>\n",
       "<p>8792 rows × 1 columns</p>\n",
       "</div>"
      ],
      "text/plain": [
       "                                              votes\n",
       "name                                               \n",
       "#FeelTheROLL                                     14\n",
       "#L-81 Cafe                                      432\n",
       "#Vibes Restro                                     0\n",
       "#refuel                                         111\n",
       "'Brahmins' Thatte Idli                            0\n",
       "...                                             ...\n",
       "late100                                           0\n",
       "nu.tree                                        1443\n",
       "re:cess - Hilton Bangalore Embassy GolfLinks    438\n",
       "repEAT Hub                                        0\n",
       "sCoolMeal                                         0\n",
       "\n",
       "[8792 rows x 1 columns]"
      ]
     },
     "execution_count": 190,
     "metadata": {},
     "output_type": "execute_result"
    }
   ],
   "source": [
    "df.groupby('name').agg({'votes':'sum'}) # نام رستوران ها رو بر اساس جمع رای گروه بندی کن"
   ]
  },
  {
   "cell_type": "code",
   "execution_count": 191,
   "id": "2e669ce2-4ed4-4f39-b1ca-6d724cac8684",
   "metadata": {},
   "outputs": [
    {
     "data": {
      "text/html": [
       "<div>\n",
       "<style scoped>\n",
       "    .dataframe tbody tr th:only-of-type {\n",
       "        vertical-align: middle;\n",
       "    }\n",
       "\n",
       "    .dataframe tbody tr th {\n",
       "        vertical-align: top;\n",
       "    }\n",
       "\n",
       "    .dataframe thead th {\n",
       "        text-align: right;\n",
       "    }\n",
       "</style>\n",
       "<table border=\"1\" class=\"dataframe\">\n",
       "  <thead>\n",
       "    <tr style=\"text-align: right;\">\n",
       "      <th></th>\n",
       "      <th>votes</th>\n",
       "    </tr>\n",
       "    <tr>\n",
       "      <th>name</th>\n",
       "      <th></th>\n",
       "    </tr>\n",
       "  </thead>\n",
       "  <tbody>\n",
       "    <tr>\n",
       "      <th>Onesta</th>\n",
       "      <td>347520</td>\n",
       "    </tr>\n",
       "    <tr>\n",
       "      <th>Truffles</th>\n",
       "      <td>301059</td>\n",
       "    </tr>\n",
       "    <tr>\n",
       "      <th>Empire Restaurant</th>\n",
       "      <td>229808</td>\n",
       "    </tr>\n",
       "    <tr>\n",
       "      <th>Hammered</th>\n",
       "      <td>180602</td>\n",
       "    </tr>\n",
       "    <tr>\n",
       "      <th>The Black Pearl</th>\n",
       "      <td>172122</td>\n",
       "    </tr>\n",
       "    <tr>\n",
       "      <th>...</th>\n",
       "      <td>...</td>\n",
       "    </tr>\n",
       "    <tr>\n",
       "      <th>Mirchi- The Indian Street Food Kitchen</th>\n",
       "      <td>0</td>\n",
       "    </tr>\n",
       "    <tr>\n",
       "      <th>Mist N Creams</th>\n",
       "      <td>0</td>\n",
       "    </tr>\n",
       "    <tr>\n",
       "      <th>Mithai Ghar</th>\n",
       "      <td>0</td>\n",
       "    </tr>\n",
       "    <tr>\n",
       "      <th>Mitran Da Adda</th>\n",
       "      <td>0</td>\n",
       "    </tr>\n",
       "    <tr>\n",
       "      <th>sCoolMeal</th>\n",
       "      <td>0</td>\n",
       "    </tr>\n",
       "  </tbody>\n",
       "</table>\n",
       "<p>8792 rows × 1 columns</p>\n",
       "</div>"
      ],
      "text/plain": [
       "                                         votes\n",
       "name                                          \n",
       "Onesta                                  347520\n",
       "Truffles                                301059\n",
       "Empire Restaurant                       229808\n",
       "Hammered                                180602\n",
       "The Black Pearl                         172122\n",
       "...                                        ...\n",
       "Mirchi- The Indian Street Food Kitchen       0\n",
       "Mist N Creams                                0\n",
       "Mithai Ghar                                  0\n",
       "Mitran Da Adda                               0\n",
       "sCoolMeal                                    0\n",
       "\n",
       "[8792 rows x 1 columns]"
      ]
     },
     "execution_count": 191,
     "metadata": {},
     "output_type": "execute_result"
    }
   ],
   "source": [
    "df.groupby('name').agg({'votes':'sum'}).sort_values(by = 'votes' , ascending = False) # ' گروه بندی نام بر اساس بیشترین رای"
   ]
  },
  {
   "cell_type": "code",
   "execution_count": 192,
   "id": "2931f79d-4e8d-4afd-b082-9ffc447bfdc3",
   "metadata": {},
   "outputs": [
    {
     "data": {
      "text/plain": [
       "'تا اینجا اسامی رستوران ها را بر اساس رای رتبه بندی کردم اما در ادامه می خواهم متغیرهای دیگری به این رتبه بندی اضافه کنم'"
      ]
     },
     "execution_count": 192,
     "metadata": {},
     "output_type": "execute_result"
    }
   ],
   "source": [
    "\"\"\"تا اینجا اسامی رستوران ها را بر اساس رای رتبه بندی کردم اما در ادامه می خواهم متغیرهای دیگری به این رتبه بندی اضافه کنم\"\"\""
   ]
  },
  {
   "cell_type": "code",
   "execution_count": 193,
   "id": "159dfb0e-439f-41ba-8224-8e94e38d398f",
   "metadata": {},
   "outputs": [
    {
     "data": {
      "text/html": [
       "<div>\n",
       "<style scoped>\n",
       "    .dataframe tbody tr th:only-of-type {\n",
       "        vertical-align: middle;\n",
       "    }\n",
       "\n",
       "    .dataframe tbody tr th {\n",
       "        vertical-align: top;\n",
       "    }\n",
       "\n",
       "    .dataframe thead th {\n",
       "        text-align: right;\n",
       "    }\n",
       "</style>\n",
       "<table border=\"1\" class=\"dataframe\">\n",
       "  <thead>\n",
       "    <tr style=\"text-align: right;\">\n",
       "      <th></th>\n",
       "      <th>votes</th>\n",
       "      <th>approx_cost(for two people)</th>\n",
       "      <th>rate</th>\n",
       "    </tr>\n",
       "    <tr>\n",
       "      <th>name</th>\n",
       "      <th></th>\n",
       "      <th></th>\n",
       "      <th></th>\n",
       "    </tr>\n",
       "  </thead>\n",
       "  <tbody>\n",
       "    <tr>\n",
       "      <th>Onesta</th>\n",
       "      <td>347520</td>\n",
       "      <td>600.000000</td>\n",
       "      <td>4.410588</td>\n",
       "    </tr>\n",
       "    <tr>\n",
       "      <th>Truffles</th>\n",
       "      <td>301059</td>\n",
       "      <td>900.000000</td>\n",
       "      <td>4.595349</td>\n",
       "    </tr>\n",
       "    <tr>\n",
       "      <th>Empire Restaurant</th>\n",
       "      <td>229808</td>\n",
       "      <td>685.211268</td>\n",
       "      <td>4.030435</td>\n",
       "    </tr>\n",
       "    <tr>\n",
       "      <th>Hammered</th>\n",
       "      <td>180602</td>\n",
       "      <td>1272.340426</td>\n",
       "      <td>4.625000</td>\n",
       "    </tr>\n",
       "    <tr>\n",
       "      <th>The Black Pearl</th>\n",
       "      <td>172122</td>\n",
       "      <td>1427.777778</td>\n",
       "      <td>4.727778</td>\n",
       "    </tr>\n",
       "    <tr>\n",
       "      <th>...</th>\n",
       "      <td>...</td>\n",
       "      <td>...</td>\n",
       "      <td>...</td>\n",
       "    </tr>\n",
       "    <tr>\n",
       "      <th>Mirchi- The Indian Street Food Kitchen</th>\n",
       "      <td>0</td>\n",
       "      <td>150.000000</td>\n",
       "      <td>NaN</td>\n",
       "    </tr>\n",
       "    <tr>\n",
       "      <th>Mist N Creams</th>\n",
       "      <td>0</td>\n",
       "      <td>400.000000</td>\n",
       "      <td>NaN</td>\n",
       "    </tr>\n",
       "    <tr>\n",
       "      <th>Mithai Ghar</th>\n",
       "      <td>0</td>\n",
       "      <td>200.000000</td>\n",
       "      <td>NaN</td>\n",
       "    </tr>\n",
       "    <tr>\n",
       "      <th>Mitran Da Adda</th>\n",
       "      <td>0</td>\n",
       "      <td>350.000000</td>\n",
       "      <td>NaN</td>\n",
       "    </tr>\n",
       "    <tr>\n",
       "      <th>sCoolMeal</th>\n",
       "      <td>0</td>\n",
       "      <td>300.000000</td>\n",
       "      <td>NaN</td>\n",
       "    </tr>\n",
       "  </tbody>\n",
       "</table>\n",
       "<p>8792 rows × 3 columns</p>\n",
       "</div>"
      ],
      "text/plain": [
       "                                         votes  approx_cost(for two people)  \\\n",
       "name                                                                          \n",
       "Onesta                                  347520                   600.000000   \n",
       "Truffles                                301059                   900.000000   \n",
       "Empire Restaurant                       229808                   685.211268   \n",
       "Hammered                                180602                  1272.340426   \n",
       "The Black Pearl                         172122                  1427.777778   \n",
       "...                                        ...                          ...   \n",
       "Mirchi- The Indian Street Food Kitchen       0                   150.000000   \n",
       "Mist N Creams                                0                   400.000000   \n",
       "Mithai Ghar                                  0                   200.000000   \n",
       "Mitran Da Adda                               0                   350.000000   \n",
       "sCoolMeal                                    0                   300.000000   \n",
       "\n",
       "                                            rate  \n",
       "name                                              \n",
       "Onesta                                  4.410588  \n",
       "Truffles                                4.595349  \n",
       "Empire Restaurant                       4.030435  \n",
       "Hammered                                4.625000  \n",
       "The Black Pearl                         4.727778  \n",
       "...                                          ...  \n",
       "Mirchi- The Indian Street Food Kitchen       NaN  \n",
       "Mist N Creams                                NaN  \n",
       "Mithai Ghar                                  NaN  \n",
       "Mitran Da Adda                               NaN  \n",
       "sCoolMeal                                    NaN  \n",
       "\n",
       "[8792 rows x 3 columns]"
      ]
     },
     "execution_count": 193,
     "metadata": {},
     "output_type": "execute_result"
    }
   ],
   "source": [
    "df.groupby('name').agg({'votes':'sum' , 'approx_cost(for two people)':'mean' , 'rate':'mean'}).sort_values(by = 'votes' , ascending = False)"
   ]
  },
  {
   "cell_type": "code",
   "execution_count": 194,
   "id": "08c1bd83-494f-41cb-b6ef-d9741d1f5a1c",
   "metadata": {},
   "outputs": [
    {
     "data": {
      "text/html": [
       "<div>\n",
       "<style scoped>\n",
       "    .dataframe tbody tr th:only-of-type {\n",
       "        vertical-align: middle;\n",
       "    }\n",
       "\n",
       "    .dataframe tbody tr th {\n",
       "        vertical-align: top;\n",
       "    }\n",
       "\n",
       "    .dataframe thead th {\n",
       "        text-align: right;\n",
       "    }\n",
       "</style>\n",
       "<table border=\"1\" class=\"dataframe\">\n",
       "  <thead>\n",
       "    <tr style=\"text-align: right;\">\n",
       "      <th></th>\n",
       "      <th>votes</th>\n",
       "      <th>approx_cost(for two people)</th>\n",
       "      <th>rate</th>\n",
       "      <th>url</th>\n",
       "    </tr>\n",
       "    <tr>\n",
       "      <th>name</th>\n",
       "      <th></th>\n",
       "      <th></th>\n",
       "      <th></th>\n",
       "      <th></th>\n",
       "    </tr>\n",
       "  </thead>\n",
       "  <tbody>\n",
       "    <tr>\n",
       "      <th>Onesta</th>\n",
       "      <td>347520</td>\n",
       "      <td>600.000000</td>\n",
       "      <td>4.410588</td>\n",
       "      <td>85</td>\n",
       "    </tr>\n",
       "    <tr>\n",
       "      <th>Truffles</th>\n",
       "      <td>301059</td>\n",
       "      <td>900.000000</td>\n",
       "      <td>4.595349</td>\n",
       "      <td>43</td>\n",
       "    </tr>\n",
       "    <tr>\n",
       "      <th>Empire Restaurant</th>\n",
       "      <td>229808</td>\n",
       "      <td>685.211268</td>\n",
       "      <td>4.030435</td>\n",
       "      <td>71</td>\n",
       "    </tr>\n",
       "    <tr>\n",
       "      <th>Hammered</th>\n",
       "      <td>180602</td>\n",
       "      <td>1272.340426</td>\n",
       "      <td>4.625000</td>\n",
       "      <td>47</td>\n",
       "    </tr>\n",
       "    <tr>\n",
       "      <th>The Black Pearl</th>\n",
       "      <td>172122</td>\n",
       "      <td>1427.777778</td>\n",
       "      <td>4.727778</td>\n",
       "      <td>18</td>\n",
       "    </tr>\n",
       "    <tr>\n",
       "      <th>...</th>\n",
       "      <td>...</td>\n",
       "      <td>...</td>\n",
       "      <td>...</td>\n",
       "      <td>...</td>\n",
       "    </tr>\n",
       "    <tr>\n",
       "      <th>Mirchi- The Indian Street Food Kitchen</th>\n",
       "      <td>0</td>\n",
       "      <td>150.000000</td>\n",
       "      <td>NaN</td>\n",
       "      <td>5</td>\n",
       "    </tr>\n",
       "    <tr>\n",
       "      <th>Mist N Creams</th>\n",
       "      <td>0</td>\n",
       "      <td>400.000000</td>\n",
       "      <td>NaN</td>\n",
       "      <td>5</td>\n",
       "    </tr>\n",
       "    <tr>\n",
       "      <th>Mithai Ghar</th>\n",
       "      <td>0</td>\n",
       "      <td>200.000000</td>\n",
       "      <td>NaN</td>\n",
       "      <td>6</td>\n",
       "    </tr>\n",
       "    <tr>\n",
       "      <th>Mitran Da Adda</th>\n",
       "      <td>0</td>\n",
       "      <td>350.000000</td>\n",
       "      <td>NaN</td>\n",
       "      <td>1</td>\n",
       "    </tr>\n",
       "    <tr>\n",
       "      <th>sCoolMeal</th>\n",
       "      <td>0</td>\n",
       "      <td>300.000000</td>\n",
       "      <td>NaN</td>\n",
       "      <td>5</td>\n",
       "    </tr>\n",
       "  </tbody>\n",
       "</table>\n",
       "<p>8792 rows × 4 columns</p>\n",
       "</div>"
      ],
      "text/plain": [
       "                                         votes  approx_cost(for two people)  \\\n",
       "name                                                                          \n",
       "Onesta                                  347520                   600.000000   \n",
       "Truffles                                301059                   900.000000   \n",
       "Empire Restaurant                       229808                   685.211268   \n",
       "Hammered                                180602                  1272.340426   \n",
       "The Black Pearl                         172122                  1427.777778   \n",
       "...                                        ...                          ...   \n",
       "Mirchi- The Indian Street Food Kitchen       0                   150.000000   \n",
       "Mist N Creams                                0                   400.000000   \n",
       "Mithai Ghar                                  0                   200.000000   \n",
       "Mitran Da Adda                               0                   350.000000   \n",
       "sCoolMeal                                    0                   300.000000   \n",
       "\n",
       "                                            rate  url  \n",
       "name                                                   \n",
       "Onesta                                  4.410588   85  \n",
       "Truffles                                4.595349   43  \n",
       "Empire Restaurant                       4.030435   71  \n",
       "Hammered                                4.625000   47  \n",
       "The Black Pearl                         4.727778   18  \n",
       "...                                          ...  ...  \n",
       "Mirchi- The Indian Street Food Kitchen       NaN    5  \n",
       "Mist N Creams                                NaN    5  \n",
       "Mithai Ghar                                  NaN    6  \n",
       "Mitran Da Adda                               NaN    1  \n",
       "sCoolMeal                                    NaN    5  \n",
       "\n",
       "[8792 rows x 4 columns]"
      ]
     },
     "execution_count": 194,
     "metadata": {},
     "output_type": "execute_result"
    }
   ],
   "source": [
    "df.groupby('name').agg({'votes':'sum' , 'approx_cost(for two people)':'mean' , 'rate':'mean' , 'url':'count'}).sort_values(by = 'votes' , ascending = False)"
   ]
  },
  {
   "cell_type": "code",
   "execution_count": 195,
   "id": "d805f179-4c5d-4377-8b3a-c80e89632de2",
   "metadata": {},
   "outputs": [],
   "source": [
    "# url  هم اضافه کردم که ببینم تعداد سایت هایی که هر رستوران دارد چقدر است"
   ]
  },
  {
   "cell_type": "code",
   "execution_count": 196,
   "id": "a5814722-6813-4535-b05e-df89300cff9c",
   "metadata": {},
   "outputs": [],
   "source": [
    "popular = df.groupby('name').agg({'votes':'sum' , 'approx_cost(for two people)':'mean' , 'rate':'mean' , 'url':'count'}).sort_values(by = 'votes' , ascending = False)"
   ]
  },
  {
   "cell_type": "code",
   "execution_count": 197,
   "id": "d16b87dd-f748-4132-a06b-4b6a26243598",
   "metadata": {},
   "outputs": [
    {
     "data": {
      "text/plain": [
       "Index(['votes', 'approx_cost(for two people)', 'rate', 'url'], dtype='object')"
      ]
     },
     "execution_count": 197,
     "metadata": {},
     "output_type": "execute_result"
    }
   ],
   "source": [
    "popular.columns"
   ]
  },
  {
   "cell_type": "code",
   "execution_count": 198,
   "id": "1152825a-b653-4505-a649-8b8544216bd7",
   "metadata": {},
   "outputs": [],
   "source": [
    "popular['realvotes'] = popular['votes']/popular['url'] # مجموع آرا هر رستوران را به تعداد سایت های آن رستوران تقسیم کردم"
   ]
  },
  {
   "cell_type": "code",
   "execution_count": 199,
   "id": "3c69e489-0ad9-476a-a246-46b1d97f12e3",
   "metadata": {},
   "outputs": [
    {
     "data": {
      "text/html": [
       "<div>\n",
       "<style scoped>\n",
       "    .dataframe tbody tr th:only-of-type {\n",
       "        vertical-align: middle;\n",
       "    }\n",
       "\n",
       "    .dataframe tbody tr th {\n",
       "        vertical-align: top;\n",
       "    }\n",
       "\n",
       "    .dataframe thead th {\n",
       "        text-align: right;\n",
       "    }\n",
       "</style>\n",
       "<table border=\"1\" class=\"dataframe\">\n",
       "  <thead>\n",
       "    <tr style=\"text-align: right;\">\n",
       "      <th></th>\n",
       "      <th>votes</th>\n",
       "      <th>approx_cost(for two people)</th>\n",
       "      <th>rate</th>\n",
       "      <th>url</th>\n",
       "      <th>realvotes</th>\n",
       "    </tr>\n",
       "    <tr>\n",
       "      <th>name</th>\n",
       "      <th></th>\n",
       "      <th></th>\n",
       "      <th></th>\n",
       "      <th></th>\n",
       "      <th></th>\n",
       "    </tr>\n",
       "  </thead>\n",
       "  <tbody>\n",
       "    <tr>\n",
       "      <th>Onesta</th>\n",
       "      <td>347520</td>\n",
       "      <td>600.000000</td>\n",
       "      <td>4.410588</td>\n",
       "      <td>85</td>\n",
       "      <td>4088.470588</td>\n",
       "    </tr>\n",
       "    <tr>\n",
       "      <th>Truffles</th>\n",
       "      <td>301059</td>\n",
       "      <td>900.000000</td>\n",
       "      <td>4.595349</td>\n",
       "      <td>43</td>\n",
       "      <td>7001.372093</td>\n",
       "    </tr>\n",
       "    <tr>\n",
       "      <th>Empire Restaurant</th>\n",
       "      <td>229808</td>\n",
       "      <td>685.211268</td>\n",
       "      <td>4.030435</td>\n",
       "      <td>71</td>\n",
       "      <td>3236.732394</td>\n",
       "    </tr>\n",
       "    <tr>\n",
       "      <th>Hammered</th>\n",
       "      <td>180602</td>\n",
       "      <td>1272.340426</td>\n",
       "      <td>4.625000</td>\n",
       "      <td>47</td>\n",
       "      <td>3842.595745</td>\n",
       "    </tr>\n",
       "    <tr>\n",
       "      <th>The Black Pearl</th>\n",
       "      <td>172122</td>\n",
       "      <td>1427.777778</td>\n",
       "      <td>4.727778</td>\n",
       "      <td>18</td>\n",
       "      <td>9562.333333</td>\n",
       "    </tr>\n",
       "    <tr>\n",
       "      <th>...</th>\n",
       "      <td>...</td>\n",
       "      <td>...</td>\n",
       "      <td>...</td>\n",
       "      <td>...</td>\n",
       "      <td>...</td>\n",
       "    </tr>\n",
       "    <tr>\n",
       "      <th>Mirchi- The Indian Street Food Kitchen</th>\n",
       "      <td>0</td>\n",
       "      <td>150.000000</td>\n",
       "      <td>NaN</td>\n",
       "      <td>5</td>\n",
       "      <td>0.000000</td>\n",
       "    </tr>\n",
       "    <tr>\n",
       "      <th>Mist N Creams</th>\n",
       "      <td>0</td>\n",
       "      <td>400.000000</td>\n",
       "      <td>NaN</td>\n",
       "      <td>5</td>\n",
       "      <td>0.000000</td>\n",
       "    </tr>\n",
       "    <tr>\n",
       "      <th>Mithai Ghar</th>\n",
       "      <td>0</td>\n",
       "      <td>200.000000</td>\n",
       "      <td>NaN</td>\n",
       "      <td>6</td>\n",
       "      <td>0.000000</td>\n",
       "    </tr>\n",
       "    <tr>\n",
       "      <th>Mitran Da Adda</th>\n",
       "      <td>0</td>\n",
       "      <td>350.000000</td>\n",
       "      <td>NaN</td>\n",
       "      <td>1</td>\n",
       "      <td>0.000000</td>\n",
       "    </tr>\n",
       "    <tr>\n",
       "      <th>sCoolMeal</th>\n",
       "      <td>0</td>\n",
       "      <td>300.000000</td>\n",
       "      <td>NaN</td>\n",
       "      <td>5</td>\n",
       "      <td>0.000000</td>\n",
       "    </tr>\n",
       "  </tbody>\n",
       "</table>\n",
       "<p>8792 rows × 5 columns</p>\n",
       "</div>"
      ],
      "text/plain": [
       "                                         votes  approx_cost(for two people)  \\\n",
       "name                                                                          \n",
       "Onesta                                  347520                   600.000000   \n",
       "Truffles                                301059                   900.000000   \n",
       "Empire Restaurant                       229808                   685.211268   \n",
       "Hammered                                180602                  1272.340426   \n",
       "The Black Pearl                         172122                  1427.777778   \n",
       "...                                        ...                          ...   \n",
       "Mirchi- The Indian Street Food Kitchen       0                   150.000000   \n",
       "Mist N Creams                                0                   400.000000   \n",
       "Mithai Ghar                                  0                   200.000000   \n",
       "Mitran Da Adda                               0                   350.000000   \n",
       "sCoolMeal                                    0                   300.000000   \n",
       "\n",
       "                                            rate  url    realvotes  \n",
       "name                                                                \n",
       "Onesta                                  4.410588   85  4088.470588  \n",
       "Truffles                                4.595349   43  7001.372093  \n",
       "Empire Restaurant                       4.030435   71  3236.732394  \n",
       "Hammered                                4.625000   47  3842.595745  \n",
       "The Black Pearl                         4.727778   18  9562.333333  \n",
       "...                                          ...  ...          ...  \n",
       "Mirchi- The Indian Street Food Kitchen       NaN    5     0.000000  \n",
       "Mist N Creams                                NaN    5     0.000000  \n",
       "Mithai Ghar                                  NaN    6     0.000000  \n",
       "Mitran Da Adda                               NaN    1     0.000000  \n",
       "sCoolMeal                                    NaN    5     0.000000  \n",
       "\n",
       "[8792 rows x 5 columns]"
      ]
     },
     "execution_count": 199,
     "metadata": {},
     "output_type": "execute_result"
    }
   ],
   "source": [
    "popular"
   ]
  },
  {
   "cell_type": "code",
   "execution_count": 200,
   "id": "7e64d703-76c7-4e7f-a5b2-37ef5ff774bf",
   "metadata": {},
   "outputs": [],
   "source": [
    "popular = popular.sort_values(by= 'approx_cost(for two people)' , ascending = True)"
   ]
  },
  {
   "cell_type": "code",
   "execution_count": 201,
   "id": "e31a6ce2-1288-4df7-b157-0df1b90b81a4",
   "metadata": {},
   "outputs": [
    {
     "data": {
      "text/html": [
       "<div>\n",
       "<style scoped>\n",
       "    .dataframe tbody tr th:only-of-type {\n",
       "        vertical-align: middle;\n",
       "    }\n",
       "\n",
       "    .dataframe tbody tr th {\n",
       "        vertical-align: top;\n",
       "    }\n",
       "\n",
       "    .dataframe thead th {\n",
       "        text-align: right;\n",
       "    }\n",
       "</style>\n",
       "<table border=\"1\" class=\"dataframe\">\n",
       "  <thead>\n",
       "    <tr style=\"text-align: right;\">\n",
       "      <th></th>\n",
       "      <th>votes</th>\n",
       "      <th>approx_cost(for two people)</th>\n",
       "      <th>rate</th>\n",
       "      <th>url</th>\n",
       "      <th>realvotes</th>\n",
       "    </tr>\n",
       "    <tr>\n",
       "      <th>name</th>\n",
       "      <th></th>\n",
       "      <th></th>\n",
       "      <th></th>\n",
       "      <th></th>\n",
       "      <th></th>\n",
       "    </tr>\n",
       "  </thead>\n",
       "  <tbody>\n",
       "    <tr>\n",
       "      <th>Srinidhi Sagar Deluxe</th>\n",
       "      <td>216</td>\n",
       "      <td>40.0</td>\n",
       "      <td>3.6</td>\n",
       "      <td>2</td>\n",
       "      <td>108.0</td>\n",
       "    </tr>\n",
       "    <tr>\n",
       "      <th>Bread &amp; Better</th>\n",
       "      <td>0</td>\n",
       "      <td>50.0</td>\n",
       "      <td>NaN</td>\n",
       "      <td>2</td>\n",
       "      <td>0.0</td>\n",
       "    </tr>\n",
       "    <tr>\n",
       "      <th>Funky Food</th>\n",
       "      <td>0</td>\n",
       "      <td>60.0</td>\n",
       "      <td>NaN</td>\n",
       "      <td>1</td>\n",
       "      <td>0.0</td>\n",
       "    </tr>\n",
       "    <tr>\n",
       "      <th>Namaste</th>\n",
       "      <td>0</td>\n",
       "      <td>70.0</td>\n",
       "      <td>NaN</td>\n",
       "      <td>2</td>\n",
       "      <td>0.0</td>\n",
       "    </tr>\n",
       "    <tr>\n",
       "      <th>Nellore Dosa Camp</th>\n",
       "      <td>5</td>\n",
       "      <td>70.0</td>\n",
       "      <td>3.3</td>\n",
       "      <td>1</td>\n",
       "      <td>5.0</td>\n",
       "    </tr>\n",
       "    <tr>\n",
       "      <th>...</th>\n",
       "      <td>...</td>\n",
       "      <td>...</td>\n",
       "      <td>...</td>\n",
       "      <td>...</td>\n",
       "      <td>...</td>\n",
       "    </tr>\n",
       "    <tr>\n",
       "      <th>Southern Stop</th>\n",
       "      <td>0</td>\n",
       "      <td>NaN</td>\n",
       "      <td>NaN</td>\n",
       "      <td>4</td>\n",
       "      <td>0.0</td>\n",
       "    </tr>\n",
       "    <tr>\n",
       "      <th>Rufi's Kati Roll</th>\n",
       "      <td>0</td>\n",
       "      <td>NaN</td>\n",
       "      <td>NaN</td>\n",
       "      <td>3</td>\n",
       "      <td>0.0</td>\n",
       "    </tr>\n",
       "    <tr>\n",
       "      <th>Naati house</th>\n",
       "      <td>0</td>\n",
       "      <td>NaN</td>\n",
       "      <td>NaN</td>\n",
       "      <td>2</td>\n",
       "      <td>0.0</td>\n",
       "    </tr>\n",
       "    <tr>\n",
       "      <th>Mayas kitchen</th>\n",
       "      <td>0</td>\n",
       "      <td>NaN</td>\n",
       "      <td>NaN</td>\n",
       "      <td>4</td>\n",
       "      <td>0.0</td>\n",
       "    </tr>\n",
       "    <tr>\n",
       "      <th>Mohabbat Desi Restaurant</th>\n",
       "      <td>0</td>\n",
       "      <td>NaN</td>\n",
       "      <td>NaN</td>\n",
       "      <td>1</td>\n",
       "      <td>0.0</td>\n",
       "    </tr>\n",
       "  </tbody>\n",
       "</table>\n",
       "<p>8792 rows × 5 columns</p>\n",
       "</div>"
      ],
      "text/plain": [
       "                          votes  approx_cost(for two people)  rate  url  \\\n",
       "name                                                                      \n",
       "Srinidhi Sagar Deluxe       216                         40.0   3.6    2   \n",
       "Bread & Better                0                         50.0   NaN    2   \n",
       "Funky Food                    0                         60.0   NaN    1   \n",
       "Namaste                       0                         70.0   NaN    2   \n",
       "Nellore Dosa Camp             5                         70.0   3.3    1   \n",
       "...                         ...                          ...   ...  ...   \n",
       "Southern Stop                 0                          NaN   NaN    4   \n",
       "Rufi's Kati Roll              0                          NaN   NaN    3   \n",
       "Naati house                   0                          NaN   NaN    2   \n",
       "Mayas kitchen                 0                          NaN   NaN    4   \n",
       "Mohabbat Desi Restaurant      0                          NaN   NaN    1   \n",
       "\n",
       "                          realvotes  \n",
       "name                                 \n",
       "Srinidhi Sagar Deluxe         108.0  \n",
       "Bread & Better                  0.0  \n",
       "Funky Food                      0.0  \n",
       "Namaste                         0.0  \n",
       "Nellore Dosa Camp               5.0  \n",
       "...                             ...  \n",
       "Southern Stop                   0.0  \n",
       "Rufi's Kati Roll                0.0  \n",
       "Naati house                     0.0  \n",
       "Mayas kitchen                   0.0  \n",
       "Mohabbat Desi Restaurant        0.0  \n",
       "\n",
       "[8792 rows x 5 columns]"
      ]
     },
     "execution_count": 201,
     "metadata": {},
     "output_type": "execute_result"
    }
   ],
   "source": [
    "popular "
   ]
  },
  {
   "cell_type": "code",
   "execution_count": 202,
   "id": "bc4796e5-85a8-4342-bcf1-7e0e731c229e",
   "metadata": {},
   "outputs": [],
   "source": [
    "# از اینجا به بعد یک سیستم پیشنهادگر ایجاد می کنم با استفاده از چند فیلتر"
   ]
  },
  {
   "cell_type": "code",
   "execution_count": null,
   "id": "a3240861-3122-42cc-9413-80700aaad487",
   "metadata": {},
   "outputs": [],
   "source": []
  }
 ],
 "metadata": {
  "kernelspec": {
   "display_name": "Python 3 (ipykernel)",
   "language": "python",
   "name": "python3"
  },
  "language_info": {
   "codemirror_mode": {
    "name": "ipython",
    "version": 3
   },
   "file_extension": ".py",
   "mimetype": "text/x-python",
   "name": "python",
   "nbconvert_exporter": "python",
   "pygments_lexer": "ipython3",
   "version": "3.12.4"
  }
 },
 "nbformat": 4,
 "nbformat_minor": 5
}
