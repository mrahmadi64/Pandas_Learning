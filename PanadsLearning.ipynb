{
 "cells": [
  {
   "cell_type": "code",
   "execution_count": 1,
   "id": "bd665675-2cb9-4171-8fb7-a2b3a8e81f80",
   "metadata": {},
   "outputs": [],
   "source": [
    "import pandas as pd"
   ]
  },
  {
   "cell_type": "code",
   "execution_count": 2,
   "id": "2fa6ba2a-db7d-4b78-bfff-782ea2282328",
   "metadata": {},
   "outputs": [],
   "source": [
    "import numpy as np"
   ]
  },
  {
   "cell_type": "code",
   "execution_count": 3,
   "id": "8bc35251-15f8-476b-8ea7-d7b77b281ef0",
   "metadata": {},
   "outputs": [],
   "source": [
    "from pandas import DataFrame"
   ]
  },
  {
   "cell_type": "code",
   "execution_count": 4,
   "id": "a0c9a7d8-6f2b-4f92-9a93-0f3f81a87461",
   "metadata": {},
   "outputs": [],
   "source": [
    "import sqlite3"
   ]
  },
  {
   "cell_type": "code",
   "execution_count": 5,
   "id": "cd3a7118-4297-4504-8cd0-0af94e2e5ac3",
   "metadata": {},
   "outputs": [],
   "source": [
    "con = sqlite3.connect(r'D:\\my data\\faradars\\Python\\Pandas\\[FVPY328] Pandas_Projects [Files_And_Codes]\\zomato_rawdata.sqlite')"
   ]
  },
  {
   "cell_type": "code",
   "execution_count": 6,
   "id": "2230b4b6-f252-4686-ba38-b993fd3a5c10",
   "metadata": {},
   "outputs": [],
   "source": [
    "df = pd.read_sql_query(\"select * from Users\",con)"
   ]
  },
  {
   "cell_type": "code",
   "execution_count": 7,
   "id": "06654d2b-f78b-4d06-a8b9-dbb1f9d47cdd",
   "metadata": {},
   "outputs": [
    {
     "data": {
      "text/html": [
       "<div>\n",
       "<style scoped>\n",
       "    .dataframe tbody tr th:only-of-type {\n",
       "        vertical-align: middle;\n",
       "    }\n",
       "\n",
       "    .dataframe tbody tr th {\n",
       "        vertical-align: top;\n",
       "    }\n",
       "\n",
       "    .dataframe thead th {\n",
       "        text-align: right;\n",
       "    }\n",
       "</style>\n",
       "<table border=\"1\" class=\"dataframe\">\n",
       "  <thead>\n",
       "    <tr style=\"text-align: right;\">\n",
       "      <th></th>\n",
       "      <th>index</th>\n",
       "      <th>url</th>\n",
       "      <th>address</th>\n",
       "      <th>name</th>\n",
       "      <th>online_order</th>\n",
       "      <th>book_table</th>\n",
       "      <th>rate</th>\n",
       "      <th>votes</th>\n",
       "      <th>phone</th>\n",
       "      <th>location</th>\n",
       "      <th>rest_type</th>\n",
       "      <th>dish_liked</th>\n",
       "      <th>cuisines</th>\n",
       "      <th>approx_cost(for two people)</th>\n",
       "      <th>reviews_list</th>\n",
       "      <th>menu_item</th>\n",
       "      <th>listed_in(type)</th>\n",
       "      <th>listed_in(city)</th>\n",
       "    </tr>\n",
       "  </thead>\n",
       "  <tbody>\n",
       "    <tr>\n",
       "      <th>0</th>\n",
       "      <td>0</td>\n",
       "      <td>https://www.zomato.com/bangalore/jalsa-banasha...</td>\n",
       "      <td>942, 21st Main Road, 2nd Stage, Banashankari, ...</td>\n",
       "      <td>Jalsa</td>\n",
       "      <td>Yes</td>\n",
       "      <td>Yes</td>\n",
       "      <td>4.1/5</td>\n",
       "      <td>775</td>\n",
       "      <td>080 42297555\\r\\n+91 9743772233</td>\n",
       "      <td>Banashankari</td>\n",
       "      <td>Casual Dining</td>\n",
       "      <td>Pasta, Lunch Buffet, Masala Papad, Paneer Laja...</td>\n",
       "      <td>North Indian, Mughlai, Chinese</td>\n",
       "      <td>800</td>\n",
       "      <td>[('Rated 4.0', 'RATED\\n  A beautiful place to ...</td>\n",
       "      <td>[]</td>\n",
       "      <td>Buffet</td>\n",
       "      <td>Banashankari</td>\n",
       "    </tr>\n",
       "    <tr>\n",
       "      <th>1</th>\n",
       "      <td>1</td>\n",
       "      <td>https://www.zomato.com/bangalore/spice-elephan...</td>\n",
       "      <td>2nd Floor, 80 Feet Road, Near Big Bazaar, 6th ...</td>\n",
       "      <td>Spice Elephant</td>\n",
       "      <td>Yes</td>\n",
       "      <td>No</td>\n",
       "      <td>4.1/5</td>\n",
       "      <td>787</td>\n",
       "      <td>080 41714161</td>\n",
       "      <td>Banashankari</td>\n",
       "      <td>Casual Dining</td>\n",
       "      <td>Momos, Lunch Buffet, Chocolate Nirvana, Thai G...</td>\n",
       "      <td>Chinese, North Indian, Thai</td>\n",
       "      <td>800</td>\n",
       "      <td>[('Rated 4.0', 'RATED\\n  Had been here for din...</td>\n",
       "      <td>[]</td>\n",
       "      <td>Buffet</td>\n",
       "      <td>Banashankari</td>\n",
       "    </tr>\n",
       "    <tr>\n",
       "      <th>2</th>\n",
       "      <td>2</td>\n",
       "      <td>https://www.zomato.com/SanchurroBangalore?cont...</td>\n",
       "      <td>1112, Next to KIMS Medical College, 17th Cross...</td>\n",
       "      <td>San Churro Cafe</td>\n",
       "      <td>Yes</td>\n",
       "      <td>No</td>\n",
       "      <td>3.8/5</td>\n",
       "      <td>918</td>\n",
       "      <td>+91 9663487993</td>\n",
       "      <td>Banashankari</td>\n",
       "      <td>Cafe, Casual Dining</td>\n",
       "      <td>Churros, Cannelloni, Minestrone Soup, Hot Choc...</td>\n",
       "      <td>Cafe, Mexican, Italian</td>\n",
       "      <td>800</td>\n",
       "      <td>[('Rated 3.0', \"RATED\\n  Ambience is not that ...</td>\n",
       "      <td>[]</td>\n",
       "      <td>Buffet</td>\n",
       "      <td>Banashankari</td>\n",
       "    </tr>\n",
       "    <tr>\n",
       "      <th>3</th>\n",
       "      <td>3</td>\n",
       "      <td>https://www.zomato.com/bangalore/addhuri-udupi...</td>\n",
       "      <td>1st Floor, Annakuteera, 3rd Stage, Banashankar...</td>\n",
       "      <td>Addhuri Udupi Bhojana</td>\n",
       "      <td>No</td>\n",
       "      <td>No</td>\n",
       "      <td>3.7/5</td>\n",
       "      <td>88</td>\n",
       "      <td>+91 9620009302</td>\n",
       "      <td>Banashankari</td>\n",
       "      <td>Quick Bites</td>\n",
       "      <td>Masala Dosa</td>\n",
       "      <td>South Indian, North Indian</td>\n",
       "      <td>300</td>\n",
       "      <td>[('Rated 4.0', \"RATED\\n  Great food and proper...</td>\n",
       "      <td>[]</td>\n",
       "      <td>Buffet</td>\n",
       "      <td>Banashankari</td>\n",
       "    </tr>\n",
       "    <tr>\n",
       "      <th>4</th>\n",
       "      <td>4</td>\n",
       "      <td>https://www.zomato.com/bangalore/grand-village...</td>\n",
       "      <td>10, 3rd Floor, Lakshmi Associates, Gandhi Baza...</td>\n",
       "      <td>Grand Village</td>\n",
       "      <td>No</td>\n",
       "      <td>No</td>\n",
       "      <td>3.8/5</td>\n",
       "      <td>166</td>\n",
       "      <td>+91 8026612447\\r\\n+91 9901210005</td>\n",
       "      <td>Basavanagudi</td>\n",
       "      <td>Casual Dining</td>\n",
       "      <td>Panipuri, Gol Gappe</td>\n",
       "      <td>North Indian, Rajasthani</td>\n",
       "      <td>600</td>\n",
       "      <td>[('Rated 4.0', 'RATED\\n  Very good restaurant ...</td>\n",
       "      <td>[]</td>\n",
       "      <td>Buffet</td>\n",
       "      <td>Banashankari</td>\n",
       "    </tr>\n",
       "    <tr>\n",
       "      <th>...</th>\n",
       "      <td>...</td>\n",
       "      <td>...</td>\n",
       "      <td>...</td>\n",
       "      <td>...</td>\n",
       "      <td>...</td>\n",
       "      <td>...</td>\n",
       "      <td>...</td>\n",
       "      <td>...</td>\n",
       "      <td>...</td>\n",
       "      <td>...</td>\n",
       "      <td>...</td>\n",
       "      <td>...</td>\n",
       "      <td>...</td>\n",
       "      <td>...</td>\n",
       "      <td>...</td>\n",
       "      <td>...</td>\n",
       "      <td>...</td>\n",
       "      <td>...</td>\n",
       "    </tr>\n",
       "    <tr>\n",
       "      <th>51712</th>\n",
       "      <td>51712</td>\n",
       "      <td>https://www.zomato.com/bangalore/best-brews-fo...</td>\n",
       "      <td>Four Points by Sheraton Bengaluru, 43/3, White...</td>\n",
       "      <td>Best Brews - Four Points by Sheraton Bengaluru...</td>\n",
       "      <td>No</td>\n",
       "      <td>No</td>\n",
       "      <td>3.6 /5</td>\n",
       "      <td>27</td>\n",
       "      <td>080 40301477</td>\n",
       "      <td>Whitefield</td>\n",
       "      <td>Bar</td>\n",
       "      <td>None</td>\n",
       "      <td>Continental</td>\n",
       "      <td>1,500</td>\n",
       "      <td>[('Rated 5.0', \"RATED\\n  Food and service are ...</td>\n",
       "      <td>[]</td>\n",
       "      <td>Pubs and bars</td>\n",
       "      <td>Whitefield</td>\n",
       "    </tr>\n",
       "    <tr>\n",
       "      <th>51713</th>\n",
       "      <td>51713</td>\n",
       "      <td>https://www.zomato.com/bangalore/vinod-bar-and...</td>\n",
       "      <td>Number 10, Garudachar Palya, Mahadevapura, Whi...</td>\n",
       "      <td>Vinod Bar And Restaurant</td>\n",
       "      <td>No</td>\n",
       "      <td>No</td>\n",
       "      <td>None</td>\n",
       "      <td>0</td>\n",
       "      <td>+91 8197675843</td>\n",
       "      <td>Whitefield</td>\n",
       "      <td>Bar</td>\n",
       "      <td>None</td>\n",
       "      <td>Finger Food</td>\n",
       "      <td>600</td>\n",
       "      <td>[]</td>\n",
       "      <td>[]</td>\n",
       "      <td>Pubs and bars</td>\n",
       "      <td>Whitefield</td>\n",
       "    </tr>\n",
       "    <tr>\n",
       "      <th>51714</th>\n",
       "      <td>51714</td>\n",
       "      <td>https://www.zomato.com/bangalore/plunge-sherat...</td>\n",
       "      <td>Sheraton Grand Bengaluru Whitefield Hotel &amp; Co...</td>\n",
       "      <td>Plunge - Sheraton Grand Bengaluru Whitefield H...</td>\n",
       "      <td>No</td>\n",
       "      <td>No</td>\n",
       "      <td>None</td>\n",
       "      <td>0</td>\n",
       "      <td>None</td>\n",
       "      <td>Whitefield</td>\n",
       "      <td>Bar</td>\n",
       "      <td>None</td>\n",
       "      <td>Finger Food</td>\n",
       "      <td>2,000</td>\n",
       "      <td>[]</td>\n",
       "      <td>[]</td>\n",
       "      <td>Pubs and bars</td>\n",
       "      <td>Whitefield</td>\n",
       "    </tr>\n",
       "    <tr>\n",
       "      <th>51715</th>\n",
       "      <td>51715</td>\n",
       "      <td>https://www.zomato.com/bangalore/chime-sherato...</td>\n",
       "      <td>Sheraton Grand Bengaluru Whitefield Hotel &amp; Co...</td>\n",
       "      <td>Chime - Sheraton Grand Bengaluru Whitefield Ho...</td>\n",
       "      <td>No</td>\n",
       "      <td>Yes</td>\n",
       "      <td>4.3 /5</td>\n",
       "      <td>236</td>\n",
       "      <td>080 49652769</td>\n",
       "      <td>ITPL Main Road, Whitefield</td>\n",
       "      <td>Bar</td>\n",
       "      <td>Cocktails, Pizza, Buttermilk</td>\n",
       "      <td>Finger Food</td>\n",
       "      <td>2,500</td>\n",
       "      <td>[('Rated 4.0', 'RATED\\n  Nice and friendly pla...</td>\n",
       "      <td>[]</td>\n",
       "      <td>Pubs and bars</td>\n",
       "      <td>Whitefield</td>\n",
       "    </tr>\n",
       "    <tr>\n",
       "      <th>51716</th>\n",
       "      <td>51716</td>\n",
       "      <td>https://www.zomato.com/bangalore/the-nest-the-...</td>\n",
       "      <td>ITPL Main Road, KIADB Export Promotion Industr...</td>\n",
       "      <td>The Nest - The Den Bengaluru</td>\n",
       "      <td>No</td>\n",
       "      <td>No</td>\n",
       "      <td>3.4 /5</td>\n",
       "      <td>13</td>\n",
       "      <td>+91 8071117272</td>\n",
       "      <td>ITPL Main Road, Whitefield</td>\n",
       "      <td>Bar, Casual Dining</td>\n",
       "      <td>None</td>\n",
       "      <td>Finger Food, North Indian, Continental</td>\n",
       "      <td>1,500</td>\n",
       "      <td>[('Rated 5.0', 'RATED\\n  Great ambience , look...</td>\n",
       "      <td>[]</td>\n",
       "      <td>Pubs and bars</td>\n",
       "      <td>Whitefield</td>\n",
       "    </tr>\n",
       "  </tbody>\n",
       "</table>\n",
       "<p>51717 rows × 18 columns</p>\n",
       "</div>"
      ],
      "text/plain": [
       "       index                                                url  \\\n",
       "0          0  https://www.zomato.com/bangalore/jalsa-banasha...   \n",
       "1          1  https://www.zomato.com/bangalore/spice-elephan...   \n",
       "2          2  https://www.zomato.com/SanchurroBangalore?cont...   \n",
       "3          3  https://www.zomato.com/bangalore/addhuri-udupi...   \n",
       "4          4  https://www.zomato.com/bangalore/grand-village...   \n",
       "...      ...                                                ...   \n",
       "51712  51712  https://www.zomato.com/bangalore/best-brews-fo...   \n",
       "51713  51713  https://www.zomato.com/bangalore/vinod-bar-and...   \n",
       "51714  51714  https://www.zomato.com/bangalore/plunge-sherat...   \n",
       "51715  51715  https://www.zomato.com/bangalore/chime-sherato...   \n",
       "51716  51716  https://www.zomato.com/bangalore/the-nest-the-...   \n",
       "\n",
       "                                                 address  \\\n",
       "0      942, 21st Main Road, 2nd Stage, Banashankari, ...   \n",
       "1      2nd Floor, 80 Feet Road, Near Big Bazaar, 6th ...   \n",
       "2      1112, Next to KIMS Medical College, 17th Cross...   \n",
       "3      1st Floor, Annakuteera, 3rd Stage, Banashankar...   \n",
       "4      10, 3rd Floor, Lakshmi Associates, Gandhi Baza...   \n",
       "...                                                  ...   \n",
       "51712  Four Points by Sheraton Bengaluru, 43/3, White...   \n",
       "51713  Number 10, Garudachar Palya, Mahadevapura, Whi...   \n",
       "51714  Sheraton Grand Bengaluru Whitefield Hotel & Co...   \n",
       "51715  Sheraton Grand Bengaluru Whitefield Hotel & Co...   \n",
       "51716  ITPL Main Road, KIADB Export Promotion Industr...   \n",
       "\n",
       "                                                    name online_order  \\\n",
       "0                                                  Jalsa          Yes   \n",
       "1                                         Spice Elephant          Yes   \n",
       "2                                        San Churro Cafe          Yes   \n",
       "3                                  Addhuri Udupi Bhojana           No   \n",
       "4                                          Grand Village           No   \n",
       "...                                                  ...          ...   \n",
       "51712  Best Brews - Four Points by Sheraton Bengaluru...           No   \n",
       "51713                           Vinod Bar And Restaurant           No   \n",
       "51714  Plunge - Sheraton Grand Bengaluru Whitefield H...           No   \n",
       "51715  Chime - Sheraton Grand Bengaluru Whitefield Ho...           No   \n",
       "51716                       The Nest - The Den Bengaluru           No   \n",
       "\n",
       "      book_table    rate  votes                             phone  \\\n",
       "0            Yes   4.1/5    775    080 42297555\\r\\n+91 9743772233   \n",
       "1             No   4.1/5    787                      080 41714161   \n",
       "2             No   3.8/5    918                    +91 9663487993   \n",
       "3             No   3.7/5     88                    +91 9620009302   \n",
       "4             No   3.8/5    166  +91 8026612447\\r\\n+91 9901210005   \n",
       "...          ...     ...    ...                               ...   \n",
       "51712         No  3.6 /5     27                      080 40301477   \n",
       "51713         No    None      0                    +91 8197675843   \n",
       "51714         No    None      0                              None   \n",
       "51715        Yes  4.3 /5    236                      080 49652769   \n",
       "51716         No  3.4 /5     13                    +91 8071117272   \n",
       "\n",
       "                         location            rest_type  \\\n",
       "0                    Banashankari        Casual Dining   \n",
       "1                    Banashankari        Casual Dining   \n",
       "2                    Banashankari  Cafe, Casual Dining   \n",
       "3                    Banashankari          Quick Bites   \n",
       "4                    Basavanagudi        Casual Dining   \n",
       "...                           ...                  ...   \n",
       "51712                  Whitefield                  Bar   \n",
       "51713                  Whitefield                  Bar   \n",
       "51714                  Whitefield                  Bar   \n",
       "51715  ITPL Main Road, Whitefield                  Bar   \n",
       "51716  ITPL Main Road, Whitefield   Bar, Casual Dining   \n",
       "\n",
       "                                              dish_liked  \\\n",
       "0      Pasta, Lunch Buffet, Masala Papad, Paneer Laja...   \n",
       "1      Momos, Lunch Buffet, Chocolate Nirvana, Thai G...   \n",
       "2      Churros, Cannelloni, Minestrone Soup, Hot Choc...   \n",
       "3                                            Masala Dosa   \n",
       "4                                    Panipuri, Gol Gappe   \n",
       "...                                                  ...   \n",
       "51712                                               None   \n",
       "51713                                               None   \n",
       "51714                                               None   \n",
       "51715                       Cocktails, Pizza, Buttermilk   \n",
       "51716                                               None   \n",
       "\n",
       "                                     cuisines approx_cost(for two people)  \\\n",
       "0              North Indian, Mughlai, Chinese                         800   \n",
       "1                 Chinese, North Indian, Thai                         800   \n",
       "2                      Cafe, Mexican, Italian                         800   \n",
       "3                  South Indian, North Indian                         300   \n",
       "4                    North Indian, Rajasthani                         600   \n",
       "...                                       ...                         ...   \n",
       "51712                             Continental                       1,500   \n",
       "51713                             Finger Food                         600   \n",
       "51714                             Finger Food                       2,000   \n",
       "51715                             Finger Food                       2,500   \n",
       "51716  Finger Food, North Indian, Continental                       1,500   \n",
       "\n",
       "                                            reviews_list menu_item  \\\n",
       "0      [('Rated 4.0', 'RATED\\n  A beautiful place to ...        []   \n",
       "1      [('Rated 4.0', 'RATED\\n  Had been here for din...        []   \n",
       "2      [('Rated 3.0', \"RATED\\n  Ambience is not that ...        []   \n",
       "3      [('Rated 4.0', \"RATED\\n  Great food and proper...        []   \n",
       "4      [('Rated 4.0', 'RATED\\n  Very good restaurant ...        []   \n",
       "...                                                  ...       ...   \n",
       "51712  [('Rated 5.0', \"RATED\\n  Food and service are ...        []   \n",
       "51713                                                 []        []   \n",
       "51714                                                 []        []   \n",
       "51715  [('Rated 4.0', 'RATED\\n  Nice and friendly pla...        []   \n",
       "51716  [('Rated 5.0', 'RATED\\n  Great ambience , look...        []   \n",
       "\n",
       "      listed_in(type) listed_in(city)  \n",
       "0              Buffet    Banashankari  \n",
       "1              Buffet    Banashankari  \n",
       "2              Buffet    Banashankari  \n",
       "3              Buffet    Banashankari  \n",
       "4              Buffet    Banashankari  \n",
       "...               ...             ...  \n",
       "51712   Pubs and bars      Whitefield  \n",
       "51713   Pubs and bars      Whitefield  \n",
       "51714   Pubs and bars      Whitefield  \n",
       "51715   Pubs and bars      Whitefield  \n",
       "51716   Pubs and bars      Whitefield  \n",
       "\n",
       "[51717 rows x 18 columns]"
      ]
     },
     "execution_count": 7,
     "metadata": {},
     "output_type": "execute_result"
    }
   ],
   "source": [
    "df"
   ]
  },
  {
   "cell_type": "code",
   "execution_count": 8,
   "id": "b338fb0c-bc12-469f-a537-d90cf57b5f08",
   "metadata": {},
   "outputs": [
    {
     "data": {
      "text/plain": [
       "<bound method NDFrame.head of        index                                                url  \\\n",
       "0          0  https://www.zomato.com/bangalore/jalsa-banasha...   \n",
       "1          1  https://www.zomato.com/bangalore/spice-elephan...   \n",
       "2          2  https://www.zomato.com/SanchurroBangalore?cont...   \n",
       "3          3  https://www.zomato.com/bangalore/addhuri-udupi...   \n",
       "4          4  https://www.zomato.com/bangalore/grand-village...   \n",
       "...      ...                                                ...   \n",
       "51712  51712  https://www.zomato.com/bangalore/best-brews-fo...   \n",
       "51713  51713  https://www.zomato.com/bangalore/vinod-bar-and...   \n",
       "51714  51714  https://www.zomato.com/bangalore/plunge-sherat...   \n",
       "51715  51715  https://www.zomato.com/bangalore/chime-sherato...   \n",
       "51716  51716  https://www.zomato.com/bangalore/the-nest-the-...   \n",
       "\n",
       "                                                 address  \\\n",
       "0      942, 21st Main Road, 2nd Stage, Banashankari, ...   \n",
       "1      2nd Floor, 80 Feet Road, Near Big Bazaar, 6th ...   \n",
       "2      1112, Next to KIMS Medical College, 17th Cross...   \n",
       "3      1st Floor, Annakuteera, 3rd Stage, Banashankar...   \n",
       "4      10, 3rd Floor, Lakshmi Associates, Gandhi Baza...   \n",
       "...                                                  ...   \n",
       "51712  Four Points by Sheraton Bengaluru, 43/3, White...   \n",
       "51713  Number 10, Garudachar Palya, Mahadevapura, Whi...   \n",
       "51714  Sheraton Grand Bengaluru Whitefield Hotel & Co...   \n",
       "51715  Sheraton Grand Bengaluru Whitefield Hotel & Co...   \n",
       "51716  ITPL Main Road, KIADB Export Promotion Industr...   \n",
       "\n",
       "                                                    name online_order  \\\n",
       "0                                                  Jalsa          Yes   \n",
       "1                                         Spice Elephant          Yes   \n",
       "2                                        San Churro Cafe          Yes   \n",
       "3                                  Addhuri Udupi Bhojana           No   \n",
       "4                                          Grand Village           No   \n",
       "...                                                  ...          ...   \n",
       "51712  Best Brews - Four Points by Sheraton Bengaluru...           No   \n",
       "51713                           Vinod Bar And Restaurant           No   \n",
       "51714  Plunge - Sheraton Grand Bengaluru Whitefield H...           No   \n",
       "51715  Chime - Sheraton Grand Bengaluru Whitefield Ho...           No   \n",
       "51716                       The Nest - The Den Bengaluru           No   \n",
       "\n",
       "      book_table    rate  votes                             phone  \\\n",
       "0            Yes   4.1/5    775    080 42297555\\r\\n+91 9743772233   \n",
       "1             No   4.1/5    787                      080 41714161   \n",
       "2             No   3.8/5    918                    +91 9663487993   \n",
       "3             No   3.7/5     88                    +91 9620009302   \n",
       "4             No   3.8/5    166  +91 8026612447\\r\\n+91 9901210005   \n",
       "...          ...     ...    ...                               ...   \n",
       "51712         No  3.6 /5     27                      080 40301477   \n",
       "51713         No    None      0                    +91 8197675843   \n",
       "51714         No    None      0                              None   \n",
       "51715        Yes  4.3 /5    236                      080 49652769   \n",
       "51716         No  3.4 /5     13                    +91 8071117272   \n",
       "\n",
       "                         location            rest_type  \\\n",
       "0                    Banashankari        Casual Dining   \n",
       "1                    Banashankari        Casual Dining   \n",
       "2                    Banashankari  Cafe, Casual Dining   \n",
       "3                    Banashankari          Quick Bites   \n",
       "4                    Basavanagudi        Casual Dining   \n",
       "...                           ...                  ...   \n",
       "51712                  Whitefield                  Bar   \n",
       "51713                  Whitefield                  Bar   \n",
       "51714                  Whitefield                  Bar   \n",
       "51715  ITPL Main Road, Whitefield                  Bar   \n",
       "51716  ITPL Main Road, Whitefield   Bar, Casual Dining   \n",
       "\n",
       "                                              dish_liked  \\\n",
       "0      Pasta, Lunch Buffet, Masala Papad, Paneer Laja...   \n",
       "1      Momos, Lunch Buffet, Chocolate Nirvana, Thai G...   \n",
       "2      Churros, Cannelloni, Minestrone Soup, Hot Choc...   \n",
       "3                                            Masala Dosa   \n",
       "4                                    Panipuri, Gol Gappe   \n",
       "...                                                  ...   \n",
       "51712                                               None   \n",
       "51713                                               None   \n",
       "51714                                               None   \n",
       "51715                       Cocktails, Pizza, Buttermilk   \n",
       "51716                                               None   \n",
       "\n",
       "                                     cuisines approx_cost(for two people)  \\\n",
       "0              North Indian, Mughlai, Chinese                         800   \n",
       "1                 Chinese, North Indian, Thai                         800   \n",
       "2                      Cafe, Mexican, Italian                         800   \n",
       "3                  South Indian, North Indian                         300   \n",
       "4                    North Indian, Rajasthani                         600   \n",
       "...                                       ...                         ...   \n",
       "51712                             Continental                       1,500   \n",
       "51713                             Finger Food                         600   \n",
       "51714                             Finger Food                       2,000   \n",
       "51715                             Finger Food                       2,500   \n",
       "51716  Finger Food, North Indian, Continental                       1,500   \n",
       "\n",
       "                                            reviews_list menu_item  \\\n",
       "0      [('Rated 4.0', 'RATED\\n  A beautiful place to ...        []   \n",
       "1      [('Rated 4.0', 'RATED\\n  Had been here for din...        []   \n",
       "2      [('Rated 3.0', \"RATED\\n  Ambience is not that ...        []   \n",
       "3      [('Rated 4.0', \"RATED\\n  Great food and proper...        []   \n",
       "4      [('Rated 4.0', 'RATED\\n  Very good restaurant ...        []   \n",
       "...                                                  ...       ...   \n",
       "51712  [('Rated 5.0', \"RATED\\n  Food and service are ...        []   \n",
       "51713                                                 []        []   \n",
       "51714                                                 []        []   \n",
       "51715  [('Rated 4.0', 'RATED\\n  Nice and friendly pla...        []   \n",
       "51716  [('Rated 5.0', 'RATED\\n  Great ambience , look...        []   \n",
       "\n",
       "      listed_in(type) listed_in(city)  \n",
       "0              Buffet    Banashankari  \n",
       "1              Buffet    Banashankari  \n",
       "2              Buffet    Banashankari  \n",
       "3              Buffet    Banashankari  \n",
       "4              Buffet    Banashankari  \n",
       "...               ...             ...  \n",
       "51712   Pubs and bars      Whitefield  \n",
       "51713   Pubs and bars      Whitefield  \n",
       "51714   Pubs and bars      Whitefield  \n",
       "51715   Pubs and bars      Whitefield  \n",
       "51716   Pubs and bars      Whitefield  \n",
       "\n",
       "[51717 rows x 18 columns]>"
      ]
     },
     "execution_count": 8,
     "metadata": {},
     "output_type": "execute_result"
    }
   ],
   "source": [
    "df.head"
   ]
  },
  {
   "cell_type": "code",
   "execution_count": 9,
   "id": "96f098cf-07f4-4053-8914-bfe8c130238d",
   "metadata": {},
   "outputs": [
    {
     "data": {
      "text/plain": [
       "<bound method NDFrame.tail of        index                                                url  \\\n",
       "0          0  https://www.zomato.com/bangalore/jalsa-banasha...   \n",
       "1          1  https://www.zomato.com/bangalore/spice-elephan...   \n",
       "2          2  https://www.zomato.com/SanchurroBangalore?cont...   \n",
       "3          3  https://www.zomato.com/bangalore/addhuri-udupi...   \n",
       "4          4  https://www.zomato.com/bangalore/grand-village...   \n",
       "...      ...                                                ...   \n",
       "51712  51712  https://www.zomato.com/bangalore/best-brews-fo...   \n",
       "51713  51713  https://www.zomato.com/bangalore/vinod-bar-and...   \n",
       "51714  51714  https://www.zomato.com/bangalore/plunge-sherat...   \n",
       "51715  51715  https://www.zomato.com/bangalore/chime-sherato...   \n",
       "51716  51716  https://www.zomato.com/bangalore/the-nest-the-...   \n",
       "\n",
       "                                                 address  \\\n",
       "0      942, 21st Main Road, 2nd Stage, Banashankari, ...   \n",
       "1      2nd Floor, 80 Feet Road, Near Big Bazaar, 6th ...   \n",
       "2      1112, Next to KIMS Medical College, 17th Cross...   \n",
       "3      1st Floor, Annakuteera, 3rd Stage, Banashankar...   \n",
       "4      10, 3rd Floor, Lakshmi Associates, Gandhi Baza...   \n",
       "...                                                  ...   \n",
       "51712  Four Points by Sheraton Bengaluru, 43/3, White...   \n",
       "51713  Number 10, Garudachar Palya, Mahadevapura, Whi...   \n",
       "51714  Sheraton Grand Bengaluru Whitefield Hotel & Co...   \n",
       "51715  Sheraton Grand Bengaluru Whitefield Hotel & Co...   \n",
       "51716  ITPL Main Road, KIADB Export Promotion Industr...   \n",
       "\n",
       "                                                    name online_order  \\\n",
       "0                                                  Jalsa          Yes   \n",
       "1                                         Spice Elephant          Yes   \n",
       "2                                        San Churro Cafe          Yes   \n",
       "3                                  Addhuri Udupi Bhojana           No   \n",
       "4                                          Grand Village           No   \n",
       "...                                                  ...          ...   \n",
       "51712  Best Brews - Four Points by Sheraton Bengaluru...           No   \n",
       "51713                           Vinod Bar And Restaurant           No   \n",
       "51714  Plunge - Sheraton Grand Bengaluru Whitefield H...           No   \n",
       "51715  Chime - Sheraton Grand Bengaluru Whitefield Ho...           No   \n",
       "51716                       The Nest - The Den Bengaluru           No   \n",
       "\n",
       "      book_table    rate  votes                             phone  \\\n",
       "0            Yes   4.1/5    775    080 42297555\\r\\n+91 9743772233   \n",
       "1             No   4.1/5    787                      080 41714161   \n",
       "2             No   3.8/5    918                    +91 9663487993   \n",
       "3             No   3.7/5     88                    +91 9620009302   \n",
       "4             No   3.8/5    166  +91 8026612447\\r\\n+91 9901210005   \n",
       "...          ...     ...    ...                               ...   \n",
       "51712         No  3.6 /5     27                      080 40301477   \n",
       "51713         No    None      0                    +91 8197675843   \n",
       "51714         No    None      0                              None   \n",
       "51715        Yes  4.3 /5    236                      080 49652769   \n",
       "51716         No  3.4 /5     13                    +91 8071117272   \n",
       "\n",
       "                         location            rest_type  \\\n",
       "0                    Banashankari        Casual Dining   \n",
       "1                    Banashankari        Casual Dining   \n",
       "2                    Banashankari  Cafe, Casual Dining   \n",
       "3                    Banashankari          Quick Bites   \n",
       "4                    Basavanagudi        Casual Dining   \n",
       "...                           ...                  ...   \n",
       "51712                  Whitefield                  Bar   \n",
       "51713                  Whitefield                  Bar   \n",
       "51714                  Whitefield                  Bar   \n",
       "51715  ITPL Main Road, Whitefield                  Bar   \n",
       "51716  ITPL Main Road, Whitefield   Bar, Casual Dining   \n",
       "\n",
       "                                              dish_liked  \\\n",
       "0      Pasta, Lunch Buffet, Masala Papad, Paneer Laja...   \n",
       "1      Momos, Lunch Buffet, Chocolate Nirvana, Thai G...   \n",
       "2      Churros, Cannelloni, Minestrone Soup, Hot Choc...   \n",
       "3                                            Masala Dosa   \n",
       "4                                    Panipuri, Gol Gappe   \n",
       "...                                                  ...   \n",
       "51712                                               None   \n",
       "51713                                               None   \n",
       "51714                                               None   \n",
       "51715                       Cocktails, Pizza, Buttermilk   \n",
       "51716                                               None   \n",
       "\n",
       "                                     cuisines approx_cost(for two people)  \\\n",
       "0              North Indian, Mughlai, Chinese                         800   \n",
       "1                 Chinese, North Indian, Thai                         800   \n",
       "2                      Cafe, Mexican, Italian                         800   \n",
       "3                  South Indian, North Indian                         300   \n",
       "4                    North Indian, Rajasthani                         600   \n",
       "...                                       ...                         ...   \n",
       "51712                             Continental                       1,500   \n",
       "51713                             Finger Food                         600   \n",
       "51714                             Finger Food                       2,000   \n",
       "51715                             Finger Food                       2,500   \n",
       "51716  Finger Food, North Indian, Continental                       1,500   \n",
       "\n",
       "                                            reviews_list menu_item  \\\n",
       "0      [('Rated 4.0', 'RATED\\n  A beautiful place to ...        []   \n",
       "1      [('Rated 4.0', 'RATED\\n  Had been here for din...        []   \n",
       "2      [('Rated 3.0', \"RATED\\n  Ambience is not that ...        []   \n",
       "3      [('Rated 4.0', \"RATED\\n  Great food and proper...        []   \n",
       "4      [('Rated 4.0', 'RATED\\n  Very good restaurant ...        []   \n",
       "...                                                  ...       ...   \n",
       "51712  [('Rated 5.0', \"RATED\\n  Food and service are ...        []   \n",
       "51713                                                 []        []   \n",
       "51714                                                 []        []   \n",
       "51715  [('Rated 4.0', 'RATED\\n  Nice and friendly pla...        []   \n",
       "51716  [('Rated 5.0', 'RATED\\n  Great ambience , look...        []   \n",
       "\n",
       "      listed_in(type) listed_in(city)  \n",
       "0              Buffet    Banashankari  \n",
       "1              Buffet    Banashankari  \n",
       "2              Buffet    Banashankari  \n",
       "3              Buffet    Banashankari  \n",
       "4              Buffet    Banashankari  \n",
       "...               ...             ...  \n",
       "51712   Pubs and bars      Whitefield  \n",
       "51713   Pubs and bars      Whitefield  \n",
       "51714   Pubs and bars      Whitefield  \n",
       "51715   Pubs and bars      Whitefield  \n",
       "51716   Pubs and bars      Whitefield  \n",
       "\n",
       "[51717 rows x 18 columns]>"
      ]
     },
     "execution_count": 9,
     "metadata": {},
     "output_type": "execute_result"
    }
   ],
   "source": [
    "df.tail"
   ]
  },
  {
   "cell_type": "code",
   "execution_count": 10,
   "id": "36967d3e-085b-4d7f-ba6a-829202f69576",
   "metadata": {},
   "outputs": [
    {
     "data": {
      "text/plain": [
       "(51717, 18)"
      ]
     },
     "execution_count": 10,
     "metadata": {},
     "output_type": "execute_result"
    }
   ],
   "source": [
    "df.shape"
   ]
  },
  {
   "cell_type": "code",
   "execution_count": 11,
   "id": "b89aae7e-1c2e-4e3d-84fe-17532721a180",
   "metadata": {},
   "outputs": [
    {
     "data": {
      "text/plain": [
       "RangeIndex(start=0, stop=51717, step=1)"
      ]
     },
     "execution_count": 11,
     "metadata": {},
     "output_type": "execute_result"
    }
   ],
   "source": [
    "df.index"
   ]
  },
  {
   "cell_type": "code",
   "execution_count": 12,
   "id": "b3c448d6-8534-415f-b600-a2625356bbe6",
   "metadata": {},
   "outputs": [
    {
     "data": {
      "text/plain": [
       "0            0\n",
       "1            1\n",
       "2            2\n",
       "3            3\n",
       "4            4\n",
       "         ...  \n",
       "51712    51712\n",
       "51713    51713\n",
       "51714    51714\n",
       "51715    51715\n",
       "51716    51716\n",
       "Name: index, Length: 51717, dtype: int64"
      ]
     },
     "execution_count": 12,
     "metadata": {},
     "output_type": "execute_result"
    }
   ],
   "source": [
    "df['index']"
   ]
  },
  {
   "cell_type": "code",
   "execution_count": 13,
   "id": "d926cb5c-2b50-4399-852a-dadf766908ff",
   "metadata": {},
   "outputs": [
    {
     "data": {
      "text/html": [
       "<div>\n",
       "<style scoped>\n",
       "    .dataframe tbody tr th:only-of-type {\n",
       "        vertical-align: middle;\n",
       "    }\n",
       "\n",
       "    .dataframe tbody tr th {\n",
       "        vertical-align: top;\n",
       "    }\n",
       "\n",
       "    .dataframe thead th {\n",
       "        text-align: right;\n",
       "    }\n",
       "</style>\n",
       "<table border=\"1\" class=\"dataframe\">\n",
       "  <thead>\n",
       "    <tr style=\"text-align: right;\">\n",
       "      <th></th>\n",
       "      <th>index</th>\n",
       "      <th>rate</th>\n",
       "    </tr>\n",
       "  </thead>\n",
       "  <tbody>\n",
       "    <tr>\n",
       "      <th>0</th>\n",
       "      <td>0</td>\n",
       "      <td>4.1/5</td>\n",
       "    </tr>\n",
       "    <tr>\n",
       "      <th>1</th>\n",
       "      <td>1</td>\n",
       "      <td>4.1/5</td>\n",
       "    </tr>\n",
       "    <tr>\n",
       "      <th>2</th>\n",
       "      <td>2</td>\n",
       "      <td>3.8/5</td>\n",
       "    </tr>\n",
       "    <tr>\n",
       "      <th>3</th>\n",
       "      <td>3</td>\n",
       "      <td>3.7/5</td>\n",
       "    </tr>\n",
       "    <tr>\n",
       "      <th>4</th>\n",
       "      <td>4</td>\n",
       "      <td>3.8/5</td>\n",
       "    </tr>\n",
       "    <tr>\n",
       "      <th>...</th>\n",
       "      <td>...</td>\n",
       "      <td>...</td>\n",
       "    </tr>\n",
       "    <tr>\n",
       "      <th>51712</th>\n",
       "      <td>51712</td>\n",
       "      <td>3.6 /5</td>\n",
       "    </tr>\n",
       "    <tr>\n",
       "      <th>51713</th>\n",
       "      <td>51713</td>\n",
       "      <td>None</td>\n",
       "    </tr>\n",
       "    <tr>\n",
       "      <th>51714</th>\n",
       "      <td>51714</td>\n",
       "      <td>None</td>\n",
       "    </tr>\n",
       "    <tr>\n",
       "      <th>51715</th>\n",
       "      <td>51715</td>\n",
       "      <td>4.3 /5</td>\n",
       "    </tr>\n",
       "    <tr>\n",
       "      <th>51716</th>\n",
       "      <td>51716</td>\n",
       "      <td>3.4 /5</td>\n",
       "    </tr>\n",
       "  </tbody>\n",
       "</table>\n",
       "<p>51717 rows × 2 columns</p>\n",
       "</div>"
      ],
      "text/plain": [
       "       index    rate\n",
       "0          0   4.1/5\n",
       "1          1   4.1/5\n",
       "2          2   3.8/5\n",
       "3          3   3.7/5\n",
       "4          4   3.8/5\n",
       "...      ...     ...\n",
       "51712  51712  3.6 /5\n",
       "51713  51713    None\n",
       "51714  51714    None\n",
       "51715  51715  4.3 /5\n",
       "51716  51716  3.4 /5\n",
       "\n",
       "[51717 rows x 2 columns]"
      ]
     },
     "execution_count": 13,
     "metadata": {},
     "output_type": "execute_result"
    }
   ],
   "source": [
    "df[['index','rate']]"
   ]
  },
  {
   "cell_type": "code",
   "execution_count": 14,
   "id": "e69bc7e9-db4f-4d3e-913d-82656c1786d7",
   "metadata": {},
   "outputs": [
    {
     "data": {
      "text/html": [
       "<div>\n",
       "<style scoped>\n",
       "    .dataframe tbody tr th:only-of-type {\n",
       "        vertical-align: middle;\n",
       "    }\n",
       "\n",
       "    .dataframe tbody tr th {\n",
       "        vertical-align: top;\n",
       "    }\n",
       "\n",
       "    .dataframe thead th {\n",
       "        text-align: right;\n",
       "    }\n",
       "</style>\n",
       "<table border=\"1\" class=\"dataframe\">\n",
       "  <thead>\n",
       "    <tr style=\"text-align: right;\">\n",
       "      <th></th>\n",
       "      <th>index</th>\n",
       "      <th>rate</th>\n",
       "    </tr>\n",
       "  </thead>\n",
       "  <tbody>\n",
       "    <tr>\n",
       "      <th>0</th>\n",
       "      <td>0</td>\n",
       "      <td>4.1/5</td>\n",
       "    </tr>\n",
       "    <tr>\n",
       "      <th>1</th>\n",
       "      <td>1</td>\n",
       "      <td>4.1/5</td>\n",
       "    </tr>\n",
       "    <tr>\n",
       "      <th>2</th>\n",
       "      <td>2</td>\n",
       "      <td>3.8/5</td>\n",
       "    </tr>\n",
       "    <tr>\n",
       "      <th>3</th>\n",
       "      <td>3</td>\n",
       "      <td>3.7/5</td>\n",
       "    </tr>\n",
       "    <tr>\n",
       "      <th>4</th>\n",
       "      <td>4</td>\n",
       "      <td>3.8/5</td>\n",
       "    </tr>\n",
       "    <tr>\n",
       "      <th>5</th>\n",
       "      <td>5</td>\n",
       "      <td>3.8/5</td>\n",
       "    </tr>\n",
       "    <tr>\n",
       "      <th>6</th>\n",
       "      <td>6</td>\n",
       "      <td>3.6/5</td>\n",
       "    </tr>\n",
       "    <tr>\n",
       "      <th>7</th>\n",
       "      <td>7</td>\n",
       "      <td>4.6/5</td>\n",
       "    </tr>\n",
       "    <tr>\n",
       "      <th>8</th>\n",
       "      <td>8</td>\n",
       "      <td>4.0/5</td>\n",
       "    </tr>\n",
       "    <tr>\n",
       "      <th>9</th>\n",
       "      <td>9</td>\n",
       "      <td>4.2/5</td>\n",
       "    </tr>\n",
       "  </tbody>\n",
       "</table>\n",
       "</div>"
      ],
      "text/plain": [
       "   index   rate\n",
       "0      0  4.1/5\n",
       "1      1  4.1/5\n",
       "2      2  3.8/5\n",
       "3      3  3.7/5\n",
       "4      4  3.8/5\n",
       "5      5  3.8/5\n",
       "6      6  3.6/5\n",
       "7      7  4.6/5\n",
       "8      8  4.0/5\n",
       "9      9  4.2/5"
      ]
     },
     "execution_count": 14,
     "metadata": {},
     "output_type": "execute_result"
    }
   ],
   "source": [
    "df[['index','rate']][0:10]"
   ]
  },
  {
   "cell_type": "code",
   "execution_count": 15,
   "id": "c6d81db7-6516-484d-976e-15aaa8a9d19a",
   "metadata": {},
   "outputs": [
    {
     "data": {
      "text/plain": [
       "index       6\n",
       "votes    2568\n",
       "dtype: int64"
      ]
     },
     "execution_count": 15,
     "metadata": {},
     "output_type": "execute_result"
    }
   ],
   "source": [
    "df[['index','votes']][0:4].sum()"
   ]
  },
  {
   "cell_type": "code",
   "execution_count": 16,
   "id": "5602e329-1c72-4ff6-b3f3-7760508e9e49",
   "metadata": {},
   "outputs": [
    {
     "data": {
      "text/plain": [
       "0    775\n",
       "1    788\n",
       "2    920\n",
       "3     91\n",
       "dtype: int64"
      ]
     },
     "execution_count": 16,
     "metadata": {},
     "output_type": "execute_result"
    }
   ],
   "source": [
    "df[['index','votes']][0:4].sum(axis=1)"
   ]
  },
  {
   "cell_type": "code",
   "execution_count": 17,
   "id": "3e8f04dc-5ad2-4f06-8b0d-6d122d7b21b1",
   "metadata": {},
   "outputs": [],
   "source": [
    "describe = df.describe()"
   ]
  },
  {
   "cell_type": "code",
   "execution_count": 18,
   "id": "04954711-f13a-493c-a57a-f35447f7df1c",
   "metadata": {},
   "outputs": [
    {
     "data": {
      "text/html": [
       "<div>\n",
       "<style scoped>\n",
       "    .dataframe tbody tr th:only-of-type {\n",
       "        vertical-align: middle;\n",
       "    }\n",
       "\n",
       "    .dataframe tbody tr th {\n",
       "        vertical-align: top;\n",
       "    }\n",
       "\n",
       "    .dataframe thead th {\n",
       "        text-align: right;\n",
       "    }\n",
       "</style>\n",
       "<table border=\"1\" class=\"dataframe\">\n",
       "  <thead>\n",
       "    <tr style=\"text-align: right;\">\n",
       "      <th></th>\n",
       "      <th>index</th>\n",
       "      <th>votes</th>\n",
       "    </tr>\n",
       "  </thead>\n",
       "  <tbody>\n",
       "    <tr>\n",
       "      <th>count</th>\n",
       "      <td>51717.000000</td>\n",
       "      <td>51717.000000</td>\n",
       "    </tr>\n",
       "    <tr>\n",
       "      <th>mean</th>\n",
       "      <td>25858.000000</td>\n",
       "      <td>283.697527</td>\n",
       "    </tr>\n",
       "    <tr>\n",
       "      <th>std</th>\n",
       "      <td>14929.556273</td>\n",
       "      <td>803.838853</td>\n",
       "    </tr>\n",
       "    <tr>\n",
       "      <th>min</th>\n",
       "      <td>0.000000</td>\n",
       "      <td>0.000000</td>\n",
       "    </tr>\n",
       "    <tr>\n",
       "      <th>25%</th>\n",
       "      <td>12929.000000</td>\n",
       "      <td>7.000000</td>\n",
       "    </tr>\n",
       "    <tr>\n",
       "      <th>50%</th>\n",
       "      <td>25858.000000</td>\n",
       "      <td>41.000000</td>\n",
       "    </tr>\n",
       "    <tr>\n",
       "      <th>75%</th>\n",
       "      <td>38787.000000</td>\n",
       "      <td>198.000000</td>\n",
       "    </tr>\n",
       "    <tr>\n",
       "      <th>max</th>\n",
       "      <td>51716.000000</td>\n",
       "      <td>16832.000000</td>\n",
       "    </tr>\n",
       "  </tbody>\n",
       "</table>\n",
       "</div>"
      ],
      "text/plain": [
       "              index         votes\n",
       "count  51717.000000  51717.000000\n",
       "mean   25858.000000    283.697527\n",
       "std    14929.556273    803.838853\n",
       "min        0.000000      0.000000\n",
       "25%    12929.000000      7.000000\n",
       "50%    25858.000000     41.000000\n",
       "75%    38787.000000    198.000000\n",
       "max    51716.000000  16832.000000"
      ]
     },
     "execution_count": 18,
     "metadata": {},
     "output_type": "execute_result"
    }
   ],
   "source": [
    "describe"
   ]
  },
  {
   "cell_type": "code",
   "execution_count": 19,
   "id": "39f2967f-8d3f-4e70-8163-c708ca5fa8fc",
   "metadata": {},
   "outputs": [
    {
     "data": {
      "text/plain": [
       "' تا اینجا واکشی داده ها  و بررسی داده ها '"
      ]
     },
     "execution_count": 19,
     "metadata": {},
     "output_type": "execute_result"
    }
   ],
   "source": [
    "\"\"\" تا اینجا واکشی داده ها  و بررسی داده ها \"\"\""
   ]
  },
  {
   "cell_type": "code",
   "execution_count": 20,
   "id": "3c6e3076-e17d-400f-8a1b-b1d4d24a6f74",
   "metadata": {},
   "outputs": [
    {
     "data": {
      "text/plain": [
       "' از اینجا به بعد صحت سنجی و پیش پردازش دیتا '"
      ]
     },
     "execution_count": 20,
     "metadata": {},
     "output_type": "execute_result"
    }
   ],
   "source": [
    "\"\"\" از اینجا به بعد صحت سنجی و پیش پردازش دیتا \"\"\""
   ]
  },
  {
   "cell_type": "code",
   "execution_count": 21,
   "id": "f81df1ac-7bfe-4ac8-8fee-0a7398882c48",
   "metadata": {},
   "outputs": [],
   "source": [
    "dfnullcheck0 = df.dropna(axis=0)"
   ]
  },
  {
   "cell_type": "code",
   "execution_count": 22,
   "id": "61a50c11-85c8-46c7-bbd0-9208b61c2b76",
   "metadata": {},
   "outputs": [],
   "source": [
    "dfnullcheck1 = df.dropna(axis=1)"
   ]
  },
  {
   "cell_type": "code",
   "execution_count": 23,
   "id": "f10b2899-a937-44af-b197-96101e1d7b68",
   "metadata": {},
   "outputs": [
    {
     "data": {
      "text/plain": [
       "Index(['index', 'url', 'address', 'name', 'online_order', 'book_table', 'rate',\n",
       "       'votes', 'phone', 'location', 'rest_type', 'dish_liked', 'cuisines',\n",
       "       'approx_cost(for two people)', 'reviews_list', 'menu_item',\n",
       "       'listed_in(type)', 'listed_in(city)'],\n",
       "      dtype='object')"
      ]
     },
     "execution_count": 23,
     "metadata": {},
     "output_type": "execute_result"
    }
   ],
   "source": [
    "dfnullcheck0.columns"
   ]
  },
  {
   "cell_type": "code",
   "execution_count": 24,
   "id": "7a99399c-55bf-4560-8c27-3f20f71befac",
   "metadata": {},
   "outputs": [
    {
     "data": {
      "text/plain": [
       "(23193, 18)"
      ]
     },
     "execution_count": 24,
     "metadata": {},
     "output_type": "execute_result"
    }
   ],
   "source": [
    "dfnullcheck0.shape"
   ]
  },
  {
   "cell_type": "code",
   "execution_count": 25,
   "id": "c6a6f14f-81b3-4d99-ba75-574978a664c4",
   "metadata": {},
   "outputs": [
    {
     "data": {
      "text/plain": [
       "Index(['index', 'url', 'address', 'name', 'online_order', 'book_table',\n",
       "       'votes', 'reviews_list', 'menu_item', 'listed_in(type)',\n",
       "       'listed_in(city)'],\n",
       "      dtype='object')"
      ]
     },
     "execution_count": 25,
     "metadata": {},
     "output_type": "execute_result"
    }
   ],
   "source": [
    "dfnullcheck1.columns"
   ]
  },
  {
   "cell_type": "code",
   "execution_count": 26,
   "id": "6115b88f-6ad7-430a-8cd8-d683bdd8c07c",
   "metadata": {},
   "outputs": [
    {
     "data": {
      "text/plain": [
       "(51717, 11)"
      ]
     },
     "execution_count": 26,
     "metadata": {},
     "output_type": "execute_result"
    }
   ],
   "source": [
    "dfnullcheck1.shape"
   ]
  },
  {
   "cell_type": "code",
   "execution_count": 27,
   "id": "500bc78d-3285-422b-8f40-924df1b36d35",
   "metadata": {},
   "outputs": [
    {
     "data": {
      "text/plain": [
       "index                              0\n",
       "url                                0\n",
       "address                            0\n",
       "name                               0\n",
       "online_order                       0\n",
       "book_table                         0\n",
       "rate                            7775\n",
       "votes                              0\n",
       "phone                           1208\n",
       "location                          21\n",
       "rest_type                        227\n",
       "dish_liked                     28078\n",
       "cuisines                          45\n",
       "approx_cost(for two people)      346\n",
       "reviews_list                       0\n",
       "menu_item                          0\n",
       "listed_in(type)                    0\n",
       "listed_in(city)                    0\n",
       "dtype: int64"
      ]
     },
     "execution_count": 27,
     "metadata": {},
     "output_type": "execute_result"
    }
   ],
   "source": [
    "df.isnull().sum() #بررسی وجود نال"
   ]
  },
  {
   "cell_type": "code",
   "execution_count": 28,
   "id": "ecd8f281-17e5-4b17-8c6e-77ec5f27101f",
   "metadata": {},
   "outputs": [
    {
     "data": {
      "text/plain": [
       "index                          0\n",
       "url                            0\n",
       "address                        0\n",
       "name                           0\n",
       "online_order                   0\n",
       "book_table                     0\n",
       "rate                           0\n",
       "votes                          0\n",
       "phone                          0\n",
       "location                       0\n",
       "rest_type                      0\n",
       "dish_liked                     0\n",
       "cuisines                       0\n",
       "approx_cost(for two people)    0\n",
       "reviews_list                   0\n",
       "menu_item                      0\n",
       "listed_in(type)                0\n",
       "listed_in(city)                0\n",
       "dtype: int64"
      ]
     },
     "execution_count": 28,
     "metadata": {},
     "output_type": "execute_result"
    }
   ],
   "source": [
    "dfnullcheck0.isnull().sum()"
   ]
  },
  {
   "cell_type": "code",
   "execution_count": 29,
   "id": "7d1357d0-3e21-4de1-8028-895d9e0bfe3a",
   "metadata": {},
   "outputs": [
    {
     "data": {
      "text/plain": [
       "index              0\n",
       "url                0\n",
       "address            0\n",
       "name               0\n",
       "online_order       0\n",
       "book_table         0\n",
       "votes              0\n",
       "reviews_list       0\n",
       "menu_item          0\n",
       "listed_in(type)    0\n",
       "listed_in(city)    0\n",
       "dtype: int64"
      ]
     },
     "execution_count": 29,
     "metadata": {},
     "output_type": "execute_result"
    }
   ],
   "source": [
    "dfnullcheck1.isnull().sum()"
   ]
  },
  {
   "cell_type": "code",
   "execution_count": 30,
   "id": "1c57a412-128e-4841-908a-98e0a6de4378",
   "metadata": {},
   "outputs": [],
   "source": [
    "feature_na =[]\n",
    "for feature in df.columns:\n",
    " if df[feature].isnull().sum()>1 :\n",
    "  feature_na.append(feature)   \n",
    "     "
   ]
  },
  {
   "cell_type": "code",
   "execution_count": 31,
   "id": "dc2cbc01-7f6f-4690-adb5-5bd648626af9",
   "metadata": {},
   "outputs": [
    {
     "data": {
      "text/plain": [
       "['rate',\n",
       " 'phone',\n",
       " 'location',\n",
       " 'rest_type',\n",
       " 'dish_liked',\n",
       " 'cuisines',\n",
       " 'approx_cost(for two people)']"
      ]
     },
     "execution_count": 31,
     "metadata": {},
     "output_type": "execute_result"
    }
   ],
   "source": [
    "feature_na"
   ]
  },
  {
   "cell_type": "code",
   "execution_count": 32,
   "id": "6199bb8b-d9ac-4d17-bd71-7bd815b3d952",
   "metadata": {},
   "outputs": [
    {
     "name": "stdout",
     "output_type": "stream",
     "text": [
      " rate has 15.034% missing value.\n",
      " phone has 2.336% missing value.\n",
      " location has 0.041% missing value.\n",
      " rest_type has 0.439% missing value.\n",
      " dish_liked has 54.292% missing value.\n",
      " cuisines has 0.087% missing value.\n",
      " approx_cost(for two people) has 0.669% missing value.\n"
     ]
    }
   ],
   "source": [
    "for f in feature_na :\n",
    " print(' {} has {}% missing value.' .format(f,round(df[f].isnull().sum()/len(df)*100,3)))"
   ]
  },
  {
   "cell_type": "code",
   "execution_count": 33,
   "id": "6ffe2f64-075e-4cd2-a85f-51368fc35dc5",
   "metadata": {},
   "outputs": [
    {
     "data": {
      "text/plain": [
       "' در اینجا به این نتیجه رسیدم که با توجه به اینکه ستون دیش لایک بیش از 50 درصد دیتای نال دارد عملا در تحلیل داده کاربردی ندارد و لذا از مدار محاسبات باید خارج شود'"
      ]
     },
     "execution_count": 33,
     "metadata": {},
     "output_type": "execute_result"
    }
   ],
   "source": [
    "\"\"\" در اینجا به این نتیجه رسیدم که با توجه به اینکه ستون دیش لایک بیش از 50 درصد دیتای نال دارد عملا در تحلیل داده کاربردی ندارد و لذا از مدار محاسبات باید خارج شود\"\"\""
   ]
  },
  {
   "cell_type": "code",
   "execution_count": 34,
   "id": "d29224d5-3d22-4180-95be-69285c207805",
   "metadata": {},
   "outputs": [
    {
     "data": {
      "text/plain": [
       "' از اینجا به بعد پاکسازی داده '"
      ]
     },
     "execution_count": 34,
     "metadata": {},
     "output_type": "execute_result"
    }
   ],
   "source": [
    "\"\"\" از اینجا به بعد پاکسازی داده \"\"\""
   ]
  },
  {
   "cell_type": "code",
   "execution_count": 35,
   "id": "5ac34a0e-5af3-4281-96c9-3f56f16ab061",
   "metadata": {},
   "outputs": [
    {
     "data": {
      "text/plain": [
       "index                           int64\n",
       "url                            object\n",
       "address                        object\n",
       "name                           object\n",
       "online_order                   object\n",
       "book_table                     object\n",
       "rate                           object\n",
       "votes                           int64\n",
       "phone                          object\n",
       "location                       object\n",
       "rest_type                      object\n",
       "dish_liked                     object\n",
       "cuisines                       object\n",
       "approx_cost(for two people)    object\n",
       "reviews_list                   object\n",
       "menu_item                      object\n",
       "listed_in(type)                object\n",
       "listed_in(city)                object\n",
       "dtype: object"
      ]
     },
     "execution_count": 35,
     "metadata": {},
     "output_type": "execute_result"
    }
   ],
   "source": [
    "df.dtypes"
   ]
  },
  {
   "cell_type": "code",
   "execution_count": 36,
   "id": "1a0a6649-48bb-4fcf-a34d-74d4e2d32e78",
   "metadata": {},
   "outputs": [
    {
     "data": {
      "text/plain": [
       "0          800\n",
       "1          800\n",
       "2          800\n",
       "3          300\n",
       "4          600\n",
       "         ...  \n",
       "51712    1,500\n",
       "51713      600\n",
       "51714    2,000\n",
       "51715    2,500\n",
       "51716    1,500\n",
       "Name: approx_cost(for two people), Length: 51717, dtype: object"
      ]
     },
     "execution_count": 36,
     "metadata": {},
     "output_type": "execute_result"
    }
   ],
   "source": [
    "df['approx_cost(for two people)'] # بررسی علت اینکه نوع داده آبجت ثبت شده \n"
   ]
  },
  {
   "cell_type": "code",
   "execution_count": 37,
   "id": "2996ed18-29bf-4138-aaf1-5a37392d0237",
   "metadata": {},
   "outputs": [
    {
     "data": {
      "text/plain": [
       "'در اینجا می بینیم که ردیف های انتهایی عدد با کاما جدا شده '"
      ]
     },
     "execution_count": 37,
     "metadata": {},
     "output_type": "execute_result"
    }
   ],
   "source": [
    "\"\"\"در اینجا می بینیم که ردیف های انتهایی عدد با کاما جدا شده \"\"\""
   ]
  },
  {
   "cell_type": "code",
   "execution_count": 38,
   "id": "0ffa975c-d695-423b-97cc-66d05f5fc2f0",
   "metadata": {},
   "outputs": [
    {
     "data": {
      "text/plain": [
       "0        False\n",
       "1        False\n",
       "2        False\n",
       "3        False\n",
       "4        False\n",
       "         ...  \n",
       "51712    False\n",
       "51713    False\n",
       "51714    False\n",
       "51715    False\n",
       "51716    False\n",
       "Name: approx_cost(for two people), Length: 51717, dtype: bool"
      ]
     },
     "execution_count": 38,
     "metadata": {},
     "output_type": "execute_result"
    }
   ],
   "source": [
    "df['approx_cost(for two people)'].isnull() # بررسی وجود نال در این ستون"
   ]
  },
  {
   "cell_type": "code",
   "execution_count": 39,
   "id": "387ab4d1-e63a-4996-b7ff-f9c1691cefb3",
   "metadata": {},
   "outputs": [
    {
     "data": {
      "text/plain": [
       "346"
      ]
     },
     "execution_count": 39,
     "metadata": {},
     "output_type": "execute_result"
    }
   ],
   "source": [
    "df['approx_cost(for two people)'].isnull().sum() # تعداد ردیف های نال در این ستون"
   ]
  },
  {
   "cell_type": "code",
   "execution_count": 40,
   "id": "3788e37c-ea84-45c5-880b-74796d4bd6b2",
   "metadata": {},
   "outputs": [
    {
     "data": {
      "text/plain": [
       "array(['800', '300', '600', '700', '550', '500', '450', '650', '400',\n",
       "       '900', '200', '750', '150', '850', '100', '1,200', '350', '250',\n",
       "       '950', '1,000', '1,500', '1,300', '199', '80', '1,100', '160',\n",
       "       '1,600', '230', '130', '50', '190', '1,700', None, '1,400', '180',\n",
       "       '1,350', '2,200', '2,000', '1,800', '1,900', '330', '2,500',\n",
       "       '2,100', '3,000', '2,800', '3,400', '40', '1,250', '3,500',\n",
       "       '4,000', '2,400', '2,600', '120', '1,450', '469', '70', '3,200',\n",
       "       '60', '560', '240', '360', '6,000', '1,050', '2,300', '4,100',\n",
       "       '5,000', '3,700', '1,650', '2,700', '4,500', '140'], dtype=object)"
      ]
     },
     "execution_count": 40,
     "metadata": {},
     "output_type": "execute_result"
    }
   ],
   "source": [
    "df['approx_cost(for two people)'].unique() # داده ها را به صورت یونیک فراخوانی کردم که ببینم کدام داده عددی نیستند \n"
   ]
  },
  {
   "cell_type": "code",
   "execution_count": 41,
   "id": "aa57736b-678f-4bb0-acd4-ff15d93eedd9",
   "metadata": {},
   "outputs": [
    {
     "data": {
      "text/plain": [
       "'مرحله بعدی داده ها را به رشته تبدیل می کنم که بعد بتوانم کاما را از آن خارج کنم '"
      ]
     },
     "execution_count": 41,
     "metadata": {},
     "output_type": "execute_result"
    }
   ],
   "source": [
    "\"\"\"مرحله بعدی داده ها را به رشته تبدیل می کنم که بعد بتوانم کاما را از آن خارج کنم \"\"\""
   ]
  },
  {
   "cell_type": "code",
   "execution_count": 42,
   "id": "eb34ae6a-b4db-4c29-a833-320555d56d90",
   "metadata": {},
   "outputs": [
    {
     "data": {
      "text/plain": [
       "0         800\n",
       "1         800\n",
       "2         800\n",
       "3         300\n",
       "4         600\n",
       "         ... \n",
       "51712    1500\n",
       "51713     600\n",
       "51714    2000\n",
       "51715    2500\n",
       "51716    1500\n",
       "Name: approx_cost(for two people), Length: 51717, dtype: object"
      ]
     },
     "execution_count": 42,
     "metadata": {},
     "output_type": "execute_result"
    }
   ],
   "source": [
    "df['approx_cost(for two people)'].astype(str).apply(lambda x:x.replace(',',''))\n"
   ]
  },
  {
   "cell_type": "code",
   "execution_count": 43,
   "id": "71ab6d93-dff0-4aae-92f7-4c7937fdb7dc",
   "metadata": {},
   "outputs": [
    {
     "data": {
      "text/plain": [
       "'تا اینجا کاما خارج شد اما برای راحتی کار مرحله بعدی یک متد تعریف می کنم که با استفاده از آن متد پاکسازی کاما از دل عدد راحت باشد'"
      ]
     },
     "execution_count": 43,
     "metadata": {},
     "output_type": "execute_result"
    }
   ],
   "source": [
    "\"\"\"تا اینجا کاما خارج شد اما برای راحتی کار مرحله بعدی یک متد تعریف می کنم که با استفاده از آن متد پاکسازی کاما از دل عدد راحت باشد\"\"\""
   ]
  },
  {
   "cell_type": "code",
   "execution_count": 44,
   "id": "8241a872-6161-4c9f-b56f-734735015760",
   "metadata": {},
   "outputs": [],
   "source": [
    "def remove_comma (x):\n",
    "    return x.replace (',','')"
   ]
  },
  {
   "cell_type": "code",
   "execution_count": 45,
   "id": "2de715ac-db79-4bae-ba6b-6b794636504a",
   "metadata": {},
   "outputs": [
    {
     "data": {
      "text/plain": [
       "'در همان ستون قبلی متد حذف کاما که نوشتم را اجرا می کنم '"
      ]
     },
     "execution_count": 45,
     "metadata": {},
     "output_type": "execute_result"
    }
   ],
   "source": [
    "\"\"\"در همان ستون قبلی متد حذف کاما که نوشتم را اجرا می کنم \"\"\""
   ]
  },
  {
   "cell_type": "code",
   "execution_count": 46,
   "id": "6f3b1460-fb39-42ff-9bcc-cf8fe682c241",
   "metadata": {},
   "outputs": [
    {
     "data": {
      "text/plain": [
       "0         800\n",
       "1         800\n",
       "2         800\n",
       "3         300\n",
       "4         600\n",
       "         ... \n",
       "51712    1500\n",
       "51713     600\n",
       "51714    2000\n",
       "51715    2500\n",
       "51716    1500\n",
       "Name: approx_cost(for two people), Length: 51717, dtype: object"
      ]
     },
     "execution_count": 46,
     "metadata": {},
     "output_type": "execute_result"
    }
   ],
   "source": [
    "df['approx_cost(for two people)'].astype(str).apply(remove_comma)"
   ]
  },
  {
   "cell_type": "code",
   "execution_count": 47,
   "id": "b1b08a6f-21ba-4d79-af60-45bdfcb6f22d",
   "metadata": {},
   "outputs": [
    {
     "data": {
      "text/plain": [
       "'داده ها را برای اینکه ذخیره شوند در یک دیتا فریم ذخیره می کنم '"
      ]
     },
     "execution_count": 47,
     "metadata": {},
     "output_type": "execute_result"
    }
   ],
   "source": [
    "\"\"\"داده ها را برای اینکه ذخیره شوند در یک دیتا فریم ذخیره می کنم \"\"\""
   ]
  },
  {
   "cell_type": "code",
   "execution_count": 48,
   "id": "ffa9252d-8be9-4ee7-861a-e84d039e903e",
   "metadata": {},
   "outputs": [],
   "source": [
    "df['approx_cost(for two people)'] = df['approx_cost(for two people)'].astype(str).apply(remove_comma)"
   ]
  },
  {
   "cell_type": "code",
   "execution_count": 49,
   "id": "754ca1be-0b7f-47f7-9258-157840510a04",
   "metadata": {},
   "outputs": [
    {
     "data": {
      "text/plain": [
       "0         800\n",
       "1         800\n",
       "2         800\n",
       "3         300\n",
       "4         600\n",
       "         ... \n",
       "51712    1500\n",
       "51713     600\n",
       "51714    2000\n",
       "51715    2500\n",
       "51716    1500\n",
       "Name: approx_cost(for two people), Length: 51717, dtype: object"
      ]
     },
     "execution_count": 49,
     "metadata": {},
     "output_type": "execute_result"
    }
   ],
   "source": [
    "df['approx_cost(for two people)']"
   ]
  },
  {
   "cell_type": "code",
   "execution_count": 50,
   "id": "397e64af-6409-4ccd-9d03-d7463e999c90",
   "metadata": {},
   "outputs": [
    {
     "data": {
      "text/plain": [
       "'حالا که کاما حذف شد میتوانم نوع داده آبجکت را به فلوت تبدیل کنم\\n'"
      ]
     },
     "execution_count": 50,
     "metadata": {},
     "output_type": "execute_result"
    }
   ],
   "source": [
    "\"\"\"حالا که کاما حذف شد میتوانم نوع داده آبجکت را به فلوت تبدیل کنم\n",
    "\"\"\""
   ]
  },
  {
   "cell_type": "code",
   "execution_count": 51,
   "id": "84925f33-f40e-44db-ab5f-ad98da8744f2",
   "metadata": {},
   "outputs": [],
   "source": [
    "df['approx_cost(for two people)'] = pd.to_numeric(df['approx_cost(for two people)'], errors='coerce').astype(float)\n",
    "\n"
   ]
  },
  {
   "cell_type": "code",
   "execution_count": 52,
   "id": "f90dc64e-635a-4667-be87-e2bd3790ed6b",
   "metadata": {},
   "outputs": [
    {
     "data": {
      "text/plain": [
       "dtype('float64')"
      ]
     },
     "execution_count": 52,
     "metadata": {},
     "output_type": "execute_result"
    }
   ],
   "source": [
    "df['approx_cost(for two people)'].dtype"
   ]
  },
  {
   "cell_type": "code",
   "execution_count": 53,
   "id": "c5bc23dd-1826-40c8-bd6f-f1773150acc3",
   "metadata": {},
   "outputs": [
    {
     "data": {
      "text/plain": [
       "index                            int64\n",
       "url                             object\n",
       "address                         object\n",
       "name                            object\n",
       "online_order                    object\n",
       "book_table                      object\n",
       "rate                            object\n",
       "votes                            int64\n",
       "phone                           object\n",
       "location                        object\n",
       "rest_type                       object\n",
       "dish_liked                      object\n",
       "cuisines                        object\n",
       "approx_cost(for two people)    float64\n",
       "reviews_list                    object\n",
       "menu_item                       object\n",
       "listed_in(type)                 object\n",
       "listed_in(city)                 object\n",
       "dtype: object"
      ]
     },
     "execution_count": 53,
     "metadata": {},
     "output_type": "execute_result"
    }
   ],
   "source": [
    "df.dtypes"
   ]
  },
  {
   "cell_type": "code",
   "execution_count": 54,
   "id": "fe52b097-8791-46da-a5ef-01c653055ffe",
   "metadata": {},
   "outputs": [
    {
     "data": {
      "text/plain": [
       "'تا اینجا نوع داده را تغییر دادیم حالا ستون دیش لایک که بالاتر گفتم باید حذف شود دراپ می کنم'"
      ]
     },
     "execution_count": 54,
     "metadata": {},
     "output_type": "execute_result"
    }
   ],
   "source": [
    "\"\"\"تا اینجا نوع داده را تغییر دادیم حالا ستون دیش لایک که بالاتر گفتم باید حذف شود دراپ می کنم\"\"\""
   ]
  },
  {
   "cell_type": "code",
   "execution_count": 55,
   "id": "f17c2249-161d-489d-9f0c-bf28de1473c4",
   "metadata": {},
   "outputs": [
    {
     "data": {
      "text/html": [
       "<div>\n",
       "<style scoped>\n",
       "    .dataframe tbody tr th:only-of-type {\n",
       "        vertical-align: middle;\n",
       "    }\n",
       "\n",
       "    .dataframe tbody tr th {\n",
       "        vertical-align: top;\n",
       "    }\n",
       "\n",
       "    .dataframe thead th {\n",
       "        text-align: right;\n",
       "    }\n",
       "</style>\n",
       "<table border=\"1\" class=\"dataframe\">\n",
       "  <thead>\n",
       "    <tr style=\"text-align: right;\">\n",
       "      <th></th>\n",
       "      <th>index</th>\n",
       "      <th>url</th>\n",
       "      <th>address</th>\n",
       "      <th>name</th>\n",
       "      <th>online_order</th>\n",
       "      <th>book_table</th>\n",
       "      <th>rate</th>\n",
       "      <th>votes</th>\n",
       "      <th>phone</th>\n",
       "      <th>location</th>\n",
       "      <th>rest_type</th>\n",
       "      <th>cuisines</th>\n",
       "      <th>approx_cost(for two people)</th>\n",
       "      <th>reviews_list</th>\n",
       "      <th>menu_item</th>\n",
       "      <th>listed_in(type)</th>\n",
       "      <th>listed_in(city)</th>\n",
       "    </tr>\n",
       "  </thead>\n",
       "  <tbody>\n",
       "    <tr>\n",
       "      <th>0</th>\n",
       "      <td>0</td>\n",
       "      <td>https://www.zomato.com/bangalore/jalsa-banasha...</td>\n",
       "      <td>942, 21st Main Road, 2nd Stage, Banashankari, ...</td>\n",
       "      <td>Jalsa</td>\n",
       "      <td>Yes</td>\n",
       "      <td>Yes</td>\n",
       "      <td>4.1/5</td>\n",
       "      <td>775</td>\n",
       "      <td>080 42297555\\r\\n+91 9743772233</td>\n",
       "      <td>Banashankari</td>\n",
       "      <td>Casual Dining</td>\n",
       "      <td>North Indian, Mughlai, Chinese</td>\n",
       "      <td>800.0</td>\n",
       "      <td>[('Rated 4.0', 'RATED\\n  A beautiful place to ...</td>\n",
       "      <td>[]</td>\n",
       "      <td>Buffet</td>\n",
       "      <td>Banashankari</td>\n",
       "    </tr>\n",
       "    <tr>\n",
       "      <th>1</th>\n",
       "      <td>1</td>\n",
       "      <td>https://www.zomato.com/bangalore/spice-elephan...</td>\n",
       "      <td>2nd Floor, 80 Feet Road, Near Big Bazaar, 6th ...</td>\n",
       "      <td>Spice Elephant</td>\n",
       "      <td>Yes</td>\n",
       "      <td>No</td>\n",
       "      <td>4.1/5</td>\n",
       "      <td>787</td>\n",
       "      <td>080 41714161</td>\n",
       "      <td>Banashankari</td>\n",
       "      <td>Casual Dining</td>\n",
       "      <td>Chinese, North Indian, Thai</td>\n",
       "      <td>800.0</td>\n",
       "      <td>[('Rated 4.0', 'RATED\\n  Had been here for din...</td>\n",
       "      <td>[]</td>\n",
       "      <td>Buffet</td>\n",
       "      <td>Banashankari</td>\n",
       "    </tr>\n",
       "    <tr>\n",
       "      <th>2</th>\n",
       "      <td>2</td>\n",
       "      <td>https://www.zomato.com/SanchurroBangalore?cont...</td>\n",
       "      <td>1112, Next to KIMS Medical College, 17th Cross...</td>\n",
       "      <td>San Churro Cafe</td>\n",
       "      <td>Yes</td>\n",
       "      <td>No</td>\n",
       "      <td>3.8/5</td>\n",
       "      <td>918</td>\n",
       "      <td>+91 9663487993</td>\n",
       "      <td>Banashankari</td>\n",
       "      <td>Cafe, Casual Dining</td>\n",
       "      <td>Cafe, Mexican, Italian</td>\n",
       "      <td>800.0</td>\n",
       "      <td>[('Rated 3.0', \"RATED\\n  Ambience is not that ...</td>\n",
       "      <td>[]</td>\n",
       "      <td>Buffet</td>\n",
       "      <td>Banashankari</td>\n",
       "    </tr>\n",
       "    <tr>\n",
       "      <th>3</th>\n",
       "      <td>3</td>\n",
       "      <td>https://www.zomato.com/bangalore/addhuri-udupi...</td>\n",
       "      <td>1st Floor, Annakuteera, 3rd Stage, Banashankar...</td>\n",
       "      <td>Addhuri Udupi Bhojana</td>\n",
       "      <td>No</td>\n",
       "      <td>No</td>\n",
       "      <td>3.7/5</td>\n",
       "      <td>88</td>\n",
       "      <td>+91 9620009302</td>\n",
       "      <td>Banashankari</td>\n",
       "      <td>Quick Bites</td>\n",
       "      <td>South Indian, North Indian</td>\n",
       "      <td>300.0</td>\n",
       "      <td>[('Rated 4.0', \"RATED\\n  Great food and proper...</td>\n",
       "      <td>[]</td>\n",
       "      <td>Buffet</td>\n",
       "      <td>Banashankari</td>\n",
       "    </tr>\n",
       "    <tr>\n",
       "      <th>4</th>\n",
       "      <td>4</td>\n",
       "      <td>https://www.zomato.com/bangalore/grand-village...</td>\n",
       "      <td>10, 3rd Floor, Lakshmi Associates, Gandhi Baza...</td>\n",
       "      <td>Grand Village</td>\n",
       "      <td>No</td>\n",
       "      <td>No</td>\n",
       "      <td>3.8/5</td>\n",
       "      <td>166</td>\n",
       "      <td>+91 8026612447\\r\\n+91 9901210005</td>\n",
       "      <td>Basavanagudi</td>\n",
       "      <td>Casual Dining</td>\n",
       "      <td>North Indian, Rajasthani</td>\n",
       "      <td>600.0</td>\n",
       "      <td>[('Rated 4.0', 'RATED\\n  Very good restaurant ...</td>\n",
       "      <td>[]</td>\n",
       "      <td>Buffet</td>\n",
       "      <td>Banashankari</td>\n",
       "    </tr>\n",
       "    <tr>\n",
       "      <th>...</th>\n",
       "      <td>...</td>\n",
       "      <td>...</td>\n",
       "      <td>...</td>\n",
       "      <td>...</td>\n",
       "      <td>...</td>\n",
       "      <td>...</td>\n",
       "      <td>...</td>\n",
       "      <td>...</td>\n",
       "      <td>...</td>\n",
       "      <td>...</td>\n",
       "      <td>...</td>\n",
       "      <td>...</td>\n",
       "      <td>...</td>\n",
       "      <td>...</td>\n",
       "      <td>...</td>\n",
       "      <td>...</td>\n",
       "      <td>...</td>\n",
       "    </tr>\n",
       "    <tr>\n",
       "      <th>51712</th>\n",
       "      <td>51712</td>\n",
       "      <td>https://www.zomato.com/bangalore/best-brews-fo...</td>\n",
       "      <td>Four Points by Sheraton Bengaluru, 43/3, White...</td>\n",
       "      <td>Best Brews - Four Points by Sheraton Bengaluru...</td>\n",
       "      <td>No</td>\n",
       "      <td>No</td>\n",
       "      <td>3.6 /5</td>\n",
       "      <td>27</td>\n",
       "      <td>080 40301477</td>\n",
       "      <td>Whitefield</td>\n",
       "      <td>Bar</td>\n",
       "      <td>Continental</td>\n",
       "      <td>1500.0</td>\n",
       "      <td>[('Rated 5.0', \"RATED\\n  Food and service are ...</td>\n",
       "      <td>[]</td>\n",
       "      <td>Pubs and bars</td>\n",
       "      <td>Whitefield</td>\n",
       "    </tr>\n",
       "    <tr>\n",
       "      <th>51713</th>\n",
       "      <td>51713</td>\n",
       "      <td>https://www.zomato.com/bangalore/vinod-bar-and...</td>\n",
       "      <td>Number 10, Garudachar Palya, Mahadevapura, Whi...</td>\n",
       "      <td>Vinod Bar And Restaurant</td>\n",
       "      <td>No</td>\n",
       "      <td>No</td>\n",
       "      <td>None</td>\n",
       "      <td>0</td>\n",
       "      <td>+91 8197675843</td>\n",
       "      <td>Whitefield</td>\n",
       "      <td>Bar</td>\n",
       "      <td>Finger Food</td>\n",
       "      <td>600.0</td>\n",
       "      <td>[]</td>\n",
       "      <td>[]</td>\n",
       "      <td>Pubs and bars</td>\n",
       "      <td>Whitefield</td>\n",
       "    </tr>\n",
       "    <tr>\n",
       "      <th>51714</th>\n",
       "      <td>51714</td>\n",
       "      <td>https://www.zomato.com/bangalore/plunge-sherat...</td>\n",
       "      <td>Sheraton Grand Bengaluru Whitefield Hotel &amp; Co...</td>\n",
       "      <td>Plunge - Sheraton Grand Bengaluru Whitefield H...</td>\n",
       "      <td>No</td>\n",
       "      <td>No</td>\n",
       "      <td>None</td>\n",
       "      <td>0</td>\n",
       "      <td>None</td>\n",
       "      <td>Whitefield</td>\n",
       "      <td>Bar</td>\n",
       "      <td>Finger Food</td>\n",
       "      <td>2000.0</td>\n",
       "      <td>[]</td>\n",
       "      <td>[]</td>\n",
       "      <td>Pubs and bars</td>\n",
       "      <td>Whitefield</td>\n",
       "    </tr>\n",
       "    <tr>\n",
       "      <th>51715</th>\n",
       "      <td>51715</td>\n",
       "      <td>https://www.zomato.com/bangalore/chime-sherato...</td>\n",
       "      <td>Sheraton Grand Bengaluru Whitefield Hotel &amp; Co...</td>\n",
       "      <td>Chime - Sheraton Grand Bengaluru Whitefield Ho...</td>\n",
       "      <td>No</td>\n",
       "      <td>Yes</td>\n",
       "      <td>4.3 /5</td>\n",
       "      <td>236</td>\n",
       "      <td>080 49652769</td>\n",
       "      <td>ITPL Main Road, Whitefield</td>\n",
       "      <td>Bar</td>\n",
       "      <td>Finger Food</td>\n",
       "      <td>2500.0</td>\n",
       "      <td>[('Rated 4.0', 'RATED\\n  Nice and friendly pla...</td>\n",
       "      <td>[]</td>\n",
       "      <td>Pubs and bars</td>\n",
       "      <td>Whitefield</td>\n",
       "    </tr>\n",
       "    <tr>\n",
       "      <th>51716</th>\n",
       "      <td>51716</td>\n",
       "      <td>https://www.zomato.com/bangalore/the-nest-the-...</td>\n",
       "      <td>ITPL Main Road, KIADB Export Promotion Industr...</td>\n",
       "      <td>The Nest - The Den Bengaluru</td>\n",
       "      <td>No</td>\n",
       "      <td>No</td>\n",
       "      <td>3.4 /5</td>\n",
       "      <td>13</td>\n",
       "      <td>+91 8071117272</td>\n",
       "      <td>ITPL Main Road, Whitefield</td>\n",
       "      <td>Bar, Casual Dining</td>\n",
       "      <td>Finger Food, North Indian, Continental</td>\n",
       "      <td>1500.0</td>\n",
       "      <td>[('Rated 5.0', 'RATED\\n  Great ambience , look...</td>\n",
       "      <td>[]</td>\n",
       "      <td>Pubs and bars</td>\n",
       "      <td>Whitefield</td>\n",
       "    </tr>\n",
       "  </tbody>\n",
       "</table>\n",
       "<p>51717 rows × 17 columns</p>\n",
       "</div>"
      ],
      "text/plain": [
       "       index                                                url  \\\n",
       "0          0  https://www.zomato.com/bangalore/jalsa-banasha...   \n",
       "1          1  https://www.zomato.com/bangalore/spice-elephan...   \n",
       "2          2  https://www.zomato.com/SanchurroBangalore?cont...   \n",
       "3          3  https://www.zomato.com/bangalore/addhuri-udupi...   \n",
       "4          4  https://www.zomato.com/bangalore/grand-village...   \n",
       "...      ...                                                ...   \n",
       "51712  51712  https://www.zomato.com/bangalore/best-brews-fo...   \n",
       "51713  51713  https://www.zomato.com/bangalore/vinod-bar-and...   \n",
       "51714  51714  https://www.zomato.com/bangalore/plunge-sherat...   \n",
       "51715  51715  https://www.zomato.com/bangalore/chime-sherato...   \n",
       "51716  51716  https://www.zomato.com/bangalore/the-nest-the-...   \n",
       "\n",
       "                                                 address  \\\n",
       "0      942, 21st Main Road, 2nd Stage, Banashankari, ...   \n",
       "1      2nd Floor, 80 Feet Road, Near Big Bazaar, 6th ...   \n",
       "2      1112, Next to KIMS Medical College, 17th Cross...   \n",
       "3      1st Floor, Annakuteera, 3rd Stage, Banashankar...   \n",
       "4      10, 3rd Floor, Lakshmi Associates, Gandhi Baza...   \n",
       "...                                                  ...   \n",
       "51712  Four Points by Sheraton Bengaluru, 43/3, White...   \n",
       "51713  Number 10, Garudachar Palya, Mahadevapura, Whi...   \n",
       "51714  Sheraton Grand Bengaluru Whitefield Hotel & Co...   \n",
       "51715  Sheraton Grand Bengaluru Whitefield Hotel & Co...   \n",
       "51716  ITPL Main Road, KIADB Export Promotion Industr...   \n",
       "\n",
       "                                                    name online_order  \\\n",
       "0                                                  Jalsa          Yes   \n",
       "1                                         Spice Elephant          Yes   \n",
       "2                                        San Churro Cafe          Yes   \n",
       "3                                  Addhuri Udupi Bhojana           No   \n",
       "4                                          Grand Village           No   \n",
       "...                                                  ...          ...   \n",
       "51712  Best Brews - Four Points by Sheraton Bengaluru...           No   \n",
       "51713                           Vinod Bar And Restaurant           No   \n",
       "51714  Plunge - Sheraton Grand Bengaluru Whitefield H...           No   \n",
       "51715  Chime - Sheraton Grand Bengaluru Whitefield Ho...           No   \n",
       "51716                       The Nest - The Den Bengaluru           No   \n",
       "\n",
       "      book_table    rate  votes                             phone  \\\n",
       "0            Yes   4.1/5    775    080 42297555\\r\\n+91 9743772233   \n",
       "1             No   4.1/5    787                      080 41714161   \n",
       "2             No   3.8/5    918                    +91 9663487993   \n",
       "3             No   3.7/5     88                    +91 9620009302   \n",
       "4             No   3.8/5    166  +91 8026612447\\r\\n+91 9901210005   \n",
       "...          ...     ...    ...                               ...   \n",
       "51712         No  3.6 /5     27                      080 40301477   \n",
       "51713         No    None      0                    +91 8197675843   \n",
       "51714         No    None      0                              None   \n",
       "51715        Yes  4.3 /5    236                      080 49652769   \n",
       "51716         No  3.4 /5     13                    +91 8071117272   \n",
       "\n",
       "                         location            rest_type  \\\n",
       "0                    Banashankari        Casual Dining   \n",
       "1                    Banashankari        Casual Dining   \n",
       "2                    Banashankari  Cafe, Casual Dining   \n",
       "3                    Banashankari          Quick Bites   \n",
       "4                    Basavanagudi        Casual Dining   \n",
       "...                           ...                  ...   \n",
       "51712                  Whitefield                  Bar   \n",
       "51713                  Whitefield                  Bar   \n",
       "51714                  Whitefield                  Bar   \n",
       "51715  ITPL Main Road, Whitefield                  Bar   \n",
       "51716  ITPL Main Road, Whitefield   Bar, Casual Dining   \n",
       "\n",
       "                                     cuisines  approx_cost(for two people)  \\\n",
       "0              North Indian, Mughlai, Chinese                        800.0   \n",
       "1                 Chinese, North Indian, Thai                        800.0   \n",
       "2                      Cafe, Mexican, Italian                        800.0   \n",
       "3                  South Indian, North Indian                        300.0   \n",
       "4                    North Indian, Rajasthani                        600.0   \n",
       "...                                       ...                          ...   \n",
       "51712                             Continental                       1500.0   \n",
       "51713                             Finger Food                        600.0   \n",
       "51714                             Finger Food                       2000.0   \n",
       "51715                             Finger Food                       2500.0   \n",
       "51716  Finger Food, North Indian, Continental                       1500.0   \n",
       "\n",
       "                                            reviews_list menu_item  \\\n",
       "0      [('Rated 4.0', 'RATED\\n  A beautiful place to ...        []   \n",
       "1      [('Rated 4.0', 'RATED\\n  Had been here for din...        []   \n",
       "2      [('Rated 3.0', \"RATED\\n  Ambience is not that ...        []   \n",
       "3      [('Rated 4.0', \"RATED\\n  Great food and proper...        []   \n",
       "4      [('Rated 4.0', 'RATED\\n  Very good restaurant ...        []   \n",
       "...                                                  ...       ...   \n",
       "51712  [('Rated 5.0', \"RATED\\n  Food and service are ...        []   \n",
       "51713                                                 []        []   \n",
       "51714                                                 []        []   \n",
       "51715  [('Rated 4.0', 'RATED\\n  Nice and friendly pla...        []   \n",
       "51716  [('Rated 5.0', 'RATED\\n  Great ambience , look...        []   \n",
       "\n",
       "      listed_in(type) listed_in(city)  \n",
       "0              Buffet    Banashankari  \n",
       "1              Buffet    Banashankari  \n",
       "2              Buffet    Banashankari  \n",
       "3              Buffet    Banashankari  \n",
       "4              Buffet    Banashankari  \n",
       "...               ...             ...  \n",
       "51712   Pubs and bars      Whitefield  \n",
       "51713   Pubs and bars      Whitefield  \n",
       "51714   Pubs and bars      Whitefield  \n",
       "51715   Pubs and bars      Whitefield  \n",
       "51716   Pubs and bars      Whitefield  \n",
       "\n",
       "[51717 rows x 17 columns]"
      ]
     },
     "execution_count": 55,
     "metadata": {},
     "output_type": "execute_result"
    }
   ],
   "source": [
    "df.drop('dish_liked' , axis=1 )"
   ]
  },
  {
   "cell_type": "code",
   "execution_count": 56,
   "id": "f78eb686-b7da-4090-a28c-73bc49646c47",
   "metadata": {},
   "outputs": [],
   "source": [
    "df = df.drop('dish_liked' , axis=1 )"
   ]
  },
  {
   "cell_type": "code",
   "execution_count": 57,
   "id": "51433a71-fe66-443c-a4ac-c1b3a6ffc90c",
   "metadata": {},
   "outputs": [
    {
     "data": {
      "text/plain": [
       "Index(['index', 'url', 'address', 'name', 'online_order', 'book_table', 'rate',\n",
       "       'votes', 'phone', 'location', 'rest_type', 'cuisines',\n",
       "       'approx_cost(for two people)', 'reviews_list', 'menu_item',\n",
       "       'listed_in(type)', 'listed_in(city)'],\n",
       "      dtype='object')"
      ]
     },
     "execution_count": 57,
     "metadata": {},
     "output_type": "execute_result"
    }
   ],
   "source": [
    "df.columns"
   ]
  },
  {
   "cell_type": "code",
   "execution_count": 58,
   "id": "639f7107-58b4-4ffb-89a7-a045d8da6148",
   "metadata": {},
   "outputs": [
    {
     "data": {
      "text/plain": [
       "'دیش لایک حذف شد'"
      ]
     },
     "execution_count": 58,
     "metadata": {},
     "output_type": "execute_result"
    }
   ],
   "source": [
    "\"\"\"دیش لایک حذف شد\"\"\""
   ]
  },
  {
   "cell_type": "code",
   "execution_count": 59,
   "id": "e20ac77d-d605-4fea-86f4-a9c3b9886464",
   "metadata": {},
   "outputs": [
    {
     "data": {
      "text/plain": [
       "(51717, 17)"
      ]
     },
     "execution_count": 59,
     "metadata": {},
     "output_type": "execute_result"
    }
   ],
   "source": [
    "df.shape"
   ]
  },
  {
   "cell_type": "code",
   "execution_count": 60,
   "id": "06eeb833-fcbb-4e28-a651-4f1702423bc3",
   "metadata": {},
   "outputs": [
    {
     "data": {
      "text/plain": [
       "array(['Casual Dining', 'Cafe, Casual Dining', 'Quick Bites',\n",
       "       'Casual Dining, Cafe', 'Cafe', 'Quick Bites, Cafe',\n",
       "       'Cafe, Quick Bites', 'Delivery', 'Mess', 'Dessert Parlor',\n",
       "       'Bakery, Dessert Parlor', 'Pub', 'Bakery', 'Takeaway, Delivery',\n",
       "       'Fine Dining', 'Beverage Shop', 'Sweet Shop', 'Bar',\n",
       "       'Beverage Shop, Quick Bites', 'Confectionery',\n",
       "       'Quick Bites, Beverage Shop', 'Dessert Parlor, Sweet Shop',\n",
       "       'Bakery, Quick Bites', 'Sweet Shop, Quick Bites', 'Kiosk',\n",
       "       'Food Truck', 'Quick Bites, Dessert Parlor',\n",
       "       'Beverage Shop, Dessert Parlor', 'Takeaway', 'Pub, Casual Dining',\n",
       "       'Casual Dining, Bar', 'Dessert Parlor, Beverage Shop',\n",
       "       'Quick Bites, Bakery', 'Dessert Parlor, Quick Bites',\n",
       "       'Microbrewery, Casual Dining', 'Lounge', 'Bar, Casual Dining',\n",
       "       'Food Court', 'Cafe, Bakery', None, 'Dhaba',\n",
       "       'Quick Bites, Sweet Shop', 'Microbrewery',\n",
       "       'Food Court, Quick Bites', 'Pub, Bar', 'Casual Dining, Pub',\n",
       "       'Lounge, Bar', 'Food Court, Dessert Parlor',\n",
       "       'Casual Dining, Sweet Shop', 'Food Court, Casual Dining',\n",
       "       'Casual Dining, Microbrewery', 'Sweet Shop, Dessert Parlor',\n",
       "       'Bakery, Beverage Shop', 'Lounge, Casual Dining',\n",
       "       'Cafe, Food Court', 'Beverage Shop, Cafe', 'Cafe, Dessert Parlor',\n",
       "       'Dessert Parlor, Cafe', 'Dessert Parlor, Bakery',\n",
       "       'Microbrewery, Pub', 'Bakery, Food Court', 'Club',\n",
       "       'Quick Bites, Food Court', 'Bakery, Cafe', 'Bar, Cafe',\n",
       "       'Pub, Cafe', 'Casual Dining, Irani Cafee', 'Fine Dining, Lounge',\n",
       "       'Bar, Quick Bites', 'Bakery, Kiosk', 'Pub, Microbrewery',\n",
       "       'Microbrewery, Lounge', 'Fine Dining, Microbrewery',\n",
       "       'Fine Dining, Bar', 'Mess, Quick Bites', 'Dessert Parlor, Kiosk',\n",
       "       'Bhojanalya', 'Casual Dining, Quick Bites', 'Pop Up', 'Cafe, Bar',\n",
       "       'Casual Dining, Lounge', 'Bakery, Sweet Shop', 'Microbrewery, Bar',\n",
       "       'Cafe, Lounge', 'Bar, Pub', 'Lounge, Cafe', 'Club, Casual Dining',\n",
       "       'Quick Bites, Mess', 'Quick Bites, Meat Shop',\n",
       "       'Quick Bites, Kiosk', 'Lounge, Microbrewery',\n",
       "       'Food Court, Beverage Shop', 'Dessert Parlor, Food Court',\n",
       "       'Bar, Lounge'], dtype=object)"
      ]
     },
     "execution_count": 60,
     "metadata": {},
     "output_type": "execute_result"
    }
   ],
   "source": [
    "df['rest_type'].unique() # مشاهده موارد یونیک این ستون"
   ]
  },
  {
   "cell_type": "code",
   "execution_count": 61,
   "id": "9623a0e3-4326-4f7a-a786-08767f2fe307",
   "metadata": {},
   "outputs": [
    {
     "data": {
      "text/plain": [
       "rest_type\n",
       "Quick Bites                   19132\n",
       "Casual Dining                 10330\n",
       "Cafe                           3732\n",
       "Delivery                       2604\n",
       "Dessert Parlor                 2263\n",
       "                              ...  \n",
       "Dessert Parlor, Kiosk             2\n",
       "Food Court, Beverage Shop         2\n",
       "Dessert Parlor, Food Court        2\n",
       "Sweet Shop, Dessert Parlor        1\n",
       "Quick Bites, Kiosk                1\n",
       "Name: count, Length: 93, dtype: int64"
      ]
     },
     "execution_count": 61,
     "metadata": {},
     "output_type": "execute_result"
    }
   ],
   "source": [
    "df['rest_type'].value_counts()  # تعداد فراوانی داده های رست تایپ "
   ]
  },
  {
   "cell_type": "code",
   "execution_count": 62,
   "id": "a46fd4a3-5b0d-4280-96bd-54a02658a506",
   "metadata": {},
   "outputs": [
    {
     "data": {
      "text/plain": [
       "' حالا برای اینکه دسته بندی بهتری داشته باشم چون فراوانی برخی داده های رست تایپ نسبت به بقیه داده های آن ستون بیشتر است یک متد جدید تعریف می کنم که دادههای رست تایپ را ستون جدیدی دسته بندی کنم '"
      ]
     },
     "execution_count": 62,
     "metadata": {},
     "output_type": "execute_result"
    }
   ],
   "source": [
    "\"\"\" حالا برای اینکه دسته بندی بهتری داشته باشم چون فراوانی برخی داده های رست تایپ نسبت به بقیه داده های آن ستون بیشتر است یک متد جدید تعریف می کنم که دادههای رست تایپ را ستون جدیدی دسته بندی کنم \"\"\""
   ]
  },
  {
   "cell_type": "code",
   "execution_count": 63,
   "id": "c44c73d3-ac8a-48e2-b8ce-6258efab68fb",
   "metadata": {},
   "outputs": [],
   "source": [
    "\n",
    "def mark(x):\n",
    "    if x == 'Quick Bites':\n",
    "        return 'Quick Bites'\n",
    "    elif x == 'Casual Dining':\n",
    "        return 'Casual Dining'\n",
    "    else:\n",
    "        return 'others'"
   ]
  },
  {
   "cell_type": "code",
   "execution_count": 64,
   "id": "111f139f-dcae-4fce-a69d-3af84dc5b192",
   "metadata": {},
   "outputs": [
    {
     "data": {
      "text/plain": [
       "'حالا متد دسته بندی رابرای ستون جدیدی محاسبه می کنم'"
      ]
     },
     "execution_count": 64,
     "metadata": {},
     "output_type": "execute_result"
    }
   ],
   "source": [
    "\"\"\"حالا متد دسته بندی رابرای ستون جدیدی محاسبه می کنم\"\"\""
   ]
  },
  {
   "cell_type": "code",
   "execution_count": 65,
   "id": "c33cd754-cd0a-46fa-8b20-a358cbd56431",
   "metadata": {},
   "outputs": [],
   "source": [
    "df['rest_type2'] = df['rest_type'].apply(mark)"
   ]
  },
  {
   "cell_type": "code",
   "execution_count": 66,
   "id": "712ade03-31f7-44c5-9e06-900a0b3d3929",
   "metadata": {},
   "outputs": [
    {
     "data": {
      "text/html": [
       "<div>\n",
       "<style scoped>\n",
       "    .dataframe tbody tr th:only-of-type {\n",
       "        vertical-align: middle;\n",
       "    }\n",
       "\n",
       "    .dataframe tbody tr th {\n",
       "        vertical-align: top;\n",
       "    }\n",
       "\n",
       "    .dataframe thead th {\n",
       "        text-align: right;\n",
       "    }\n",
       "</style>\n",
       "<table border=\"1\" class=\"dataframe\">\n",
       "  <thead>\n",
       "    <tr style=\"text-align: right;\">\n",
       "      <th></th>\n",
       "      <th>index</th>\n",
       "      <th>url</th>\n",
       "      <th>address</th>\n",
       "      <th>name</th>\n",
       "      <th>online_order</th>\n",
       "      <th>book_table</th>\n",
       "      <th>rate</th>\n",
       "      <th>votes</th>\n",
       "      <th>phone</th>\n",
       "      <th>location</th>\n",
       "      <th>rest_type</th>\n",
       "      <th>cuisines</th>\n",
       "      <th>approx_cost(for two people)</th>\n",
       "      <th>reviews_list</th>\n",
       "      <th>menu_item</th>\n",
       "      <th>listed_in(type)</th>\n",
       "      <th>listed_in(city)</th>\n",
       "      <th>rest_type2</th>\n",
       "    </tr>\n",
       "  </thead>\n",
       "  <tbody>\n",
       "    <tr>\n",
       "      <th>0</th>\n",
       "      <td>0</td>\n",
       "      <td>https://www.zomato.com/bangalore/jalsa-banasha...</td>\n",
       "      <td>942, 21st Main Road, 2nd Stage, Banashankari, ...</td>\n",
       "      <td>Jalsa</td>\n",
       "      <td>Yes</td>\n",
       "      <td>Yes</td>\n",
       "      <td>4.1/5</td>\n",
       "      <td>775</td>\n",
       "      <td>080 42297555\\r\\n+91 9743772233</td>\n",
       "      <td>Banashankari</td>\n",
       "      <td>Casual Dining</td>\n",
       "      <td>North Indian, Mughlai, Chinese</td>\n",
       "      <td>800.0</td>\n",
       "      <td>[('Rated 4.0', 'RATED\\n  A beautiful place to ...</td>\n",
       "      <td>[]</td>\n",
       "      <td>Buffet</td>\n",
       "      <td>Banashankari</td>\n",
       "      <td>Casual Dining</td>\n",
       "    </tr>\n",
       "    <tr>\n",
       "      <th>1</th>\n",
       "      <td>1</td>\n",
       "      <td>https://www.zomato.com/bangalore/spice-elephan...</td>\n",
       "      <td>2nd Floor, 80 Feet Road, Near Big Bazaar, 6th ...</td>\n",
       "      <td>Spice Elephant</td>\n",
       "      <td>Yes</td>\n",
       "      <td>No</td>\n",
       "      <td>4.1/5</td>\n",
       "      <td>787</td>\n",
       "      <td>080 41714161</td>\n",
       "      <td>Banashankari</td>\n",
       "      <td>Casual Dining</td>\n",
       "      <td>Chinese, North Indian, Thai</td>\n",
       "      <td>800.0</td>\n",
       "      <td>[('Rated 4.0', 'RATED\\n  Had been here for din...</td>\n",
       "      <td>[]</td>\n",
       "      <td>Buffet</td>\n",
       "      <td>Banashankari</td>\n",
       "      <td>Casual Dining</td>\n",
       "    </tr>\n",
       "    <tr>\n",
       "      <th>2</th>\n",
       "      <td>2</td>\n",
       "      <td>https://www.zomato.com/SanchurroBangalore?cont...</td>\n",
       "      <td>1112, Next to KIMS Medical College, 17th Cross...</td>\n",
       "      <td>San Churro Cafe</td>\n",
       "      <td>Yes</td>\n",
       "      <td>No</td>\n",
       "      <td>3.8/5</td>\n",
       "      <td>918</td>\n",
       "      <td>+91 9663487993</td>\n",
       "      <td>Banashankari</td>\n",
       "      <td>Cafe, Casual Dining</td>\n",
       "      <td>Cafe, Mexican, Italian</td>\n",
       "      <td>800.0</td>\n",
       "      <td>[('Rated 3.0', \"RATED\\n  Ambience is not that ...</td>\n",
       "      <td>[]</td>\n",
       "      <td>Buffet</td>\n",
       "      <td>Banashankari</td>\n",
       "      <td>others</td>\n",
       "    </tr>\n",
       "    <tr>\n",
       "      <th>3</th>\n",
       "      <td>3</td>\n",
       "      <td>https://www.zomato.com/bangalore/addhuri-udupi...</td>\n",
       "      <td>1st Floor, Annakuteera, 3rd Stage, Banashankar...</td>\n",
       "      <td>Addhuri Udupi Bhojana</td>\n",
       "      <td>No</td>\n",
       "      <td>No</td>\n",
       "      <td>3.7/5</td>\n",
       "      <td>88</td>\n",
       "      <td>+91 9620009302</td>\n",
       "      <td>Banashankari</td>\n",
       "      <td>Quick Bites</td>\n",
       "      <td>South Indian, North Indian</td>\n",
       "      <td>300.0</td>\n",
       "      <td>[('Rated 4.0', \"RATED\\n  Great food and proper...</td>\n",
       "      <td>[]</td>\n",
       "      <td>Buffet</td>\n",
       "      <td>Banashankari</td>\n",
       "      <td>Quick Bites</td>\n",
       "    </tr>\n",
       "    <tr>\n",
       "      <th>4</th>\n",
       "      <td>4</td>\n",
       "      <td>https://www.zomato.com/bangalore/grand-village...</td>\n",
       "      <td>10, 3rd Floor, Lakshmi Associates, Gandhi Baza...</td>\n",
       "      <td>Grand Village</td>\n",
       "      <td>No</td>\n",
       "      <td>No</td>\n",
       "      <td>3.8/5</td>\n",
       "      <td>166</td>\n",
       "      <td>+91 8026612447\\r\\n+91 9901210005</td>\n",
       "      <td>Basavanagudi</td>\n",
       "      <td>Casual Dining</td>\n",
       "      <td>North Indian, Rajasthani</td>\n",
       "      <td>600.0</td>\n",
       "      <td>[('Rated 4.0', 'RATED\\n  Very good restaurant ...</td>\n",
       "      <td>[]</td>\n",
       "      <td>Buffet</td>\n",
       "      <td>Banashankari</td>\n",
       "      <td>Casual Dining</td>\n",
       "    </tr>\n",
       "  </tbody>\n",
       "</table>\n",
       "</div>"
      ],
      "text/plain": [
       "   index                                                url  \\\n",
       "0      0  https://www.zomato.com/bangalore/jalsa-banasha...   \n",
       "1      1  https://www.zomato.com/bangalore/spice-elephan...   \n",
       "2      2  https://www.zomato.com/SanchurroBangalore?cont...   \n",
       "3      3  https://www.zomato.com/bangalore/addhuri-udupi...   \n",
       "4      4  https://www.zomato.com/bangalore/grand-village...   \n",
       "\n",
       "                                             address                   name  \\\n",
       "0  942, 21st Main Road, 2nd Stage, Banashankari, ...                  Jalsa   \n",
       "1  2nd Floor, 80 Feet Road, Near Big Bazaar, 6th ...         Spice Elephant   \n",
       "2  1112, Next to KIMS Medical College, 17th Cross...        San Churro Cafe   \n",
       "3  1st Floor, Annakuteera, 3rd Stage, Banashankar...  Addhuri Udupi Bhojana   \n",
       "4  10, 3rd Floor, Lakshmi Associates, Gandhi Baza...          Grand Village   \n",
       "\n",
       "  online_order book_table   rate  votes                             phone  \\\n",
       "0          Yes        Yes  4.1/5    775    080 42297555\\r\\n+91 9743772233   \n",
       "1          Yes         No  4.1/5    787                      080 41714161   \n",
       "2          Yes         No  3.8/5    918                    +91 9663487993   \n",
       "3           No         No  3.7/5     88                    +91 9620009302   \n",
       "4           No         No  3.8/5    166  +91 8026612447\\r\\n+91 9901210005   \n",
       "\n",
       "       location            rest_type                        cuisines  \\\n",
       "0  Banashankari        Casual Dining  North Indian, Mughlai, Chinese   \n",
       "1  Banashankari        Casual Dining     Chinese, North Indian, Thai   \n",
       "2  Banashankari  Cafe, Casual Dining          Cafe, Mexican, Italian   \n",
       "3  Banashankari          Quick Bites      South Indian, North Indian   \n",
       "4  Basavanagudi        Casual Dining        North Indian, Rajasthani   \n",
       "\n",
       "   approx_cost(for two people)  \\\n",
       "0                        800.0   \n",
       "1                        800.0   \n",
       "2                        800.0   \n",
       "3                        300.0   \n",
       "4                        600.0   \n",
       "\n",
       "                                        reviews_list menu_item  \\\n",
       "0  [('Rated 4.0', 'RATED\\n  A beautiful place to ...        []   \n",
       "1  [('Rated 4.0', 'RATED\\n  Had been here for din...        []   \n",
       "2  [('Rated 3.0', \"RATED\\n  Ambience is not that ...        []   \n",
       "3  [('Rated 4.0', \"RATED\\n  Great food and proper...        []   \n",
       "4  [('Rated 4.0', 'RATED\\n  Very good restaurant ...        []   \n",
       "\n",
       "  listed_in(type) listed_in(city)     rest_type2  \n",
       "0          Buffet    Banashankari  Casual Dining  \n",
       "1          Buffet    Banashankari  Casual Dining  \n",
       "2          Buffet    Banashankari         others  \n",
       "3          Buffet    Banashankari    Quick Bites  \n",
       "4          Buffet    Banashankari  Casual Dining  "
      ]
     },
     "execution_count": 66,
     "metadata": {},
     "output_type": "execute_result"
    }
   ],
   "source": [
    "df.head() #مشاهده ستون جدید انتهای سمت راست"
   ]
  },
  {
   "cell_type": "code",
   "execution_count": 67,
   "id": "278bf238-6dd4-40b5-8a84-92329a070979",
   "metadata": {},
   "outputs": [
    {
     "data": {
      "text/plain": [
       "rest_type2\n",
       "others           22255\n",
       "Quick Bites      19132\n",
       "Casual Dining    10330\n",
       "Name: count, dtype: int64"
      ]
     },
     "execution_count": 67,
     "metadata": {},
     "output_type": "execute_result"
    }
   ],
   "source": [
    "df['rest_type2'].value_counts()"
   ]
  },
  {
   "cell_type": "code",
   "execution_count": 68,
   "id": "bd79d579-c1c9-43d9-9735-7409c2cac24c",
   "metadata": {},
   "outputs": [
    {
     "data": {
      "text/plain": [
       "<Axes: xlabel='rest_type2'>"
      ]
     },
     "execution_count": 68,
     "metadata": {},
     "output_type": "execute_result"
    },
    {
     "data": {
      "image/png": "[encoded data removed]",
      "text/plain": [
       "<Figure size 640x480 with 1 Axes>"
      ]
     },
     "metadata": {},
     "output_type": "display_data"
    }
   ],
   "source": [
    "df['rest_type2'].value_counts().plot.bar()"
   ]
  },
  {
   "cell_type": "code",
   "execution_count": 69,
   "id": "5844586a-28a2-42f7-99bd-0ec03120e07a",
   "metadata": {},
   "outputs": [
    {
     "data": {
      "text/plain": [
       "'از اینجا به بعد می خواهم گروه بندی ورتبه بندی انجام دهم اول نگاهی به ستون های مورد نیاز می کنم '"
      ]
     },
     "execution_count": 69,
     "metadata": {},
     "output_type": "execute_result"
    }
   ],
   "source": [
    "\"\"\"از اینجا به بعد می خواهم گروه بندی ورتبه بندی انجام دهم اول نگاهی به ستون های مورد نیاز می کنم \"\"\""
   ]
  },
  {
   "cell_type": "code",
   "execution_count": 70,
   "id": "6fc11df1-ebfc-40b0-8280-75af3546e5df",
   "metadata": {},
   "outputs": [
    {
     "data": {
      "text/plain": [
       "Index(['index', 'url', 'address', 'name', 'online_order', 'book_table', 'rate',\n",
       "       'votes', 'phone', 'location', 'rest_type', 'cuisines',\n",
       "       'approx_cost(for two people)', 'reviews_list', 'menu_item',\n",
       "       'listed_in(type)', 'listed_in(city)', 'rest_type2'],\n",
       "      dtype='object')"
      ]
     },
     "execution_count": 70,
     "metadata": {},
     "output_type": "execute_result"
    }
   ],
   "source": [
    "df.columns"
   ]
  },
  {
   "cell_type": "code",
   "execution_count": 71,
   "id": "bc1fbd08-6d55-4aa6-95db-f6a27ae69da8",
   "metadata": {},
   "outputs": [
    {
     "data": {
      "text/plain": [
       "index                            int64\n",
       "url                             object\n",
       "address                         object\n",
       "name                            object\n",
       "online_order                    object\n",
       "book_table                      object\n",
       "rate                            object\n",
       "votes                            int64\n",
       "phone                           object\n",
       "location                        object\n",
       "rest_type                       object\n",
       "cuisines                        object\n",
       "approx_cost(for two people)    float64\n",
       "reviews_list                    object\n",
       "menu_item                       object\n",
       "listed_in(type)                 object\n",
       "listed_in(city)                 object\n",
       "rest_type2                      object\n",
       "dtype: object"
      ]
     },
     "execution_count": 71,
     "metadata": {},
     "output_type": "execute_result"
    }
   ],
   "source": [
    "df.dtypes"
   ]
  },
  {
   "cell_type": "code",
   "execution_count": 72,
   "id": "1e65f63a-3977-4a23-a5a2-a991bd4946a5",
   "metadata": {},
   "outputs": [
    {
     "data": {
      "text/plain": [
       "'اینجا دو ستون مقداری دارم که قابلیت محاسباتی دارند ستون ریت آبجکت هست به آن هم نیاز دارم که ابتدا آن را به نوع عددی تبدیل می کنم '"
      ]
     },
     "execution_count": 72,
     "metadata": {},
     "output_type": "execute_result"
    }
   ],
   "source": [
    "\"\"\"اینجا دو ستون مقداری دارم که قابلیت محاسباتی دارند ستون ریت آبجکت هست به آن هم نیاز دارم که ابتدا آن را به نوع عددی تبدیل می کنم \"\"\""
   ]
  },
  {
   "cell_type": "code",
   "execution_count": 73,
   "id": "745b4bcc-8331-4eb9-b120-c2a3e2eed24c",
   "metadata": {},
   "outputs": [
    {
     "data": {
      "text/plain": [
       "array(['4.1/5', '3.8/5', '3.7/5', '3.6/5', '4.6/5', '4.0/5', '4.2/5',\n",
       "       '3.9/5', '3.1/5', '3.0/5', '3.2/5', '3.3/5', '2.8/5', '4.4/5',\n",
       "       '4.3/5', 'NEW', '2.9/5', '3.5/5', None, '2.6/5', '3.8 /5', '3.4/5',\n",
       "       '4.5/5', '2.5/5', '2.7/5', '4.7/5', '2.4/5', '2.2/5', '2.3/5',\n",
       "       '3.4 /5', '-', '3.6 /5', '4.8/5', '3.9 /5', '4.2 /5', '4.0 /5',\n",
       "       '4.1 /5', '3.7 /5', '3.1 /5', '2.9 /5', '3.3 /5', '2.8 /5',\n",
       "       '3.5 /5', '2.7 /5', '2.5 /5', '3.2 /5', '2.6 /5', '4.5 /5',\n",
       "       '4.3 /5', '4.4 /5', '4.9/5', '2.1/5', '2.0/5', '1.8/5', '4.6 /5',\n",
       "       '4.9 /5', '3.0 /5', '4.8 /5', '2.3 /5', '4.7 /5', '2.4 /5',\n",
       "       '2.1 /5', '2.2 /5', '2.0 /5', '1.8 /5'], dtype=object)"
      ]
     },
     "execution_count": 73,
     "metadata": {},
     "output_type": "execute_result"
    }
   ],
   "source": [
    "df['rate'].unique()"
   ]
  },
  {
   "cell_type": "code",
   "execution_count": 74,
   "id": "4b7d374f-0120-456c-a17d-9d92729fef47",
   "metadata": {},
   "outputs": [
    {
     "data": {
      "text/plain": [
       "'الان می بینم که یک عدد 5 و اسلش  با اعداد قرار دارند که با جداکننده اسلش عملیات پاکسازی را انجام بدهم '"
      ]
     },
     "execution_count": 74,
     "metadata": {},
     "output_type": "execute_result"
    }
   ],
   "source": [
    "\"\"\"الان می بینم که یک عدد 5 و اسلش  با اعداد قرار دارند که با جداکننده اسلش عملیات پاکسازی را انجام بدهم \"\"\""
   ]
  },
  {
   "cell_type": "code",
   "execution_count": 75,
   "id": "e19f5bbb-7353-41a2-a837-fa9a34e3beff",
   "metadata": {},
   "outputs": [
    {
     "data": {
      "text/plain": [
       "['4.1', '5']"
      ]
     },
     "execution_count": 75,
     "metadata": {},
     "output_type": "execute_result"
    }
   ],
   "source": [
    "df['rate'][0].split('/') # روی یک داده از ستون ریت اسپلیت را امتحان می کنم و سپس برای همه متد می نویسم"
   ]
  },
  {
   "cell_type": "code",
   "execution_count": 76,
   "id": "46934dc7-efdb-414e-8109-c0dcb830d95b",
   "metadata": {},
   "outputs": [
    {
     "data": {
      "text/plain": [
       "'4.1'"
      ]
     },
     "execution_count": 76,
     "metadata": {},
     "output_type": "execute_result"
    }
   ],
   "source": [
    "df['rate'][0].split('/')[0] # به داده پشت اسلش نیاز ندارم و لذا حذف می کنم"
   ]
  },
  {
   "cell_type": "code",
   "execution_count": 77,
   "id": "4df46c41-9033-4877-a4f8-007ceb8311f8",
   "metadata": {},
   "outputs": [],
   "source": [
    "def split (x):\n",
    "    return x.split('/')[0] # تعریف متد"
   ]
  },
  {
   "cell_type": "code",
   "execution_count": 78,
   "id": "76ff8a1b-8393-48d0-9a9e-e4f763927fcc",
   "metadata": {},
   "outputs": [
    {
     "data": {
      "text/plain": [
       "0         4.1\n",
       "1         4.1\n",
       "2         3.8\n",
       "3         3.7\n",
       "4         3.8\n",
       "         ... \n",
       "51712    3.6 \n",
       "51713    None\n",
       "51714    None\n",
       "51715    4.3 \n",
       "51716    3.4 \n",
       "Name: rate, Length: 51717, dtype: object"
      ]
     },
     "execution_count": 78,
     "metadata": {},
     "output_type": "execute_result"
    }
   ],
   "source": [
    "df['rate'].astype(str).apply(split) # اعمال متد در ستون ریت . البته قبلش نوع اسپلیت را به استرینگ تبدیل کردم"
   ]
  },
  {
   "cell_type": "code",
   "execution_count": 79,
   "id": "021e5c8f-6c4c-4880-9d77-2c6a90b0f305",
   "metadata": {},
   "outputs": [],
   "source": [
    "df['rate']= df['rate'].astype(str).apply(split) #ستون را با داده جدید جایگزین می کنم"
   ]
  },
  {
   "cell_type": "code",
   "execution_count": 80,
   "id": "09fe1fc8-2b6a-4777-919a-18a37d9e1495",
   "metadata": {},
   "outputs": [
    {
     "data": {
      "text/plain": [
       "array(['4.1', '3.8', '3.7', '3.6', '4.6', '4.0', '4.2', '3.9', '3.1',\n",
       "       '3.0', '3.2', '3.3', '2.8', '4.4', '4.3', 'NEW', '2.9', '3.5',\n",
       "       'None', '2.6', '3.8 ', '3.4', '4.5', '2.5', '2.7', '4.7', '2.4',\n",
       "       '2.2', '2.3', '3.4 ', '-', '3.6 ', '4.8', '3.9 ', '4.2 ', '4.0 ',\n",
       "       '4.1 ', '3.7 ', '3.1 ', '2.9 ', '3.3 ', '2.8 ', '3.5 ', '2.7 ',\n",
       "       '2.5 ', '3.2 ', '2.6 ', '4.5 ', '4.3 ', '4.4 ', '4.9', '2.1',\n",
       "       '2.0', '1.8', '4.6 ', '4.9 ', '3.0 ', '4.8 ', '2.3 ', '4.7 ',\n",
       "       '2.4 ', '2.1 ', '2.2 ', '2.0 ', '1.8 '], dtype=object)"
      ]
     },
     "execution_count": 80,
     "metadata": {},
     "output_type": "execute_result"
    }
   ],
   "source": [
    "df['rate'].unique() #وجود دارد که باید آنها هم خارج کنم  new  بررسی مجدد داده ها که می بینم همچنان آبجت است و دو داده مثل - و "
   ]
  },
  {
   "cell_type": "code",
   "execution_count": 81,
   "id": "9f6f12f0-1afc-4acd-8b1c-d3526c51bd6b",
   "metadata": {},
   "outputs": [],
   "source": [
    "df['rate'] = df['rate'].replace('None','Nan')"
   ]
  },
  {
   "cell_type": "code",
   "execution_count": 82,
   "id": "84d0d5b8-2cfd-453c-a182-0dd740e8384f",
   "metadata": {},
   "outputs": [],
   "source": [
    "df['rate'] = df['rate'].replace('NEW','Nan')"
   ]
  },
  {
   "cell_type": "code",
   "execution_count": 83,
   "id": "d06fe08a-b18d-4972-84e9-8a2717ea2d24",
   "metadata": {},
   "outputs": [],
   "source": [
    "df['rate'] = df['rate'].replace('-','Nan')"
   ]
  },
  {
   "cell_type": "code",
   "execution_count": 84,
   "id": "7bc4414d-12e9-45cc-9694-4ef07b5de052",
   "metadata": {},
   "outputs": [
    {
     "data": {
      "text/plain": [
       "array(['4.1', '3.8', '3.7', '3.6', '4.6', '4.0', '4.2', '3.9', '3.1',\n",
       "       '3.0', '3.2', '3.3', '2.8', '4.4', '4.3', 'Nan', '2.9', '3.5',\n",
       "       '2.6', '3.8 ', '3.4', '4.5', '2.5', '2.7', '4.7', '2.4', '2.2',\n",
       "       '2.3', '3.4 ', '3.6 ', '4.8', '3.9 ', '4.2 ', '4.0 ', '4.1 ',\n",
       "       '3.7 ', '3.1 ', '2.9 ', '3.3 ', '2.8 ', '3.5 ', '2.7 ', '2.5 ',\n",
       "       '3.2 ', '2.6 ', '4.5 ', '4.3 ', '4.4 ', '4.9', '2.1', '2.0', '1.8',\n",
       "       '4.6 ', '4.9 ', '3.0 ', '4.8 ', '2.3 ', '4.7 ', '2.4 ', '2.1 ',\n",
       "       '2.2 ', '2.0 ', '1.8 '], dtype=object)"
      ]
     },
     "execution_count": 84,
     "metadata": {},
     "output_type": "execute_result"
    }
   ],
   "source": [
    "df['rate'].unique() # داده ها اوکی هستند برای تبدیل به عددی"
   ]
  },
  {
   "cell_type": "code",
   "execution_count": 85,
   "id": "0de4d647-5df9-49a5-b171-2a8824949c4d",
   "metadata": {},
   "outputs": [],
   "source": [
    "df['rate']= df['rate'].astype(float)"
   ]
  },
  {
   "cell_type": "code",
   "execution_count": 86,
   "id": "88c62298-1986-40ea-9037-7b6d400744ba",
   "metadata": {},
   "outputs": [
    {
     "data": {
      "text/plain": [
       "'حالا که ستون ریت عددی شد برمیگردم به ادامه گروه بندی و رتبه بندی '"
      ]
     },
     "execution_count": 86,
     "metadata": {},
     "output_type": "execute_result"
    }
   ],
   "source": [
    "\"\"\"حالا که ستون ریت عددی شد برمیگردم به ادامه گروه بندی و رتبه بندی \"\"\""
   ]
  },
  {
   "cell_type": "code",
   "execution_count": 87,
   "id": "044a1a29-2951-41cf-9992-51ef35423f9d",
   "metadata": {},
   "outputs": [
    {
     "data": {
      "text/plain": [
       "index                            int64\n",
       "url                             object\n",
       "address                         object\n",
       "name                            object\n",
       "online_order                    object\n",
       "book_table                      object\n",
       "rate                           float64\n",
       "votes                            int64\n",
       "phone                           object\n",
       "location                        object\n",
       "rest_type                       object\n",
       "cuisines                        object\n",
       "approx_cost(for two people)    float64\n",
       "reviews_list                    object\n",
       "menu_item                       object\n",
       "listed_in(type)                 object\n",
       "listed_in(city)                 object\n",
       "rest_type2                      object\n",
       "dtype: object"
      ]
     },
     "execution_count": 87,
     "metadata": {},
     "output_type": "execute_result"
    }
   ],
   "source": [
    "df.dtypes"
   ]
  },
  {
   "cell_type": "code",
   "execution_count": 88,
   "id": "e3e96136-c3f3-4560-bc61-d5e6c60953df",
   "metadata": {},
   "outputs": [
    {
     "data": {
      "text/plain": [
       "name\n",
       "Cafe Coffee Day                                            96\n",
       "Onesta                                                     85\n",
       "Just Bake                                                  73\n",
       "Empire Restaurant                                          71\n",
       "Five Star Chicken                                          70\n",
       "                                                           ..\n",
       "Natis                                                       1\n",
       "Shreyas                                                     1\n",
       "Vishwas Kabab Centre                                        1\n",
       "Taj Biryani Centre                                          1\n",
       "Plunge - Sheraton Grand Bengaluru Whitefield Hotel &...     1\n",
       "Name: count, Length: 8792, dtype: int64"
      ]
     },
     "execution_count": 88,
     "metadata": {},
     "output_type": "execute_result"
    }
   ],
   "source": [
    "df['name'].value_counts() # بررسی تعداد فراوانی نام ها"
   ]
  },
  {
   "cell_type": "code",
   "execution_count": 89,
   "id": "1e49823f-6059-43c0-8e6d-e6646b1be539",
   "metadata": {},
   "outputs": [
    {
     "data": {
      "text/html": [
       "<div>\n",
       "<style scoped>\n",
       "    .dataframe tbody tr th:only-of-type {\n",
       "        vertical-align: middle;\n",
       "    }\n",
       "\n",
       "    .dataframe tbody tr th {\n",
       "        vertical-align: top;\n",
       "    }\n",
       "\n",
       "    .dataframe thead th {\n",
       "        text-align: right;\n",
       "    }\n",
       "</style>\n",
       "<table border=\"1\" class=\"dataframe\">\n",
       "  <thead>\n",
       "    <tr style=\"text-align: right;\">\n",
       "      <th></th>\n",
       "      <th>votes</th>\n",
       "    </tr>\n",
       "    <tr>\n",
       "      <th>name</th>\n",
       "      <th></th>\n",
       "    </tr>\n",
       "  </thead>\n",
       "  <tbody>\n",
       "    <tr>\n",
       "      <th>#FeelTheROLL</th>\n",
       "      <td>14</td>\n",
       "    </tr>\n",
       "    <tr>\n",
       "      <th>#L-81 Cafe</th>\n",
       "      <td>432</td>\n",
       "    </tr>\n",
       "    <tr>\n",
       "      <th>#Vibes Restro</th>\n",
       "      <td>0</td>\n",
       "    </tr>\n",
       "    <tr>\n",
       "      <th>#refuel</th>\n",
       "      <td>111</td>\n",
       "    </tr>\n",
       "    <tr>\n",
       "      <th>'Brahmins' Thatte Idli</th>\n",
       "      <td>0</td>\n",
       "    </tr>\n",
       "    <tr>\n",
       "      <th>...</th>\n",
       "      <td>...</td>\n",
       "    </tr>\n",
       "    <tr>\n",
       "      <th>late100</th>\n",
       "      <td>0</td>\n",
       "    </tr>\n",
       "    <tr>\n",
       "      <th>nu.tree</th>\n",
       "      <td>1443</td>\n",
       "    </tr>\n",
       "    <tr>\n",
       "      <th>re:cess - Hilton Bangalore Embassy GolfLinks</th>\n",
       "      <td>438</td>\n",
       "    </tr>\n",
       "    <tr>\n",
       "      <th>repEAT Hub</th>\n",
       "      <td>0</td>\n",
       "    </tr>\n",
       "    <tr>\n",
       "      <th>sCoolMeal</th>\n",
       "      <td>0</td>\n",
       "    </tr>\n",
       "  </tbody>\n",
       "</table>\n",
       "<p>8792 rows × 1 columns</p>\n",
       "</div>"
      ],
      "text/plain": [
       "                                              votes\n",
       "name                                               \n",
       "#FeelTheROLL                                     14\n",
       "#L-81 Cafe                                      432\n",
       "#Vibes Restro                                     0\n",
       "#refuel                                         111\n",
       "'Brahmins' Thatte Idli                            0\n",
       "...                                             ...\n",
       "late100                                           0\n",
       "nu.tree                                        1443\n",
       "re:cess - Hilton Bangalore Embassy GolfLinks    438\n",
       "repEAT Hub                                        0\n",
       "sCoolMeal                                         0\n",
       "\n",
       "[8792 rows x 1 columns]"
      ]
     },
     "execution_count": 89,
     "metadata": {},
     "output_type": "execute_result"
    }
   ],
   "source": [
    "df.groupby('name').agg({'votes':'sum'}) # نام رستوران ها رو بر اساس جمع رای گروه بندی کن"
   ]
  },
  {
   "cell_type": "code",
   "execution_count": 90,
   "id": "2e669ce2-4ed4-4f39-b1ca-6d724cac8684",
   "metadata": {},
   "outputs": [
    {
     "data": {
      "text/html": [
       "<div>\n",
       "<style scoped>\n",
       "    .dataframe tbody tr th:only-of-type {\n",
       "        vertical-align: middle;\n",
       "    }\n",
       "\n",
       "    .dataframe tbody tr th {\n",
       "        vertical-align: top;\n",
       "    }\n",
       "\n",
       "    .dataframe thead th {\n",
       "        text-align: right;\n",
       "    }\n",
       "</style>\n",
       "<table border=\"1\" class=\"dataframe\">\n",
       "  <thead>\n",
       "    <tr style=\"text-align: right;\">\n",
       "      <th></th>\n",
       "      <th>votes</th>\n",
       "    </tr>\n",
       "    <tr>\n",
       "      <th>name</th>\n",
       "      <th></th>\n",
       "    </tr>\n",
       "  </thead>\n",
       "  <tbody>\n",
       "    <tr>\n",
       "      <th>Onesta</th>\n",
       "      <td>347520</td>\n",
       "    </tr>\n",
       "    <tr>\n",
       "      <th>Truffles</th>\n",
       "      <td>301059</td>\n",
       "    </tr>\n",
       "    <tr>\n",
       "      <th>Empire Restaurant</th>\n",
       "      <td>229808</td>\n",
       "    </tr>\n",
       "    <tr>\n",
       "      <th>Hammered</th>\n",
       "      <td>180602</td>\n",
       "    </tr>\n",
       "    <tr>\n",
       "      <th>The Black Pearl</th>\n",
       "      <td>172122</td>\n",
       "    </tr>\n",
       "    <tr>\n",
       "      <th>...</th>\n",
       "      <td>...</td>\n",
       "    </tr>\n",
       "    <tr>\n",
       "      <th>Mirchi- The Indian Street Food Kitchen</th>\n",
       "      <td>0</td>\n",
       "    </tr>\n",
       "    <tr>\n",
       "      <th>Mist N Creams</th>\n",
       "      <td>0</td>\n",
       "    </tr>\n",
       "    <tr>\n",
       "      <th>Mithai Ghar</th>\n",
       "      <td>0</td>\n",
       "    </tr>\n",
       "    <tr>\n",
       "      <th>Mitran Da Adda</th>\n",
       "      <td>0</td>\n",
       "    </tr>\n",
       "    <tr>\n",
       "      <th>sCoolMeal</th>\n",
       "      <td>0</td>\n",
       "    </tr>\n",
       "  </tbody>\n",
       "</table>\n",
       "<p>8792 rows × 1 columns</p>\n",
       "</div>"
      ],
      "text/plain": [
       "                                         votes\n",
       "name                                          \n",
       "Onesta                                  347520\n",
       "Truffles                                301059\n",
       "Empire Restaurant                       229808\n",
       "Hammered                                180602\n",
       "The Black Pearl                         172122\n",
       "...                                        ...\n",
       "Mirchi- The Indian Street Food Kitchen       0\n",
       "Mist N Creams                                0\n",
       "Mithai Ghar                                  0\n",
       "Mitran Da Adda                               0\n",
       "sCoolMeal                                    0\n",
       "\n",
       "[8792 rows x 1 columns]"
      ]
     },
     "execution_count": 90,
     "metadata": {},
     "output_type": "execute_result"
    }
   ],
   "source": [
    "df.groupby('name').agg({'votes':'sum'}).sort_values(by = 'votes' , ascending = False) # ' گروه بندی نام بر اساس بیشترین رای"
   ]
  },
  {
   "cell_type": "code",
   "execution_count": 91,
   "id": "2931f79d-4e8d-4afd-b082-9ffc447bfdc3",
   "metadata": {},
   "outputs": [
    {
     "data": {
      "text/plain": [
       "'تا اینجا اسامی رستوران ها را بر اساس رای رتبه بندی کردم اما در ادامه می خواهم متغیرهای دیگری به این رتبه بندی اضافه کنم'"
      ]
     },
     "execution_count": 91,
     "metadata": {},
     "output_type": "execute_result"
    }
   ],
   "source": [
    "\"\"\"تا اینجا اسامی رستوران ها را بر اساس رای رتبه بندی کردم اما در ادامه می خواهم متغیرهای دیگری به این رتبه بندی اضافه کنم\"\"\""
   ]
  },
  {
   "cell_type": "code",
   "execution_count": 92,
   "id": "159dfb0e-439f-41ba-8224-8e94e38d398f",
   "metadata": {},
   "outputs": [
    {
     "data": {
      "text/html": [
       "<div>\n",
       "<style scoped>\n",
       "    .dataframe tbody tr th:only-of-type {\n",
       "        vertical-align: middle;\n",
       "    }\n",
       "\n",
       "    .dataframe tbody tr th {\n",
       "        vertical-align: top;\n",
       "    }\n",
       "\n",
       "    .dataframe thead th {\n",
       "        text-align: right;\n",
       "    }\n",
       "</style>\n",
       "<table border=\"1\" class=\"dataframe\">\n",
       "  <thead>\n",
       "    <tr style=\"text-align: right;\">\n",
       "      <th></th>\n",
       "      <th>votes</th>\n",
       "      <th>approx_cost(for two people)</th>\n",
       "      <th>rate</th>\n",
       "    </tr>\n",
       "    <tr>\n",
       "      <th>name</th>\n",
       "      <th></th>\n",
       "      <th></th>\n",
       "      <th></th>\n",
       "    </tr>\n",
       "  </thead>\n",
       "  <tbody>\n",
       "    <tr>\n",
       "      <th>Onesta</th>\n",
       "      <td>347520</td>\n",
       "      <td>600.000000</td>\n",
       "      <td>4.410588</td>\n",
       "    </tr>\n",
       "    <tr>\n",
       "      <th>Truffles</th>\n",
       "      <td>301059</td>\n",
       "      <td>900.000000</td>\n",
       "      <td>4.595349</td>\n",
       "    </tr>\n",
       "    <tr>\n",
       "      <th>Empire Restaurant</th>\n",
       "      <td>229808</td>\n",
       "      <td>685.211268</td>\n",
       "      <td>4.030435</td>\n",
       "    </tr>\n",
       "    <tr>\n",
       "      <th>Hammered</th>\n",
       "      <td>180602</td>\n",
       "      <td>1272.340426</td>\n",
       "      <td>4.625000</td>\n",
       "    </tr>\n",
       "    <tr>\n",
       "      <th>The Black Pearl</th>\n",
       "      <td>172122</td>\n",
       "      <td>1427.777778</td>\n",
       "      <td>4.727778</td>\n",
       "    </tr>\n",
       "    <tr>\n",
       "      <th>...</th>\n",
       "      <td>...</td>\n",
       "      <td>...</td>\n",
       "      <td>...</td>\n",
       "    </tr>\n",
       "    <tr>\n",
       "      <th>Mirchi- The Indian Street Food Kitchen</th>\n",
       "      <td>0</td>\n",
       "      <td>150.000000</td>\n",
       "      <td>NaN</td>\n",
       "    </tr>\n",
       "    <tr>\n",
       "      <th>Mist N Creams</th>\n",
       "      <td>0</td>\n",
       "      <td>400.000000</td>\n",
       "      <td>NaN</td>\n",
       "    </tr>\n",
       "    <tr>\n",
       "      <th>Mithai Ghar</th>\n",
       "      <td>0</td>\n",
       "      <td>200.000000</td>\n",
       "      <td>NaN</td>\n",
       "    </tr>\n",
       "    <tr>\n",
       "      <th>Mitran Da Adda</th>\n",
       "      <td>0</td>\n",
       "      <td>350.000000</td>\n",
       "      <td>NaN</td>\n",
       "    </tr>\n",
       "    <tr>\n",
       "      <th>sCoolMeal</th>\n",
       "      <td>0</td>\n",
       "      <td>300.000000</td>\n",
       "      <td>NaN</td>\n",
       "    </tr>\n",
       "  </tbody>\n",
       "</table>\n",
       "<p>8792 rows × 3 columns</p>\n",
       "</div>"
      ],
      "text/plain": [
       "                                         votes  approx_cost(for two people)  \\\n",
       "name                                                                          \n",
       "Onesta                                  347520                   600.000000   \n",
       "Truffles                                301059                   900.000000   \n",
       "Empire Restaurant                       229808                   685.211268   \n",
       "Hammered                                180602                  1272.340426   \n",
       "The Black Pearl                         172122                  1427.777778   \n",
       "...                                        ...                          ...   \n",
       "Mirchi- The Indian Street Food Kitchen       0                   150.000000   \n",
       "Mist N Creams                                0                   400.000000   \n",
       "Mithai Ghar                                  0                   200.000000   \n",
       "Mitran Da Adda                               0                   350.000000   \n",
       "sCoolMeal                                    0                   300.000000   \n",
       "\n",
       "                                            rate  \n",
       "name                                              \n",
       "Onesta                                  4.410588  \n",
       "Truffles                                4.595349  \n",
       "Empire Restaurant                       4.030435  \n",
       "Hammered                                4.625000  \n",
       "The Black Pearl                         4.727778  \n",
       "...                                          ...  \n",
       "Mirchi- The Indian Street Food Kitchen       NaN  \n",
       "Mist N Creams                                NaN  \n",
       "Mithai Ghar                                  NaN  \n",
       "Mitran Da Adda                               NaN  \n",
       "sCoolMeal                                    NaN  \n",
       "\n",
       "[8792 rows x 3 columns]"
      ]
     },
     "execution_count": 92,
     "metadata": {},
     "output_type": "execute_result"
    }
   ],
   "source": [
    "df.groupby('name').agg({'votes':'sum' , 'approx_cost(for two people)':'mean' , 'rate':'mean'}).sort_values(by = 'votes' , ascending = False)"
   ]
  },
  {
   "cell_type": "code",
   "execution_count": 93,
   "id": "08c1bd83-494f-41cb-b6ef-d9741d1f5a1c",
   "metadata": {},
   "outputs": [
    {
     "data": {
      "text/html": [
       "<div>\n",
       "<style scoped>\n",
       "    .dataframe tbody tr th:only-of-type {\n",
       "        vertical-align: middle;\n",
       "    }\n",
       "\n",
       "    .dataframe tbody tr th {\n",
       "        vertical-align: top;\n",
       "    }\n",
       "\n",
       "    .dataframe thead th {\n",
       "        text-align: right;\n",
       "    }\n",
       "</style>\n",
       "<table border=\"1\" class=\"dataframe\">\n",
       "  <thead>\n",
       "    <tr style=\"text-align: right;\">\n",
       "      <th></th>\n",
       "      <th>votes</th>\n",
       "      <th>approx_cost(for two people)</th>\n",
       "      <th>rate</th>\n",
       "      <th>url</th>\n",
       "    </tr>\n",
       "    <tr>\n",
       "      <th>name</th>\n",
       "      <th></th>\n",
       "      <th></th>\n",
       "      <th></th>\n",
       "      <th></th>\n",
       "    </tr>\n",
       "  </thead>\n",
       "  <tbody>\n",
       "    <tr>\n",
       "      <th>Onesta</th>\n",
       "      <td>347520</td>\n",
       "      <td>600.000000</td>\n",
       "      <td>4.410588</td>\n",
       "      <td>85</td>\n",
       "    </tr>\n",
       "    <tr>\n",
       "      <th>Truffles</th>\n",
       "      <td>301059</td>\n",
       "      <td>900.000000</td>\n",
       "      <td>4.595349</td>\n",
       "      <td>43</td>\n",
       "    </tr>\n",
       "    <tr>\n",
       "      <th>Empire Restaurant</th>\n",
       "      <td>229808</td>\n",
       "      <td>685.211268</td>\n",
       "      <td>4.030435</td>\n",
       "      <td>71</td>\n",
       "    </tr>\n",
       "    <tr>\n",
       "      <th>Hammered</th>\n",
       "      <td>180602</td>\n",
       "      <td>1272.340426</td>\n",
       "      <td>4.625000</td>\n",
       "      <td>47</td>\n",
       "    </tr>\n",
       "    <tr>\n",
       "      <th>The Black Pearl</th>\n",
       "      <td>172122</td>\n",
       "      <td>1427.777778</td>\n",
       "      <td>4.727778</td>\n",
       "      <td>18</td>\n",
       "    </tr>\n",
       "    <tr>\n",
       "      <th>...</th>\n",
       "      <td>...</td>\n",
       "      <td>...</td>\n",
       "      <td>...</td>\n",
       "      <td>...</td>\n",
       "    </tr>\n",
       "    <tr>\n",
       "      <th>Mirchi- The Indian Street Food Kitchen</th>\n",
       "      <td>0</td>\n",
       "      <td>150.000000</td>\n",
       "      <td>NaN</td>\n",
       "      <td>5</td>\n",
       "    </tr>\n",
       "    <tr>\n",
       "      <th>Mist N Creams</th>\n",
       "      <td>0</td>\n",
       "      <td>400.000000</td>\n",
       "      <td>NaN</td>\n",
       "      <td>5</td>\n",
       "    </tr>\n",
       "    <tr>\n",
       "      <th>Mithai Ghar</th>\n",
       "      <td>0</td>\n",
       "      <td>200.000000</td>\n",
       "      <td>NaN</td>\n",
       "      <td>6</td>\n",
       "    </tr>\n",
       "    <tr>\n",
       "      <th>Mitran Da Adda</th>\n",
       "      <td>0</td>\n",
       "      <td>350.000000</td>\n",
       "      <td>NaN</td>\n",
       "      <td>1</td>\n",
       "    </tr>\n",
       "    <tr>\n",
       "      <th>sCoolMeal</th>\n",
       "      <td>0</td>\n",
       "      <td>300.000000</td>\n",
       "      <td>NaN</td>\n",
       "      <td>5</td>\n",
       "    </tr>\n",
       "  </tbody>\n",
       "</table>\n",
       "<p>8792 rows × 4 columns</p>\n",
       "</div>"
      ],
      "text/plain": [
       "                                         votes  approx_cost(for two people)  \\\n",
       "name                                                                          \n",
       "Onesta                                  347520                   600.000000   \n",
       "Truffles                                301059                   900.000000   \n",
       "Empire Restaurant                       229808                   685.211268   \n",
       "Hammered                                180602                  1272.340426   \n",
       "The Black Pearl                         172122                  1427.777778   \n",
       "...                                        ...                          ...   \n",
       "Mirchi- The Indian Street Food Kitchen       0                   150.000000   \n",
       "Mist N Creams                                0                   400.000000   \n",
       "Mithai Ghar                                  0                   200.000000   \n",
       "Mitran Da Adda                               0                   350.000000   \n",
       "sCoolMeal                                    0                   300.000000   \n",
       "\n",
       "                                            rate  url  \n",
       "name                                                   \n",
       "Onesta                                  4.410588   85  \n",
       "Truffles                                4.595349   43  \n",
       "Empire Restaurant                       4.030435   71  \n",
       "Hammered                                4.625000   47  \n",
       "The Black Pearl                         4.727778   18  \n",
       "...                                          ...  ...  \n",
       "Mirchi- The Indian Street Food Kitchen       NaN    5  \n",
       "Mist N Creams                                NaN    5  \n",
       "Mithai Ghar                                  NaN    6  \n",
       "Mitran Da Adda                               NaN    1  \n",
       "sCoolMeal                                    NaN    5  \n",
       "\n",
       "[8792 rows x 4 columns]"
      ]
     },
     "execution_count": 93,
     "metadata": {},
     "output_type": "execute_result"
    }
   ],
   "source": [
    "df.groupby('name').agg({'votes':'sum' , 'approx_cost(for two people)':'mean' , 'rate':'mean' , 'url':'count'}).sort_values(by = 'votes' , ascending = False)"
   ]
  },
  {
   "cell_type": "code",
   "execution_count": 94,
   "id": "d805f179-4c5d-4377-8b3a-c80e89632de2",
   "metadata": {},
   "outputs": [],
   "source": [
    "# url  هم اضافه کردم که ببینم تعداد سایت هایی که هر رستوران دارد چقدر است"
   ]
  },
  {
   "cell_type": "code",
   "execution_count": 95,
   "id": "a5814722-6813-4535-b05e-df89300cff9c",
   "metadata": {},
   "outputs": [],
   "source": [
    "popular = df.groupby('name').agg({'votes':'sum' , 'approx_cost(for two people)':'mean' , 'rate':'mean' , 'url':'count'}).sort_values(by = 'votes' , ascending = False)"
   ]
  },
  {
   "cell_type": "code",
   "execution_count": 96,
   "id": "d16b87dd-f748-4132-a06b-4b6a26243598",
   "metadata": {},
   "outputs": [
    {
     "data": {
      "text/plain": [
       "Index(['votes', 'approx_cost(for two people)', 'rate', 'url'], dtype='object')"
      ]
     },
     "execution_count": 96,
     "metadata": {},
     "output_type": "execute_result"
    }
   ],
   "source": [
    "popular.columns"
   ]
  },
  {
   "cell_type": "code",
   "execution_count": 97,
   "id": "1152825a-b653-4505-a649-8b8544216bd7",
   "metadata": {},
   "outputs": [],
   "source": [
    "popular['realvotes'] = popular['votes']/popular['url'] # مجموع آرا هر رستوران را به تعداد سایت های آن رستوران تقسیم کردم"
   ]
  },
  {
   "cell_type": "code",
   "execution_count": 98,
   "id": "3c69e489-0ad9-476a-a246-46b1d97f12e3",
   "metadata": {},
   "outputs": [
    {
     "data": {
      "text/html": [
       "<div>\n",
       "<style scoped>\n",
       "    .dataframe tbody tr th:only-of-type {\n",
       "        vertical-align: middle;\n",
       "    }\n",
       "\n",
       "    .dataframe tbody tr th {\n",
       "        vertical-align: top;\n",
       "    }\n",
       "\n",
       "    .dataframe thead th {\n",
       "        text-align: right;\n",
       "    }\n",
       "</style>\n",
       "<table border=\"1\" class=\"dataframe\">\n",
       "  <thead>\n",
       "    <tr style=\"text-align: right;\">\n",
       "      <th></th>\n",
       "      <th>votes</th>\n",
       "      <th>approx_cost(for two people)</th>\n",
       "      <th>rate</th>\n",
       "      <th>url</th>\n",
       "      <th>realvotes</th>\n",
       "    </tr>\n",
       "    <tr>\n",
       "      <th>name</th>\n",
       "      <th></th>\n",
       "      <th></th>\n",
       "      <th></th>\n",
       "      <th></th>\n",
       "      <th></th>\n",
       "    </tr>\n",
       "  </thead>\n",
       "  <tbody>\n",
       "    <tr>\n",
       "      <th>Onesta</th>\n",
       "      <td>347520</td>\n",
       "      <td>600.000000</td>\n",
       "      <td>4.410588</td>\n",
       "      <td>85</td>\n",
       "      <td>4088.470588</td>\n",
       "    </tr>\n",
       "    <tr>\n",
       "      <th>Truffles</th>\n",
       "      <td>301059</td>\n",
       "      <td>900.000000</td>\n",
       "      <td>4.595349</td>\n",
       "      <td>43</td>\n",
       "      <td>7001.372093</td>\n",
       "    </tr>\n",
       "    <tr>\n",
       "      <th>Empire Restaurant</th>\n",
       "      <td>229808</td>\n",
       "      <td>685.211268</td>\n",
       "      <td>4.030435</td>\n",
       "      <td>71</td>\n",
       "      <td>3236.732394</td>\n",
       "    </tr>\n",
       "    <tr>\n",
       "      <th>Hammered</th>\n",
       "      <td>180602</td>\n",
       "      <td>1272.340426</td>\n",
       "      <td>4.625000</td>\n",
       "      <td>47</td>\n",
       "      <td>3842.595745</td>\n",
       "    </tr>\n",
       "    <tr>\n",
       "      <th>The Black Pearl</th>\n",
       "      <td>172122</td>\n",
       "      <td>1427.777778</td>\n",
       "      <td>4.727778</td>\n",
       "      <td>18</td>\n",
       "      <td>9562.333333</td>\n",
       "    </tr>\n",
       "    <tr>\n",
       "      <th>...</th>\n",
       "      <td>...</td>\n",
       "      <td>...</td>\n",
       "      <td>...</td>\n",
       "      <td>...</td>\n",
       "      <td>...</td>\n",
       "    </tr>\n",
       "    <tr>\n",
       "      <th>Mirchi- The Indian Street Food Kitchen</th>\n",
       "      <td>0</td>\n",
       "      <td>150.000000</td>\n",
       "      <td>NaN</td>\n",
       "      <td>5</td>\n",
       "      <td>0.000000</td>\n",
       "    </tr>\n",
       "    <tr>\n",
       "      <th>Mist N Creams</th>\n",
       "      <td>0</td>\n",
       "      <td>400.000000</td>\n",
       "      <td>NaN</td>\n",
       "      <td>5</td>\n",
       "      <td>0.000000</td>\n",
       "    </tr>\n",
       "    <tr>\n",
       "      <th>Mithai Ghar</th>\n",
       "      <td>0</td>\n",
       "      <td>200.000000</td>\n",
       "      <td>NaN</td>\n",
       "      <td>6</td>\n",
       "      <td>0.000000</td>\n",
       "    </tr>\n",
       "    <tr>\n",
       "      <th>Mitran Da Adda</th>\n",
       "      <td>0</td>\n",
       "      <td>350.000000</td>\n",
       "      <td>NaN</td>\n",
       "      <td>1</td>\n",
       "      <td>0.000000</td>\n",
       "    </tr>\n",
       "    <tr>\n",
       "      <th>sCoolMeal</th>\n",
       "      <td>0</td>\n",
       "      <td>300.000000</td>\n",
       "      <td>NaN</td>\n",
       "      <td>5</td>\n",
       "      <td>0.000000</td>\n",
       "    </tr>\n",
       "  </tbody>\n",
       "</table>\n",
       "<p>8792 rows × 5 columns</p>\n",
       "</div>"
      ],
      "text/plain": [
       "                                         votes  approx_cost(for two people)  \\\n",
       "name                                                                          \n",
       "Onesta                                  347520                   600.000000   \n",
       "Truffles                                301059                   900.000000   \n",
       "Empire Restaurant                       229808                   685.211268   \n",
       "Hammered                                180602                  1272.340426   \n",
       "The Black Pearl                         172122                  1427.777778   \n",
       "...                                        ...                          ...   \n",
       "Mirchi- The Indian Street Food Kitchen       0                   150.000000   \n",
       "Mist N Creams                                0                   400.000000   \n",
       "Mithai Ghar                                  0                   200.000000   \n",
       "Mitran Da Adda                               0                   350.000000   \n",
       "sCoolMeal                                    0                   300.000000   \n",
       "\n",
       "                                            rate  url    realvotes  \n",
       "name                                                                \n",
       "Onesta                                  4.410588   85  4088.470588  \n",
       "Truffles                                4.595349   43  7001.372093  \n",
       "Empire Restaurant                       4.030435   71  3236.732394  \n",
       "Hammered                                4.625000   47  3842.595745  \n",
       "The Black Pearl                         4.727778   18  9562.333333  \n",
       "...                                          ...  ...          ...  \n",
       "Mirchi- The Indian Street Food Kitchen       NaN    5     0.000000  \n",
       "Mist N Creams                                NaN    5     0.000000  \n",
       "Mithai Ghar                                  NaN    6     0.000000  \n",
       "Mitran Da Adda                               NaN    1     0.000000  \n",
       "sCoolMeal                                    NaN    5     0.000000  \n",
       "\n",
       "[8792 rows x 5 columns]"
      ]
     },
     "execution_count": 98,
     "metadata": {},
     "output_type": "execute_result"
    }
   ],
   "source": [
    "popular"
   ]
  },
  {
   "cell_type": "code",
   "execution_count": 99,
   "id": "7e64d703-76c7-4e7f-a5b2-37ef5ff774bf",
   "metadata": {},
   "outputs": [],
   "source": [
    "popular = popular.sort_values(by= 'approx_cost(for two people)' , ascending = True)"
   ]
  },
  {
   "cell_type": "code",
   "execution_count": 100,
   "id": "e31a6ce2-1288-4df7-b157-0df1b90b81a4",
   "metadata": {},
   "outputs": [
    {
     "data": {
      "text/html": [
       "<div>\n",
       "<style scoped>\n",
       "    .dataframe tbody tr th:only-of-type {\n",
       "        vertical-align: middle;\n",
       "    }\n",
       "\n",
       "    .dataframe tbody tr th {\n",
       "        vertical-align: top;\n",
       "    }\n",
       "\n",
       "    .dataframe thead th {\n",
       "        text-align: right;\n",
       "    }\n",
       "</style>\n",
       "<table border=\"1\" class=\"dataframe\">\n",
       "  <thead>\n",
       "    <tr style=\"text-align: right;\">\n",
       "      <th></th>\n",
       "      <th>votes</th>\n",
       "      <th>approx_cost(for two people)</th>\n",
       "      <th>rate</th>\n",
       "      <th>url</th>\n",
       "      <th>realvotes</th>\n",
       "    </tr>\n",
       "    <tr>\n",
       "      <th>name</th>\n",
       "      <th></th>\n",
       "      <th></th>\n",
       "      <th></th>\n",
       "      <th></th>\n",
       "      <th></th>\n",
       "    </tr>\n",
       "  </thead>\n",
       "  <tbody>\n",
       "    <tr>\n",
       "      <th>Srinidhi Sagar Deluxe</th>\n",
       "      <td>216</td>\n",
       "      <td>40.0</td>\n",
       "      <td>3.6</td>\n",
       "      <td>2</td>\n",
       "      <td>108.0</td>\n",
       "    </tr>\n",
       "    <tr>\n",
       "      <th>Bread &amp; Better</th>\n",
       "      <td>0</td>\n",
       "      <td>50.0</td>\n",
       "      <td>NaN</td>\n",
       "      <td>2</td>\n",
       "      <td>0.0</td>\n",
       "    </tr>\n",
       "    <tr>\n",
       "      <th>Funky Food</th>\n",
       "      <td>0</td>\n",
       "      <td>60.0</td>\n",
       "      <td>NaN</td>\n",
       "      <td>1</td>\n",
       "      <td>0.0</td>\n",
       "    </tr>\n",
       "    <tr>\n",
       "      <th>Namaste</th>\n",
       "      <td>0</td>\n",
       "      <td>70.0</td>\n",
       "      <td>NaN</td>\n",
       "      <td>2</td>\n",
       "      <td>0.0</td>\n",
       "    </tr>\n",
       "    <tr>\n",
       "      <th>Nellore Dosa Camp</th>\n",
       "      <td>5</td>\n",
       "      <td>70.0</td>\n",
       "      <td>3.3</td>\n",
       "      <td>1</td>\n",
       "      <td>5.0</td>\n",
       "    </tr>\n",
       "    <tr>\n",
       "      <th>...</th>\n",
       "      <td>...</td>\n",
       "      <td>...</td>\n",
       "      <td>...</td>\n",
       "      <td>...</td>\n",
       "      <td>...</td>\n",
       "    </tr>\n",
       "    <tr>\n",
       "      <th>Southern Stop</th>\n",
       "      <td>0</td>\n",
       "      <td>NaN</td>\n",
       "      <td>NaN</td>\n",
       "      <td>4</td>\n",
       "      <td>0.0</td>\n",
       "    </tr>\n",
       "    <tr>\n",
       "      <th>Rufi's Kati Roll</th>\n",
       "      <td>0</td>\n",
       "      <td>NaN</td>\n",
       "      <td>NaN</td>\n",
       "      <td>3</td>\n",
       "      <td>0.0</td>\n",
       "    </tr>\n",
       "    <tr>\n",
       "      <th>Naati house</th>\n",
       "      <td>0</td>\n",
       "      <td>NaN</td>\n",
       "      <td>NaN</td>\n",
       "      <td>2</td>\n",
       "      <td>0.0</td>\n",
       "    </tr>\n",
       "    <tr>\n",
       "      <th>Mayas kitchen</th>\n",
       "      <td>0</td>\n",
       "      <td>NaN</td>\n",
       "      <td>NaN</td>\n",
       "      <td>4</td>\n",
       "      <td>0.0</td>\n",
       "    </tr>\n",
       "    <tr>\n",
       "      <th>Mohabbat Desi Restaurant</th>\n",
       "      <td>0</td>\n",
       "      <td>NaN</td>\n",
       "      <td>NaN</td>\n",
       "      <td>1</td>\n",
       "      <td>0.0</td>\n",
       "    </tr>\n",
       "  </tbody>\n",
       "</table>\n",
       "<p>8792 rows × 5 columns</p>\n",
       "</div>"
      ],
      "text/plain": [
       "                          votes  approx_cost(for two people)  rate  url  \\\n",
       "name                                                                      \n",
       "Srinidhi Sagar Deluxe       216                         40.0   3.6    2   \n",
       "Bread & Better                0                         50.0   NaN    2   \n",
       "Funky Food                    0                         60.0   NaN    1   \n",
       "Namaste                       0                         70.0   NaN    2   \n",
       "Nellore Dosa Camp             5                         70.0   3.3    1   \n",
       "...                         ...                          ...   ...  ...   \n",
       "Southern Stop                 0                          NaN   NaN    4   \n",
       "Rufi's Kati Roll              0                          NaN   NaN    3   \n",
       "Naati house                   0                          NaN   NaN    2   \n",
       "Mayas kitchen                 0                          NaN   NaN    4   \n",
       "Mohabbat Desi Restaurant      0                          NaN   NaN    1   \n",
       "\n",
       "                          realvotes  \n",
       "name                                 \n",
       "Srinidhi Sagar Deluxe         108.0  \n",
       "Bread & Better                  0.0  \n",
       "Funky Food                      0.0  \n",
       "Namaste                         0.0  \n",
       "Nellore Dosa Camp               5.0  \n",
       "...                             ...  \n",
       "Southern Stop                   0.0  \n",
       "Rufi's Kati Roll                0.0  \n",
       "Naati house                     0.0  \n",
       "Mayas kitchen                   0.0  \n",
       "Mohabbat Desi Restaurant        0.0  \n",
       "\n",
       "[8792 rows x 5 columns]"
      ]
     },
     "execution_count": 100,
     "metadata": {},
     "output_type": "execute_result"
    }
   ],
   "source": [
    "popular "
   ]
  },
  {
   "cell_type": "code",
   "execution_count": 101,
   "id": "bc4796e5-85a8-4342-bcf1-7e0e731c229e",
   "metadata": {},
   "outputs": [
    {
     "data": {
      "text/plain": [
       "' از اینجا به بعد یک سیستم پیشنهادگر ایجاد می کنم با استفاده از چند فیلتر'"
      ]
     },
     "execution_count": 101,
     "metadata": {},
     "output_type": "execute_result"
    }
   ],
   "source": [
    "\"\"\" از اینجا به بعد یک سیستم پیشنهادگر ایجاد می کنم با استفاده از چند فیلتر\"\"\""
   ]
  },
  {
   "cell_type": "code",
   "execution_count": 102,
   "id": "a3240861-3122-42cc-9413-80700aaad487",
   "metadata": {},
   "outputs": [],
   "source": [
    "# هدف از ایجاد یک توصیه گر اینکه با چند متغیر بتوانم رستوران مناسبی پیدا کنم که در عین قیمت مناسب امتیاز خوبی هم داشته باشد"
   ]
  },
  {
   "cell_type": "code",
   "execution_count": 103,
   "id": "c308d586-3dd1-4511-b562-fafc30e20c4c",
   "metadata": {},
   "outputs": [],
   "source": [
    "filter = (popular['rate']>4) & (popular['approx_cost(for two people)']<400) & (popular['realvotes']>500) #سه شرط برای پیدا کردن رستورانی با شرایط مناسب تر"
   ]
  },
  {
   "cell_type": "code",
   "execution_count": 104,
   "id": "6c3a5ae6-5164-43e5-bbb9-8dc3e500680a",
   "metadata": {},
   "outputs": [
    {
     "data": {
      "text/html": [
       "<div>\n",
       "<style scoped>\n",
       "    .dataframe tbody tr th:only-of-type {\n",
       "        vertical-align: middle;\n",
       "    }\n",
       "\n",
       "    .dataframe tbody tr th {\n",
       "        vertical-align: top;\n",
       "    }\n",
       "\n",
       "    .dataframe thead th {\n",
       "        text-align: right;\n",
       "    }\n",
       "</style>\n",
       "<table border=\"1\" class=\"dataframe\">\n",
       "  <thead>\n",
       "    <tr style=\"text-align: right;\">\n",
       "      <th></th>\n",
       "      <th>votes</th>\n",
       "      <th>approx_cost(for two people)</th>\n",
       "      <th>rate</th>\n",
       "      <th>url</th>\n",
       "      <th>realvotes</th>\n",
       "    </tr>\n",
       "    <tr>\n",
       "      <th>name</th>\n",
       "      <th></th>\n",
       "      <th></th>\n",
       "      <th></th>\n",
       "      <th></th>\n",
       "      <th></th>\n",
       "    </tr>\n",
       "  </thead>\n",
       "  <tbody>\n",
       "    <tr>\n",
       "      <th>Taaza Thindi</th>\n",
       "      <td>651</td>\n",
       "      <td>100.0</td>\n",
       "      <td>4.700000</td>\n",
       "      <td>1</td>\n",
       "      <td>651.000000</td>\n",
       "    </tr>\n",
       "    <tr>\n",
       "      <th>CTR</th>\n",
       "      <td>17658</td>\n",
       "      <td>150.0</td>\n",
       "      <td>4.750000</td>\n",
       "      <td>4</td>\n",
       "      <td>4414.500000</td>\n",
       "    </tr>\n",
       "    <tr>\n",
       "      <th>V B Bakery</th>\n",
       "      <td>502</td>\n",
       "      <td>150.0</td>\n",
       "      <td>4.200000</td>\n",
       "      <td>1</td>\n",
       "      <td>502.000000</td>\n",
       "    </tr>\n",
       "    <tr>\n",
       "      <th>Veena Stores</th>\n",
       "      <td>4823</td>\n",
       "      <td>150.0</td>\n",
       "      <td>4.500000</td>\n",
       "      <td>2</td>\n",
       "      <td>2411.500000</td>\n",
       "    </tr>\n",
       "    <tr>\n",
       "      <th>Kaafi Desi</th>\n",
       "      <td>2086</td>\n",
       "      <td>150.0</td>\n",
       "      <td>4.050000</td>\n",
       "      <td>4</td>\n",
       "      <td>521.500000</td>\n",
       "    </tr>\n",
       "    <tr>\n",
       "      <th>Sri Guru Kottureshwara Davangere Benne Dosa</th>\n",
       "      <td>3358</td>\n",
       "      <td>150.0</td>\n",
       "      <td>4.100000</td>\n",
       "      <td>6</td>\n",
       "      <td>559.666667</td>\n",
       "    </tr>\n",
       "    <tr>\n",
       "      <th>Vidyarthi Bhavan</th>\n",
       "      <td>8920</td>\n",
       "      <td>150.0</td>\n",
       "      <td>4.400000</td>\n",
       "      <td>2</td>\n",
       "      <td>4460.000000</td>\n",
       "    </tr>\n",
       "    <tr>\n",
       "      <th>Brahmin's Coffee Bar</th>\n",
       "      <td>2961</td>\n",
       "      <td>175.0</td>\n",
       "      <td>4.350000</td>\n",
       "      <td>2</td>\n",
       "      <td>1480.500000</td>\n",
       "    </tr>\n",
       "    <tr>\n",
       "      <th>New Krishna Bhavan</th>\n",
       "      <td>1200</td>\n",
       "      <td>200.0</td>\n",
       "      <td>4.200000</td>\n",
       "      <td>2</td>\n",
       "      <td>600.000000</td>\n",
       "    </tr>\n",
       "    <tr>\n",
       "      <th>O.G. Variar &amp; Sons</th>\n",
       "      <td>2317</td>\n",
       "      <td>200.0</td>\n",
       "      <td>4.800000</td>\n",
       "      <td>2</td>\n",
       "      <td>1158.500000</td>\n",
       "    </tr>\n",
       "    <tr>\n",
       "      <th>Puchkas</th>\n",
       "      <td>2716</td>\n",
       "      <td>200.0</td>\n",
       "      <td>4.100000</td>\n",
       "      <td>4</td>\n",
       "      <td>679.000000</td>\n",
       "    </tr>\n",
       "    <tr>\n",
       "      <th>Sree Krishna Kafe</th>\n",
       "      <td>10343</td>\n",
       "      <td>200.0</td>\n",
       "      <td>4.041176</td>\n",
       "      <td>17</td>\n",
       "      <td>608.411765</td>\n",
       "    </tr>\n",
       "    <tr>\n",
       "      <th>Ayodhya Upachar</th>\n",
       "      <td>1468</td>\n",
       "      <td>200.0</td>\n",
       "      <td>4.300000</td>\n",
       "      <td>2</td>\n",
       "      <td>734.000000</td>\n",
       "    </tr>\n",
       "    <tr>\n",
       "      <th>Podi Idly</th>\n",
       "      <td>5892</td>\n",
       "      <td>250.0</td>\n",
       "      <td>4.300000</td>\n",
       "      <td>9</td>\n",
       "      <td>654.666667</td>\n",
       "    </tr>\n",
       "    <tr>\n",
       "      <th>Mavalli Tiffin Room (MTR)</th>\n",
       "      <td>9076</td>\n",
       "      <td>295.0</td>\n",
       "      <td>4.170000</td>\n",
       "      <td>10</td>\n",
       "      <td>907.600000</td>\n",
       "    </tr>\n",
       "    <tr>\n",
       "      <th>Manjit Da Dhaba</th>\n",
       "      <td>5487</td>\n",
       "      <td>300.0</td>\n",
       "      <td>4.300000</td>\n",
       "      <td>7</td>\n",
       "      <td>783.857143</td>\n",
       "    </tr>\n",
       "    <tr>\n",
       "      <th>Swadista Aahar</th>\n",
       "      <td>7067</td>\n",
       "      <td>300.0</td>\n",
       "      <td>4.122222</td>\n",
       "      <td>9</td>\n",
       "      <td>785.222222</td>\n",
       "    </tr>\n",
       "    <tr>\n",
       "      <th>Al Amanah Cafe</th>\n",
       "      <td>7181</td>\n",
       "      <td>300.0</td>\n",
       "      <td>4.400000</td>\n",
       "      <td>5</td>\n",
       "      <td>1436.200000</td>\n",
       "    </tr>\n",
       "    <tr>\n",
       "      <th>MTR 1924</th>\n",
       "      <td>3497</td>\n",
       "      <td>300.0</td>\n",
       "      <td>4.200000</td>\n",
       "      <td>5</td>\n",
       "      <td>699.400000</td>\n",
       "    </tr>\n",
       "    <tr>\n",
       "      <th>Cafe Grill</th>\n",
       "      <td>2003</td>\n",
       "      <td>300.0</td>\n",
       "      <td>4.100000</td>\n",
       "      <td>4</td>\n",
       "      <td>500.750000</td>\n",
       "    </tr>\n",
       "    <tr>\n",
       "      <th>Shree Muthahalli Veg</th>\n",
       "      <td>4221</td>\n",
       "      <td>300.0</td>\n",
       "      <td>4.140000</td>\n",
       "      <td>5</td>\n",
       "      <td>844.200000</td>\n",
       "    </tr>\n",
       "    <tr>\n",
       "      <th>The Biryani Cafe</th>\n",
       "      <td>1040</td>\n",
       "      <td>300.0</td>\n",
       "      <td>4.100000</td>\n",
       "      <td>2</td>\n",
       "      <td>520.000000</td>\n",
       "    </tr>\n",
       "    <tr>\n",
       "      <th>Ranganna Military Hotel</th>\n",
       "      <td>2219</td>\n",
       "      <td>350.0</td>\n",
       "      <td>4.200000</td>\n",
       "      <td>3</td>\n",
       "      <td>739.666667</td>\n",
       "    </tr>\n",
       "    <tr>\n",
       "      <th>Motis Kitchen</th>\n",
       "      <td>2228</td>\n",
       "      <td>350.0</td>\n",
       "      <td>4.100000</td>\n",
       "      <td>4</td>\n",
       "      <td>557.000000</td>\n",
       "    </tr>\n",
       "    <tr>\n",
       "      <th>Khawa Karpo</th>\n",
       "      <td>9939</td>\n",
       "      <td>350.0</td>\n",
       "      <td>4.300000</td>\n",
       "      <td>10</td>\n",
       "      <td>993.900000</td>\n",
       "    </tr>\n",
       "  </tbody>\n",
       "</table>\n",
       "</div>"
      ],
      "text/plain": [
       "                                             votes  \\\n",
       "name                                                 \n",
       "Taaza Thindi                                   651   \n",
       "CTR                                          17658   \n",
       "V B Bakery                                     502   \n",
       "Veena Stores                                  4823   \n",
       "Kaafi Desi                                    2086   \n",
       "Sri Guru Kottureshwara Davangere Benne Dosa   3358   \n",
       "Vidyarthi Bhavan                              8920   \n",
       "Brahmin's Coffee Bar                          2961   \n",
       "New Krishna Bhavan                            1200   \n",
       "O.G. Variar & Sons                            2317   \n",
       "Puchkas                                       2716   \n",
       "Sree Krishna Kafe                            10343   \n",
       "Ayodhya Upachar                               1468   \n",
       "Podi Idly                                     5892   \n",
       "Mavalli Tiffin Room (MTR)                     9076   \n",
       "Manjit Da Dhaba                               5487   \n",
       "Swadista Aahar                                7067   \n",
       "Al Amanah Cafe                                7181   \n",
       "MTR 1924                                      3497   \n",
       "Cafe Grill                                    2003   \n",
       "Shree Muthahalli Veg                          4221   \n",
       "The Biryani Cafe                              1040   \n",
       "Ranganna Military Hotel                       2219   \n",
       "Motis Kitchen                                 2228   \n",
       "Khawa Karpo                                   9939   \n",
       "\n",
       "                                             approx_cost(for two people)  \\\n",
       "name                                                                       \n",
       "Taaza Thindi                                                       100.0   \n",
       "CTR                                                                150.0   \n",
       "V B Bakery                                                         150.0   \n",
       "Veena Stores                                                       150.0   \n",
       "Kaafi Desi                                                         150.0   \n",
       "Sri Guru Kottureshwara Davangere Benne Dosa                        150.0   \n",
       "Vidyarthi Bhavan                                                   150.0   \n",
       "Brahmin's Coffee Bar                                               175.0   \n",
       "New Krishna Bhavan                                                 200.0   \n",
       "O.G. Variar & Sons                                                 200.0   \n",
       "Puchkas                                                            200.0   \n",
       "Sree Krishna Kafe                                                  200.0   \n",
       "Ayodhya Upachar                                                    200.0   \n",
       "Podi Idly                                                          250.0   \n",
       "Mavalli Tiffin Room (MTR)                                          295.0   \n",
       "Manjit Da Dhaba                                                    300.0   \n",
       "Swadista Aahar                                                     300.0   \n",
       "Al Amanah Cafe                                                     300.0   \n",
       "MTR 1924                                                           300.0   \n",
       "Cafe Grill                                                         300.0   \n",
       "Shree Muthahalli Veg                                               300.0   \n",
       "The Biryani Cafe                                                   300.0   \n",
       "Ranganna Military Hotel                                            350.0   \n",
       "Motis Kitchen                                                      350.0   \n",
       "Khawa Karpo                                                        350.0   \n",
       "\n",
       "                                                 rate  url    realvotes  \n",
       "name                                                                     \n",
       "Taaza Thindi                                 4.700000    1   651.000000  \n",
       "CTR                                          4.750000    4  4414.500000  \n",
       "V B Bakery                                   4.200000    1   502.000000  \n",
       "Veena Stores                                 4.500000    2  2411.500000  \n",
       "Kaafi Desi                                   4.050000    4   521.500000  \n",
       "Sri Guru Kottureshwara Davangere Benne Dosa  4.100000    6   559.666667  \n",
       "Vidyarthi Bhavan                             4.400000    2  4460.000000  \n",
       "Brahmin's Coffee Bar                         4.350000    2  1480.500000  \n",
       "New Krishna Bhavan                           4.200000    2   600.000000  \n",
       "O.G. Variar & Sons                           4.800000    2  1158.500000  \n",
       "Puchkas                                      4.100000    4   679.000000  \n",
       "Sree Krishna Kafe                            4.041176   17   608.411765  \n",
       "Ayodhya Upachar                              4.300000    2   734.000000  \n",
       "Podi Idly                                    4.300000    9   654.666667  \n",
       "Mavalli Tiffin Room (MTR)                    4.170000   10   907.600000  \n",
       "Manjit Da Dhaba                              4.300000    7   783.857143  \n",
       "Swadista Aahar                               4.122222    9   785.222222  \n",
       "Al Amanah Cafe                               4.400000    5  1436.200000  \n",
       "MTR 1924                                     4.200000    5   699.400000  \n",
       "Cafe Grill                                   4.100000    4   500.750000  \n",
       "Shree Muthahalli Veg                         4.140000    5   844.200000  \n",
       "The Biryani Cafe                             4.100000    2   520.000000  \n",
       "Ranganna Military Hotel                      4.200000    3   739.666667  \n",
       "Motis Kitchen                                4.100000    4   557.000000  \n",
       "Khawa Karpo                                  4.300000   10   993.900000  "
      ]
     },
     "execution_count": 104,
     "metadata": {},
     "output_type": "execute_result"
    }
   ],
   "source": [
    "popular[filter] "
   ]
  },
  {
   "cell_type": "code",
   "execution_count": 105,
   "id": "b32c6c1f-b5c5-48c2-ba82-96d18f9c0d74",
   "metadata": {},
   "outputs": [],
   "source": [
    "bestRest = popular[filter] #ذخیره فیلتر"
   ]
  },
  {
   "cell_type": "code",
   "execution_count": 106,
   "id": "8c025671-84b3-4ef5-902e-8645aafeca2c",
   "metadata": {},
   "outputs": [
    {
     "data": {
      "text/plain": [
       "(25, 5)"
      ]
     },
     "execution_count": 106,
     "metadata": {},
     "output_type": "execute_result"
    }
   ],
   "source": [
    "bestRest.shape #مشاهده تعداد کل رستوران هایی که با فیلتر پیدا کردم"
   ]
  },
  {
   "cell_type": "code",
   "execution_count": 107,
   "id": "49263b87-4af5-4fff-a7ee-da02c14e78a7",
   "metadata": {},
   "outputs": [],
   "source": [
    "# تا اینجا فیلتر را تعریف کردم اما از اینجا به بعد یک متد تعریف می کنم که بر اساس ورودی پیشنهاد دهد"
   ]
  },
  {
   "cell_type": "code",
   "execution_count": 108,
   "id": "46b296b7-b1b5-4f38-b01c-550bd667f4d6",
   "metadata": {},
   "outputs": [],
   "source": [
    "def return_best_rest (vote,cost,rate): #سه متغیر تعریف کردم که ورودی بگیرد\n",
    "    filter =(popular['rate']>rate) & (popular['approx_cost(for two people)']<cost) & (popular['realvotes']>vote) \n",
    "    bestOfferRest = popular[filter] #ذخیره شرط\n",
    "    return bestOfferRest #برگرداندن متد"
   ]
  },
  {
   "cell_type": "code",
   "execution_count": 109,
   "id": "102ed378-f2ed-4e41-8d13-38ba354989d2",
   "metadata": {},
   "outputs": [
    {
     "data": {
      "text/html": [
       "<div>\n",
       "<style scoped>\n",
       "    .dataframe tbody tr th:only-of-type {\n",
       "        vertical-align: middle;\n",
       "    }\n",
       "\n",
       "    .dataframe tbody tr th {\n",
       "        vertical-align: top;\n",
       "    }\n",
       "\n",
       "    .dataframe thead th {\n",
       "        text-align: right;\n",
       "    }\n",
       "</style>\n",
       "<table border=\"1\" class=\"dataframe\">\n",
       "  <thead>\n",
       "    <tr style=\"text-align: right;\">\n",
       "      <th></th>\n",
       "      <th>votes</th>\n",
       "      <th>approx_cost(for two people)</th>\n",
       "      <th>rate</th>\n",
       "      <th>url</th>\n",
       "      <th>realvotes</th>\n",
       "    </tr>\n",
       "    <tr>\n",
       "      <th>name</th>\n",
       "      <th></th>\n",
       "      <th></th>\n",
       "      <th></th>\n",
       "      <th></th>\n",
       "      <th></th>\n",
       "    </tr>\n",
       "  </thead>\n",
       "  <tbody>\n",
       "    <tr>\n",
       "      <th>CTR</th>\n",
       "      <td>17658</td>\n",
       "      <td>150.0</td>\n",
       "      <td>4.75</td>\n",
       "      <td>4</td>\n",
       "      <td>4414.5</td>\n",
       "    </tr>\n",
       "  </tbody>\n",
       "</table>\n",
       "</div>"
      ],
      "text/plain": [
       "      votes  approx_cost(for two people)  rate  url  realvotes\n",
       "name                                                          \n",
       "CTR   17658                        150.0  4.75    4     4414.5"
      ]
     },
     "execution_count": 109,
     "metadata": {},
     "output_type": "execute_result"
    }
   ],
   "source": [
    "return_best_rest(2000,200,4.5) # خواستم ووت بیشتر از 2000 باشد و کاست کمتر از 200 باشد و ریت بیشتر از 4.5 باشد که با این ورودی به من پیشنهاد دهد"
   ]
  },
  {
   "cell_type": "code",
   "execution_count": 110,
   "id": "67153707-980a-4006-b15f-9e8f12b859dc",
   "metadata": {},
   "outputs": [
    {
     "data": {
      "text/plain": [
       "' در ادامه غنی سازی داده های جغرافیایی با پانداس و کتابخانه جئوپای '"
      ]
     },
     "execution_count": 110,
     "metadata": {},
     "output_type": "execute_result"
    }
   ],
   "source": [
    "\"\"\" در ادامه غنی سازی داده های جغرافیایی با پانداس و کتابخانه جئوپای \"\"\""
   ]
  },
  {
   "cell_type": "code",
   "execution_count": 111,
   "id": "1c4c4c7d-4383-4d88-938d-1cb7fc46f0e5",
   "metadata": {},
   "outputs": [
    {
     "data": {
      "text/html": [
       "<div>\n",
       "<style scoped>\n",
       "    .dataframe tbody tr th:only-of-type {\n",
       "        vertical-align: middle;\n",
       "    }\n",
       "\n",
       "    .dataframe tbody tr th {\n",
       "        vertical-align: top;\n",
       "    }\n",
       "\n",
       "    .dataframe thead th {\n",
       "        text-align: right;\n",
       "    }\n",
       "</style>\n",
       "<table border=\"1\" class=\"dataframe\">\n",
       "  <thead>\n",
       "    <tr style=\"text-align: right;\">\n",
       "      <th></th>\n",
       "      <th>index</th>\n",
       "      <th>url</th>\n",
       "      <th>address</th>\n",
       "      <th>name</th>\n",
       "      <th>online_order</th>\n",
       "      <th>book_table</th>\n",
       "      <th>rate</th>\n",
       "      <th>votes</th>\n",
       "      <th>phone</th>\n",
       "      <th>location</th>\n",
       "      <th>rest_type</th>\n",
       "      <th>cuisines</th>\n",
       "      <th>approx_cost(for two people)</th>\n",
       "      <th>reviews_list</th>\n",
       "      <th>menu_item</th>\n",
       "      <th>listed_in(type)</th>\n",
       "      <th>listed_in(city)</th>\n",
       "      <th>rest_type2</th>\n",
       "    </tr>\n",
       "  </thead>\n",
       "  <tbody>\n",
       "    <tr>\n",
       "      <th>0</th>\n",
       "      <td>0</td>\n",
       "      <td>https://www.zomato.com/bangalore/jalsa-banasha...</td>\n",
       "      <td>942, 21st Main Road, 2nd Stage, Banashankari, ...</td>\n",
       "      <td>Jalsa</td>\n",
       "      <td>Yes</td>\n",
       "      <td>Yes</td>\n",
       "      <td>4.1</td>\n",
       "      <td>775</td>\n",
       "      <td>080 42297555\\r\\n+91 9743772233</td>\n",
       "      <td>Banashankari</td>\n",
       "      <td>Casual Dining</td>\n",
       "      <td>North Indian, Mughlai, Chinese</td>\n",
       "      <td>800.0</td>\n",
       "      <td>[('Rated 4.0', 'RATED\\n  A beautiful place to ...</td>\n",
       "      <td>[]</td>\n",
       "      <td>Buffet</td>\n",
       "      <td>Banashankari</td>\n",
       "      <td>Casual Dining</td>\n",
       "    </tr>\n",
       "    <tr>\n",
       "      <th>1</th>\n",
       "      <td>1</td>\n",
       "      <td>https://www.zomato.com/bangalore/spice-elephan...</td>\n",
       "      <td>2nd Floor, 80 Feet Road, Near Big Bazaar, 6th ...</td>\n",
       "      <td>Spice Elephant</td>\n",
       "      <td>Yes</td>\n",
       "      <td>No</td>\n",
       "      <td>4.1</td>\n",
       "      <td>787</td>\n",
       "      <td>080 41714161</td>\n",
       "      <td>Banashankari</td>\n",
       "      <td>Casual Dining</td>\n",
       "      <td>Chinese, North Indian, Thai</td>\n",
       "      <td>800.0</td>\n",
       "      <td>[('Rated 4.0', 'RATED\\n  Had been here for din...</td>\n",
       "      <td>[]</td>\n",
       "      <td>Buffet</td>\n",
       "      <td>Banashankari</td>\n",
       "      <td>Casual Dining</td>\n",
       "    </tr>\n",
       "    <tr>\n",
       "      <th>2</th>\n",
       "      <td>2</td>\n",
       "      <td>https://www.zomato.com/SanchurroBangalore?cont...</td>\n",
       "      <td>1112, Next to KIMS Medical College, 17th Cross...</td>\n",
       "      <td>San Churro Cafe</td>\n",
       "      <td>Yes</td>\n",
       "      <td>No</td>\n",
       "      <td>3.8</td>\n",
       "      <td>918</td>\n",
       "      <td>+91 9663487993</td>\n",
       "      <td>Banashankari</td>\n",
       "      <td>Cafe, Casual Dining</td>\n",
       "      <td>Cafe, Mexican, Italian</td>\n",
       "      <td>800.0</td>\n",
       "      <td>[('Rated 3.0', \"RATED\\n  Ambience is not that ...</td>\n",
       "      <td>[]</td>\n",
       "      <td>Buffet</td>\n",
       "      <td>Banashankari</td>\n",
       "      <td>others</td>\n",
       "    </tr>\n",
       "    <tr>\n",
       "      <th>3</th>\n",
       "      <td>3</td>\n",
       "      <td>https://www.zomato.com/bangalore/addhuri-udupi...</td>\n",
       "      <td>1st Floor, Annakuteera, 3rd Stage, Banashankar...</td>\n",
       "      <td>Addhuri Udupi Bhojana</td>\n",
       "      <td>No</td>\n",
       "      <td>No</td>\n",
       "      <td>3.7</td>\n",
       "      <td>88</td>\n",
       "      <td>+91 9620009302</td>\n",
       "      <td>Banashankari</td>\n",
       "      <td>Quick Bites</td>\n",
       "      <td>South Indian, North Indian</td>\n",
       "      <td>300.0</td>\n",
       "      <td>[('Rated 4.0', \"RATED\\n  Great food and proper...</td>\n",
       "      <td>[]</td>\n",
       "      <td>Buffet</td>\n",
       "      <td>Banashankari</td>\n",
       "      <td>Quick Bites</td>\n",
       "    </tr>\n",
       "    <tr>\n",
       "      <th>4</th>\n",
       "      <td>4</td>\n",
       "      <td>https://www.zomato.com/bangalore/grand-village...</td>\n",
       "      <td>10, 3rd Floor, Lakshmi Associates, Gandhi Baza...</td>\n",
       "      <td>Grand Village</td>\n",
       "      <td>No</td>\n",
       "      <td>No</td>\n",
       "      <td>3.8</td>\n",
       "      <td>166</td>\n",
       "      <td>+91 8026612447\\r\\n+91 9901210005</td>\n",
       "      <td>Basavanagudi</td>\n",
       "      <td>Casual Dining</td>\n",
       "      <td>North Indian, Rajasthani</td>\n",
       "      <td>600.0</td>\n",
       "      <td>[('Rated 4.0', 'RATED\\n  Very good restaurant ...</td>\n",
       "      <td>[]</td>\n",
       "      <td>Buffet</td>\n",
       "      <td>Banashankari</td>\n",
       "      <td>Casual Dining</td>\n",
       "    </tr>\n",
       "    <tr>\n",
       "      <th>...</th>\n",
       "      <td>...</td>\n",
       "      <td>...</td>\n",
       "      <td>...</td>\n",
       "      <td>...</td>\n",
       "      <td>...</td>\n",
       "      <td>...</td>\n",
       "      <td>...</td>\n",
       "      <td>...</td>\n",
       "      <td>...</td>\n",
       "      <td>...</td>\n",
       "      <td>...</td>\n",
       "      <td>...</td>\n",
       "      <td>...</td>\n",
       "      <td>...</td>\n",
       "      <td>...</td>\n",
       "      <td>...</td>\n",
       "      <td>...</td>\n",
       "      <td>...</td>\n",
       "    </tr>\n",
       "    <tr>\n",
       "      <th>51712</th>\n",
       "      <td>51712</td>\n",
       "      <td>https://www.zomato.com/bangalore/best-brews-fo...</td>\n",
       "      <td>Four Points by Sheraton Bengaluru, 43/3, White...</td>\n",
       "      <td>Best Brews - Four Points by Sheraton Bengaluru...</td>\n",
       "      <td>No</td>\n",
       "      <td>No</td>\n",
       "      <td>3.6</td>\n",
       "      <td>27</td>\n",
       "      <td>080 40301477</td>\n",
       "      <td>Whitefield</td>\n",
       "      <td>Bar</td>\n",
       "      <td>Continental</td>\n",
       "      <td>1500.0</td>\n",
       "      <td>[('Rated 5.0', \"RATED\\n  Food and service are ...</td>\n",
       "      <td>[]</td>\n",
       "      <td>Pubs and bars</td>\n",
       "      <td>Whitefield</td>\n",
       "      <td>others</td>\n",
       "    </tr>\n",
       "    <tr>\n",
       "      <th>51713</th>\n",
       "      <td>51713</td>\n",
       "      <td>https://www.zomato.com/bangalore/vinod-bar-and...</td>\n",
       "      <td>Number 10, Garudachar Palya, Mahadevapura, Whi...</td>\n",
       "      <td>Vinod Bar And Restaurant</td>\n",
       "      <td>No</td>\n",
       "      <td>No</td>\n",
       "      <td>NaN</td>\n",
       "      <td>0</td>\n",
       "      <td>+91 8197675843</td>\n",
       "      <td>Whitefield</td>\n",
       "      <td>Bar</td>\n",
       "      <td>Finger Food</td>\n",
       "      <td>600.0</td>\n",
       "      <td>[]</td>\n",
       "      <td>[]</td>\n",
       "      <td>Pubs and bars</td>\n",
       "      <td>Whitefield</td>\n",
       "      <td>others</td>\n",
       "    </tr>\n",
       "    <tr>\n",
       "      <th>51714</th>\n",
       "      <td>51714</td>\n",
       "      <td>https://www.zomato.com/bangalore/plunge-sherat...</td>\n",
       "      <td>Sheraton Grand Bengaluru Whitefield Hotel &amp; Co...</td>\n",
       "      <td>Plunge - Sheraton Grand Bengaluru Whitefield H...</td>\n",
       "      <td>No</td>\n",
       "      <td>No</td>\n",
       "      <td>NaN</td>\n",
       "      <td>0</td>\n",
       "      <td>None</td>\n",
       "      <td>Whitefield</td>\n",
       "      <td>Bar</td>\n",
       "      <td>Finger Food</td>\n",
       "      <td>2000.0</td>\n",
       "      <td>[]</td>\n",
       "      <td>[]</td>\n",
       "      <td>Pubs and bars</td>\n",
       "      <td>Whitefield</td>\n",
       "      <td>others</td>\n",
       "    </tr>\n",
       "    <tr>\n",
       "      <th>51715</th>\n",
       "      <td>51715</td>\n",
       "      <td>https://www.zomato.com/bangalore/chime-sherato...</td>\n",
       "      <td>Sheraton Grand Bengaluru Whitefield Hotel &amp; Co...</td>\n",
       "      <td>Chime - Sheraton Grand Bengaluru Whitefield Ho...</td>\n",
       "      <td>No</td>\n",
       "      <td>Yes</td>\n",
       "      <td>4.3</td>\n",
       "      <td>236</td>\n",
       "      <td>080 49652769</td>\n",
       "      <td>ITPL Main Road, Whitefield</td>\n",
       "      <td>Bar</td>\n",
       "      <td>Finger Food</td>\n",
       "      <td>2500.0</td>\n",
       "      <td>[('Rated 4.0', 'RATED\\n  Nice and friendly pla...</td>\n",
       "      <td>[]</td>\n",
       "      <td>Pubs and bars</td>\n",
       "      <td>Whitefield</td>\n",
       "      <td>others</td>\n",
       "    </tr>\n",
       "    <tr>\n",
       "      <th>51716</th>\n",
       "      <td>51716</td>\n",
       "      <td>https://www.zomato.com/bangalore/the-nest-the-...</td>\n",
       "      <td>ITPL Main Road, KIADB Export Promotion Industr...</td>\n",
       "      <td>The Nest - The Den Bengaluru</td>\n",
       "      <td>No</td>\n",
       "      <td>No</td>\n",
       "      <td>3.4</td>\n",
       "      <td>13</td>\n",
       "      <td>+91 8071117272</td>\n",
       "      <td>ITPL Main Road, Whitefield</td>\n",
       "      <td>Bar, Casual Dining</td>\n",
       "      <td>Finger Food, North Indian, Continental</td>\n",
       "      <td>1500.0</td>\n",
       "      <td>[('Rated 5.0', 'RATED\\n  Great ambience , look...</td>\n",
       "      <td>[]</td>\n",
       "      <td>Pubs and bars</td>\n",
       "      <td>Whitefield</td>\n",
       "      <td>others</td>\n",
       "    </tr>\n",
       "  </tbody>\n",
       "</table>\n",
       "<p>51717 rows × 18 columns</p>\n",
       "</div>"
      ],
      "text/plain": [
       "       index                                                url  \\\n",
       "0          0  https://www.zomato.com/bangalore/jalsa-banasha...   \n",
       "1          1  https://www.zomato.com/bangalore/spice-elephan...   \n",
       "2          2  https://www.zomato.com/SanchurroBangalore?cont...   \n",
       "3          3  https://www.zomato.com/bangalore/addhuri-udupi...   \n",
       "4          4  https://www.zomato.com/bangalore/grand-village...   \n",
       "...      ...                                                ...   \n",
       "51712  51712  https://www.zomato.com/bangalore/best-brews-fo...   \n",
       "51713  51713  https://www.zomato.com/bangalore/vinod-bar-and...   \n",
       "51714  51714  https://www.zomato.com/bangalore/plunge-sherat...   \n",
       "51715  51715  https://www.zomato.com/bangalore/chime-sherato...   \n",
       "51716  51716  https://www.zomato.com/bangalore/the-nest-the-...   \n",
       "\n",
       "                                                 address  \\\n",
       "0      942, 21st Main Road, 2nd Stage, Banashankari, ...   \n",
       "1      2nd Floor, 80 Feet Road, Near Big Bazaar, 6th ...   \n",
       "2      1112, Next to KIMS Medical College, 17th Cross...   \n",
       "3      1st Floor, Annakuteera, 3rd Stage, Banashankar...   \n",
       "4      10, 3rd Floor, Lakshmi Associates, Gandhi Baza...   \n",
       "...                                                  ...   \n",
       "51712  Four Points by Sheraton Bengaluru, 43/3, White...   \n",
       "51713  Number 10, Garudachar Palya, Mahadevapura, Whi...   \n",
       "51714  Sheraton Grand Bengaluru Whitefield Hotel & Co...   \n",
       "51715  Sheraton Grand Bengaluru Whitefield Hotel & Co...   \n",
       "51716  ITPL Main Road, KIADB Export Promotion Industr...   \n",
       "\n",
       "                                                    name online_order  \\\n",
       "0                                                  Jalsa          Yes   \n",
       "1                                         Spice Elephant          Yes   \n",
       "2                                        San Churro Cafe          Yes   \n",
       "3                                  Addhuri Udupi Bhojana           No   \n",
       "4                                          Grand Village           No   \n",
       "...                                                  ...          ...   \n",
       "51712  Best Brews - Four Points by Sheraton Bengaluru...           No   \n",
       "51713                           Vinod Bar And Restaurant           No   \n",
       "51714  Plunge - Sheraton Grand Bengaluru Whitefield H...           No   \n",
       "51715  Chime - Sheraton Grand Bengaluru Whitefield Ho...           No   \n",
       "51716                       The Nest - The Den Bengaluru           No   \n",
       "\n",
       "      book_table  rate  votes                             phone  \\\n",
       "0            Yes   4.1    775    080 42297555\\r\\n+91 9743772233   \n",
       "1             No   4.1    787                      080 41714161   \n",
       "2             No   3.8    918                    +91 9663487993   \n",
       "3             No   3.7     88                    +91 9620009302   \n",
       "4             No   3.8    166  +91 8026612447\\r\\n+91 9901210005   \n",
       "...          ...   ...    ...                               ...   \n",
       "51712         No   3.6     27                      080 40301477   \n",
       "51713         No   NaN      0                    +91 8197675843   \n",
       "51714         No   NaN      0                              None   \n",
       "51715        Yes   4.3    236                      080 49652769   \n",
       "51716         No   3.4     13                    +91 8071117272   \n",
       "\n",
       "                         location            rest_type  \\\n",
       "0                    Banashankari        Casual Dining   \n",
       "1                    Banashankari        Casual Dining   \n",
       "2                    Banashankari  Cafe, Casual Dining   \n",
       "3                    Banashankari          Quick Bites   \n",
       "4                    Basavanagudi        Casual Dining   \n",
       "...                           ...                  ...   \n",
       "51712                  Whitefield                  Bar   \n",
       "51713                  Whitefield                  Bar   \n",
       "51714                  Whitefield                  Bar   \n",
       "51715  ITPL Main Road, Whitefield                  Bar   \n",
       "51716  ITPL Main Road, Whitefield   Bar, Casual Dining   \n",
       "\n",
       "                                     cuisines  approx_cost(for two people)  \\\n",
       "0              North Indian, Mughlai, Chinese                        800.0   \n",
       "1                 Chinese, North Indian, Thai                        800.0   \n",
       "2                      Cafe, Mexican, Italian                        800.0   \n",
       "3                  South Indian, North Indian                        300.0   \n",
       "4                    North Indian, Rajasthani                        600.0   \n",
       "...                                       ...                          ...   \n",
       "51712                             Continental                       1500.0   \n",
       "51713                             Finger Food                        600.0   \n",
       "51714                             Finger Food                       2000.0   \n",
       "51715                             Finger Food                       2500.0   \n",
       "51716  Finger Food, North Indian, Continental                       1500.0   \n",
       "\n",
       "                                            reviews_list menu_item  \\\n",
       "0      [('Rated 4.0', 'RATED\\n  A beautiful place to ...        []   \n",
       "1      [('Rated 4.0', 'RATED\\n  Had been here for din...        []   \n",
       "2      [('Rated 3.0', \"RATED\\n  Ambience is not that ...        []   \n",
       "3      [('Rated 4.0', \"RATED\\n  Great food and proper...        []   \n",
       "4      [('Rated 4.0', 'RATED\\n  Very good restaurant ...        []   \n",
       "...                                                  ...       ...   \n",
       "51712  [('Rated 5.0', \"RATED\\n  Food and service are ...        []   \n",
       "51713                                                 []        []   \n",
       "51714                                                 []        []   \n",
       "51715  [('Rated 4.0', 'RATED\\n  Nice and friendly pla...        []   \n",
       "51716  [('Rated 5.0', 'RATED\\n  Great ambience , look...        []   \n",
       "\n",
       "      listed_in(type) listed_in(city)     rest_type2  \n",
       "0              Buffet    Banashankari  Casual Dining  \n",
       "1              Buffet    Banashankari  Casual Dining  \n",
       "2              Buffet    Banashankari         others  \n",
       "3              Buffet    Banashankari    Quick Bites  \n",
       "4              Buffet    Banashankari  Casual Dining  \n",
       "...               ...             ...            ...  \n",
       "51712   Pubs and bars      Whitefield         others  \n",
       "51713   Pubs and bars      Whitefield         others  \n",
       "51714   Pubs and bars      Whitefield         others  \n",
       "51715   Pubs and bars      Whitefield         others  \n",
       "51716   Pubs and bars      Whitefield         others  \n",
       "\n",
       "[51717 rows x 18 columns]"
      ]
     },
     "execution_count": 111,
     "metadata": {},
     "output_type": "execute_result"
    }
   ],
   "source": [
    "df"
   ]
  },
  {
   "cell_type": "code",
   "execution_count": 112,
   "id": "389dfe57-8859-47ee-bdb4-3d9060b04683",
   "metadata": {},
   "outputs": [],
   "source": [
    "#همانطور که مشاهده می کنید در این داده ها ستون هایی مثل لوکیشن آدرس وجود دارد و می خواهم آن ها را در یک نقشه نمایش دهم تا پراکندگی جغرافیایی آنها را تحلیل کرد"
   ]
  },
  {
   "cell_type": "code",
   "execution_count": 113,
   "id": "89bb415a-03d9-4591-a8a0-087ed91c3e5d",
   "metadata": {},
   "outputs": [
    {
     "name": "stdout",
     "output_type": "stream",
     "text": [
      "Requirement already satisfied: geopy in c:\\users\\mohammadreza\\anaconda3\\lib\\site-packages (2.4.1)\n",
      "Requirement already satisfied: geographiclib<3,>=1.52 in c:\\users\\mohammadreza\\anaconda3\\lib\\site-packages (from geopy) (2.0)\n"
     ]
    }
   ],
   "source": [
    "!pip install geopy "
   ]
  },
  {
   "cell_type": "code",
   "execution_count": 114,
   "id": "ab5f514e-0587-4c03-8d74-8df4e4294c4c",
   "metadata": {},
   "outputs": [],
   "source": [
    " #نصب جئوپای کتابخانه مکانی و جغرافیایی"
   ]
  },
  {
   "cell_type": "code",
   "execution_count": 115,
   "id": "f4101f8b-e022-4a9d-a0d9-951cfccf3d71",
   "metadata": {},
   "outputs": [],
   "source": [
    "from geopy.geocoders import nominatim \n",
    "#فرخوانی نامیناتیم که به استریت مپ دسترسی پیدا کنیم "
   ]
  },
  {
   "cell_type": "code",
   "execution_count": 116,
   "id": "2c73cefc-a895-406c-8b06-0ccd70eb505b",
   "metadata": {},
   "outputs": [],
   "source": [
    "from geopy.geocoders import Nominatim\n",
    "\n",
    "geolocator = Nominatim(user_agent='app')"
   ]
  },
  {
   "cell_type": "code",
   "execution_count": 117,
   "id": "585ab966-2f0c-4be4-abc6-dd3485f96591",
   "metadata": {},
   "outputs": [],
   "source": [
    "#برای پیشگیری از بروز خطا یک یوزر تعریف کردم"
   ]
  },
  {
   "cell_type": "code",
   "execution_count": 118,
   "id": "e90367c1-10a5-4886-8d86-ae5f1417155f",
   "metadata": {},
   "outputs": [
    {
     "data": {
      "text/plain": [
       "'Banashankari'"
      ]
     },
     "execution_count": 118,
     "metadata": {},
     "output_type": "execute_result"
    }
   ],
   "source": [
    "df['location'][0]"
   ]
  },
  {
   "cell_type": "code",
   "execution_count": 119,
   "id": "c3d043cd-8bbc-4864-8db9-86c58fad0f13",
   "metadata": {},
   "outputs": [
    {
     "data": {
      "text/plain": [
       "Location(Banashankari, Badami taluku, Bagalkote, Karnataka, 587200, India, (15.8876779, 75.7046777, 0.0))"
      ]
     },
     "execution_count": 119,
     "metadata": {},
     "output_type": "execute_result"
    }
   ],
   "source": [
    " geolocator.geocode(df['location'][0]) #مختصات جغرافیایی محلی که لوکیت کردم"
   ]
  },
  {
   "cell_type": "code",
   "execution_count": 120,
   "id": "f2ae29fc-910f-4d96-80f5-170e62c23fc7",
   "metadata": {},
   "outputs": [],
   "source": [
    "loc = geolocator.geocode(df['location'][0]) "
   ]
  },
  {
   "cell_type": "code",
   "execution_count": 121,
   "id": "aa195d99-8917-482c-9ca4-87d06f437c40",
   "metadata": {},
   "outputs": [
    {
     "data": {
      "text/plain": [
       "15.8876779"
      ]
     },
     "execution_count": 121,
     "metadata": {},
     "output_type": "execute_result"
    }
   ],
   "source": [
    "loc.latitude #عرض جغرافیایی محلی که لوکیت کردم"
   ]
  },
  {
   "cell_type": "code",
   "execution_count": 122,
   "id": "0a27ffdf-7ac6-4851-aa53-881df58adf22",
   "metadata": {},
   "outputs": [
    {
     "data": {
      "text/plain": [
       "75.7046777"
      ]
     },
     "execution_count": 122,
     "metadata": {},
     "output_type": "execute_result"
    }
   ],
   "source": [
    "loc.longitude #طول جغرافیایی محلی که لوکیت کردم"
   ]
  },
  {
   "cell_type": "code",
   "execution_count": 123,
   "id": "bf8236c9-94f7-4e8b-a79b-968ac8d1d712",
   "metadata": {},
   "outputs": [],
   "source": [
    "# لیست لوکیشن های موجودم را یونیک چک می کنم "
   ]
  },
  {
   "cell_type": "code",
   "execution_count": 124,
   "id": "207becfa-63a0-4875-bae2-8e5929142a0a",
   "metadata": {},
   "outputs": [
    {
     "data": {
      "text/plain": [
       "array(['Banashankari', 'Basavanagudi', 'Mysore Road', 'Jayanagar',\n",
       "       'Kumaraswamy Layout', 'Rajarajeshwari Nagar', 'Vijay Nagar',\n",
       "       'Uttarahalli', 'JP Nagar', 'South Bangalore', 'City Market',\n",
       "       'Nagarbhavi', 'Bannerghatta Road', 'BTM', 'Kanakapura Road',\n",
       "       'Bommanahalli', None, 'CV Raman Nagar', 'Electronic City', 'HSR',\n",
       "       'Marathahalli', 'Sarjapur Road', 'Wilson Garden', 'Shanti Nagar',\n",
       "       'Koramangala 5th Block', 'Koramangala 8th Block', 'Richmond Road',\n",
       "       'Koramangala 7th Block', 'Jalahalli', 'Koramangala 4th Block',\n",
       "       'Bellandur', 'Whitefield', 'East Bangalore', 'Old Airport Road',\n",
       "       'Indiranagar', 'Koramangala 1st Block', 'Frazer Town', 'RT Nagar',\n",
       "       'MG Road', 'Brigade Road', 'Lavelle Road', 'Church Street',\n",
       "       'Ulsoor', 'Residency Road', 'Shivajinagar', 'Infantry Road',\n",
       "       'St. Marks Road', 'Cunningham Road', 'Race Course Road',\n",
       "       'Commercial Street', 'Vasanth Nagar', 'HBR Layout', 'Domlur',\n",
       "       'Ejipura', 'Jeevan Bhima Nagar', 'Old Madras Road', 'Malleshwaram',\n",
       "       'Seshadripuram', 'Kammanahalli', 'Koramangala 6th Block',\n",
       "       'Majestic', 'Langford Town', 'Central Bangalore', 'Sanjay Nagar',\n",
       "       'Brookefield', 'ITPL Main Road, Whitefield',\n",
       "       'Varthur Main Road, Whitefield', 'KR Puram',\n",
       "       'Koramangala 2nd Block', 'Koramangala 3rd Block', 'Koramangala',\n",
       "       'Hosur Road', 'Rajajinagar', 'Banaswadi', 'North Bangalore',\n",
       "       'Nagawara', 'Hennur', 'Kalyan Nagar', 'New BEL Road', 'Jakkur',\n",
       "       'Rammurthy Nagar', 'Thippasandra', 'Kaggadasapura', 'Hebbal',\n",
       "       'Kengeri', 'Sankey Road', 'Sadashiv Nagar', 'Basaveshwara Nagar',\n",
       "       'Yeshwantpur', 'West Bangalore', 'Magadi Road', 'Yelahanka',\n",
       "       'Sahakara Nagar', 'Peenya'], dtype=object)"
      ]
     },
     "execution_count": 124,
     "metadata": {},
     "output_type": "execute_result"
    }
   ],
   "source": [
    "df['location'].unique()"
   ]
  },
  {
   "cell_type": "code",
   "execution_count": 125,
   "id": "18cca8e0-e958-4952-bfd4-e26cad4b1cca",
   "metadata": {},
   "outputs": [
    {
     "data": {
      "text/plain": [
       "93"
      ]
     },
     "execution_count": 125,
     "metadata": {},
     "output_type": "execute_result"
    }
   ],
   "source": [
    "df['location'].nunique() #تعداد لوکیشن های یونیک "
   ]
  },
  {
   "cell_type": "code",
   "execution_count": 126,
   "id": "5c80354d-9d8b-4c3a-be96-0a401d5931cd",
   "metadata": {},
   "outputs": [],
   "source": [
    "#چک می کنم ستون لوکشین داده نال نداشته باشد"
   ]
  },
  {
   "cell_type": "code",
   "execution_count": 127,
   "id": "efea314a-1b1e-4a20-900c-cb39a56bf5a1",
   "metadata": {},
   "outputs": [],
   "source": [
    "is_location_null = (df['location'].isnull() == True)"
   ]
  },
  {
   "cell_type": "code",
   "execution_count": 128,
   "id": "b768c4cb-44e8-46bc-8219-fe159a4580f6",
   "metadata": {},
   "outputs": [
    {
     "data": {
      "text/plain": [
       "index                              0\n",
       "url                                0\n",
       "address                            0\n",
       "name                               0\n",
       "online_order                       0\n",
       "book_table                         0\n",
       "rate                           10052\n",
       "votes                              0\n",
       "phone                           1208\n",
       "location                          21\n",
       "rest_type                        227\n",
       "cuisines                          45\n",
       "approx_cost(for two people)      346\n",
       "reviews_list                       0\n",
       "menu_item                          0\n",
       "listed_in(type)                    0\n",
       "listed_in(city)                    0\n",
       "rest_type2                         0\n",
       "dtype: int64"
      ]
     },
     "execution_count": 128,
     "metadata": {},
     "output_type": "execute_result"
    }
   ],
   "source": [
    "df.isnull().sum() # بررسی وجود نال"
   ]
  },
  {
   "cell_type": "code",
   "execution_count": 129,
   "id": "c363b0b9-d428-4a41-add0-6735f0b956c9",
   "metadata": {},
   "outputs": [],
   "source": [
    "df = df.dropna(subset=['location']) # حذف تال های لوکیشن \n"
   ]
  },
  {
   "cell_type": "code",
   "execution_count": 130,
   "id": "f1a7b974-ee1b-4e85-820e-44a62b981bea",
   "metadata": {},
   "outputs": [
    {
     "data": {
      "text/plain": [
       "index                              0\n",
       "url                                0\n",
       "address                            0\n",
       "name                               0\n",
       "online_order                       0\n",
       "book_table                         0\n",
       "rate                           10031\n",
       "votes                              0\n",
       "phone                           1187\n",
       "location                           0\n",
       "rest_type                        206\n",
       "cuisines                          24\n",
       "approx_cost(for two people)      325\n",
       "reviews_list                       0\n",
       "menu_item                          0\n",
       "listed_in(type)                    0\n",
       "listed_in(city)                    0\n",
       "rest_type2                         0\n",
       "dtype: int64"
      ]
     },
     "execution_count": 130,
     "metadata": {},
     "output_type": "execute_result"
    }
   ],
   "source": [
    "df.isnull().sum() # بررسی مجدد وجود نال"
   ]
  },
  {
   "cell_type": "code",
   "execution_count": 131,
   "id": "f16ac479-1493-41db-a8a1-6f398a7bdefd",
   "metadata": {},
   "outputs": [],
   "source": [
    "# برای اینکه مختصات را به یک متد بدهم ابتدا یک دیتا فریم از لوکیشن های یونیک ایجاد می کنم"
   ]
  },
  {
   "cell_type": "code",
   "execution_count": 132,
   "id": "27e6bff7-e728-4e78-9e75-c0bf7a3fe15d",
   "metadata": {},
   "outputs": [
    {
     "data": {
      "text/html": [
       "<div>\n",
       "<style scoped>\n",
       "    .dataframe tbody tr th:only-of-type {\n",
       "        vertical-align: middle;\n",
       "    }\n",
       "\n",
       "    .dataframe tbody tr th {\n",
       "        vertical-align: top;\n",
       "    }\n",
       "\n",
       "    .dataframe thead th {\n",
       "        text-align: right;\n",
       "    }\n",
       "</style>\n",
       "<table border=\"1\" class=\"dataframe\">\n",
       "  <thead>\n",
       "    <tr style=\"text-align: right;\">\n",
       "      <th></th>\n",
       "      <th>Name</th>\n",
       "    </tr>\n",
       "  </thead>\n",
       "  <tbody>\n",
       "    <tr>\n",
       "      <th>0</th>\n",
       "      <td>Banashankari</td>\n",
       "    </tr>\n",
       "    <tr>\n",
       "      <th>1</th>\n",
       "      <td>Basavanagudi</td>\n",
       "    </tr>\n",
       "    <tr>\n",
       "      <th>2</th>\n",
       "      <td>Mysore Road</td>\n",
       "    </tr>\n",
       "    <tr>\n",
       "      <th>3</th>\n",
       "      <td>Jayanagar</td>\n",
       "    </tr>\n",
       "    <tr>\n",
       "      <th>4</th>\n",
       "      <td>Kumaraswamy Layout</td>\n",
       "    </tr>\n",
       "    <tr>\n",
       "      <th>...</th>\n",
       "      <td>...</td>\n",
       "    </tr>\n",
       "    <tr>\n",
       "      <th>88</th>\n",
       "      <td>West Bangalore</td>\n",
       "    </tr>\n",
       "    <tr>\n",
       "      <th>89</th>\n",
       "      <td>Magadi Road</td>\n",
       "    </tr>\n",
       "    <tr>\n",
       "      <th>90</th>\n",
       "      <td>Yelahanka</td>\n",
       "    </tr>\n",
       "    <tr>\n",
       "      <th>91</th>\n",
       "      <td>Sahakara Nagar</td>\n",
       "    </tr>\n",
       "    <tr>\n",
       "      <th>92</th>\n",
       "      <td>Peenya</td>\n",
       "    </tr>\n",
       "  </tbody>\n",
       "</table>\n",
       "<p>93 rows × 1 columns</p>\n",
       "</div>"
      ],
      "text/plain": [
       "                  Name\n",
       "0         Banashankari\n",
       "1         Basavanagudi\n",
       "2          Mysore Road\n",
       "3            Jayanagar\n",
       "4   Kumaraswamy Layout\n",
       "..                 ...\n",
       "88      West Bangalore\n",
       "89         Magadi Road\n",
       "90           Yelahanka\n",
       "91      Sahakara Nagar\n",
       "92              Peenya\n",
       "\n",
       "[93 rows x 1 columns]"
      ]
     },
     "execution_count": 132,
     "metadata": {},
     "output_type": "execute_result"
    }
   ],
   "source": [
    "locations = pd.DataFrame({'Name': df['location'].unique()})\n",
    "locations"
   ]
  },
  {
   "cell_type": "code",
   "execution_count": null,
   "id": "1aa63dba-b77a-453f-b4c2-3e0c585fdb9a",
   "metadata": {},
   "outputs": [],
   "source": [
    "lat = []\n",
    "lon = []\n",
    "for loc in locations['Name']:\n",
    "    loc = geolocator.geocode(loc)\n",
    "    if loc is None:\n",
    "        lat.append(np.nan)\n",
    "        lon.append(np.nan)\n",
    "    else:    \n",
    "         lat.append(loc.latitude)\n",
    "         lon.append(loc.longitude)\n",
    "locations['latitude'] = lat\n",
    "locations['longitude'] = lon"
   ]
  },
  {
   "cell_type": "code",
   "execution_count": null,
   "id": "27cc3e23-5d09-47b1-82a1-484b72b1d672",
   "metadata": {},
   "outputs": [],
   "source": [
    "# فراخوانی متد فوق کمی زمان بر است "
   ]
  },
  {
   "cell_type": "code",
   "execution_count": null,
   "id": "6a3694e7-ddb6-445f-af1f-ad7eaa0a4970",
   "metadata": {},
   "outputs": [],
   "source": [
    "locations.head()     #طول و عرض جغرافیایی برای هر شهر محاسبه شد"
   ]
  },
  {
   "cell_type": "code",
   "execution_count": null,
   "id": "77b6304d-90cd-4b9d-a971-69af0beb8741",
   "metadata": {},
   "outputs": [],
   "source": [
    "# در ادامه با توجه به مختصات بدست آمده می خواهم رستوران های شهرها را در نمودار هیت مپ نمایش دهم"
   ]
  },
  {
   "cell_type": "code",
   "execution_count": null,
   "id": "1eb542db-c7da-4b90-aff4-2e02701684a6",
   "metadata": {},
   "outputs": [],
   "source": [
    "rest_locs = df['location'].value_counts()"
   ]
  },
  {
   "cell_type": "code",
   "execution_count": null,
   "id": "e5057914-0f7c-418d-8b36-7cd7a2a62d27",
   "metadata": {},
   "outputs": [],
   "source": [
    "rest_locs"
   ]
  },
  {
   "cell_type": "code",
   "execution_count": null,
   "id": "36f599c0-e870-4700-8ca2-ebac4ca7b4c0",
   "metadata": {},
   "outputs": [],
   "source": [
    "# تعداد رستوران های شهرها"
   ]
  },
  {
   "cell_type": "code",
   "execution_count": null,
   "id": "e6aaafe3-e788-45db-8b70-b4859349889d",
   "metadata": {},
   "outputs": [],
   "source": [
    "rest_locs = df['location'].value_counts().reset_index()  \n",
    "# برای اینکه به دیتافریم تبدیل کنم ایندکس هم اضافه کردم"
   ]
  },
  {
   "cell_type": "code",
   "execution_count": null,
   "id": "f4f1a552-0046-45bd-bbe4-2095997fb7aa",
   "metadata": {},
   "outputs": [],
   "source": [
    "rest_locs"
   ]
  },
  {
   "cell_type": "code",
   "execution_count": null,
   "id": "e3778e42-7078-4cb3-bcf6-980e3d11ce7c",
   "metadata": {},
   "outputs": [],
   "source": [
    "# الان هر دو دیتا فریم را باید با هم مرج کنم براساس ستون لوکیشن . اول بررسی می کنم لوکیشنی که مختصات دارد چند تا است چون دیتافریم خط فرمان قبلی 93 ردیف دارد"
   ]
  },
  {
   "cell_type": "code",
   "execution_count": null,
   "id": "824676df-eaff-488a-9ddf-4b24cef859e5",
   "metadata": {},
   "outputs": [],
   "source": [
    "locations.describe()"
   ]
  },
  {
   "cell_type": "code",
   "execution_count": null,
   "id": "73274d30-3a81-41e2-9bc3-a7d7e1140621",
   "metadata": {},
   "outputs": [],
   "source": [
    "# برای مرج کردن آماده است ابعاد یکی است"
   ]
  },
  {
   "cell_type": "code",
   "execution_count": null,
   "id": "bf3d360b-78c2-433f-a642-fd8db009ea1c",
   "metadata": {},
   "outputs": [],
   "source": [
    "# کد مرج می نویسم در ادامه"
   ]
  },
  {
   "cell_type": "code",
   "execution_count": null,
   "id": "2bd4d592-e78f-4399-8a11-f3bf8691872f",
   "metadata": {},
   "outputs": [],
   "source": [
    "#ابتدا هر دو ستون باید هم نام کنم که مرج مشکلی برنخورد رست لاکس که ستون لوکیشن دارد به ستون نام تغییر می دهم که با دیتا فریم لوکیشنز یکی شوند"
   ]
  },
  {
   "cell_type": "code",
   "execution_count": null,
   "id": "d0e7bbe2-679c-4b14-8465-58d6db4ae183",
   "metadata": {},
   "outputs": [],
   "source": [
    "rest_locs.columns = ['Name' , 'Count']"
   ]
  },
  {
   "cell_type": "code",
   "execution_count": null,
   "id": "9a612286-a4a3-4342-b551-054032d04ab8",
   "metadata": {},
   "outputs": [],
   "source": [
    "restaurantlocations = locations.merge(rest_locs, on = 'Name').dropna()\n",
    "#مرج براساس ستون نام\n",
    "#دراپنا هم گذاشتم که اگر ردیفی نال باشد حذف شود"
   ]
  },
  {
   "cell_type": "code",
   "execution_count": null,
   "id": "dc33c31d-ee7d-4d81-96e0-756c25ef1c6a",
   "metadata": {},
   "outputs": [],
   "source": [
    "restaurantlocations"
   ]
  },
  {
   "cell_type": "code",
   "execution_count": null,
   "id": "ce75dca3-84f0-4d01-b779-3ec7aab8ef15",
   "metadata": {},
   "outputs": [],
   "source": [
    "!pip install folium"
   ]
  },
  {
   "cell_type": "code",
   "execution_count": null,
   "id": "4a53638a-c8eb-469b-a36b-e54ad1fa18f7",
   "metadata": {},
   "outputs": [],
   "source": [
    "# کتابخانه فولیوم برای استفاده از نقشه نصب کردم"
   ]
  },
  {
   "cell_type": "code",
   "execution_count": null,
   "id": "2e936226-f6c7-4df1-8c2c-f794ff95623a",
   "metadata": {},
   "outputs": [],
   "source": [
    "import folium"
   ]
  },
  {
   "cell_type": "code",
   "execution_count": null,
   "id": "de2a04d1-fc85-4c50-89e3-f17822b20dee",
   "metadata": {},
   "outputs": [],
   "source": [
    "from folium.plugins import HeatMap"
   ]
  },
  {
   "cell_type": "code",
   "execution_count": null,
   "id": "fbc0b89b-11be-442f-aaba-8b80e5868f51",
   "metadata": {},
   "outputs": [],
   "source": [
    "#ایمپورت هیت مپ از فولیوم"
   ]
  },
  {
   "cell_type": "code",
   "execution_count": null,
   "id": "7b0cff7f-893f-4aee-9ff3-081cffa242e0",
   "metadata": {},
   "outputs": [],
   "source": [
    "#تست نقشه\n",
    "folium.Map()"
   ]
  },
  {
   "cell_type": "code",
   "execution_count": null,
   "id": "cf4f215b-f2bb-47fb-ab61-15b4e17ca9d7",
   "metadata": {},
   "outputs": [],
   "source": [
    "#نقشه لود شد اما من نیاز به همه نقشه ندارم بنابراین با توجه به عمده لوکیشن داده ها که در هند هستند یک بیس مپ تعریف می کنم\n",
    "baseMap = folium.Map(location=[12.97,77.59])"
   ]
  },
  {
   "cell_type": "code",
   "execution_count": null,
   "id": "2e204958-c6da-4f2d-94aa-777c58fbf8e0",
   "metadata": {},
   "outputs": [],
   "source": [
    "HeatMap(data=restaurantlocations[['latitude','longitude','Count']]).add_to(baseMap)  \n",
    "#اضافه کردن بیس مپ به هیت مپ"
   ]
  },
  {
   "cell_type": "code",
   "execution_count": null,
   "id": "47daedca-07ff-4d55-86da-e1ed966fca01",
   "metadata": {},
   "outputs": [],
   "source": [
    "baseMap"
   ]
  },
  {
   "cell_type": "code",
   "execution_count": null,
   "id": "93702abb-3d30-4284-b20b-12a8203007a6",
   "metadata": {},
   "outputs": [],
   "source": [
    "#همانطور که می بینید نواحی قرمز تعداد رستوران ها بیشتر است"
   ]
  },
  {
   "cell_type": "code",
   "execution_count": null,
   "id": "7e59f9db-0e5d-4c53-9416-b3afae037fe4",
   "metadata": {},
   "outputs": [],
   "source": [
    "\"\"\"از اینجا به بعد با استفاده از پردازش متن پیش می روم\"\"\""
   ]
  },
  {
   "cell_type": "code",
   "execution_count": null,
   "id": "97105a16-e9bb-4f2f-b28c-ff2eeac9b769",
   "metadata": {},
   "outputs": [],
   "source": [
    "# تعیین بیشترین منوی غذایی برای یک نوع رستوران"
   ]
  },
  {
   "cell_type": "code",
   "execution_count": null,
   "id": "6d9a74c9-f572-45b6-8cd7-194cf9881d1d",
   "metadata": {},
   "outputs": [],
   "source": [
    "# یک بار دیگر دیتا را از سورس می خوانم و در df2 جدید ذخیره می کنم"
   ]
  },
  {
   "cell_type": "code",
   "execution_count": null,
   "id": "17a8c610-98fd-4196-881c-c65108fd6c27",
   "metadata": {},
   "outputs": [],
   "source": [
    "con = sqlite3.connect(r'D:\\my data\\faradars\\Python\\Pandas\\[FVPY328] Pandas_Projects [Files_And_Codes]\\zomato_rawdata.sqlite')"
   ]
  },
  {
   "cell_type": "code",
   "execution_count": null,
   "id": "ba3b2857-087b-43b7-b523-aef6340d1f27",
   "metadata": {},
   "outputs": [],
   "source": [
    "df2 = pd.read_sql_query(\"select * from Users\",con)"
   ]
  },
  {
   "cell_type": "code",
   "execution_count": null,
   "id": "051a5987-ca54-499c-b7dd-97ce38a5758b",
   "metadata": {},
   "outputs": [],
   "source": [
    "df2.head()"
   ]
  },
  {
   "cell_type": "code",
   "execution_count": null,
   "id": "18cf182e-2e12-40e8-8c75-e01939cace7a",
   "metadata": {},
   "outputs": [],
   "source": [
    "# نوع رستوران با rest type  مشخص شده "
   ]
  },
  {
   "cell_type": "code",
   "execution_count": null,
   "id": "eec10766-85f8-47e2-91dc-d82a72cbac5e",
   "metadata": {},
   "outputs": [],
   "source": [
    "# در ستون dish like هم منوی غذایی بیشترین وجود دارد"
   ]
  },
  {
   "cell_type": "code",
   "execution_count": null,
   "id": "b6fdc4d0-cae8-43fd-8bd2-fa90097bdffe",
   "metadata": {},
   "outputs": [],
   "source": [
    "# برای پردازش متن کتابخانه وردکلاود را نصب می کنم "
   ]
  },
  {
   "cell_type": "code",
   "execution_count": null,
   "id": "eb6f2ecb-d1c2-41ee-bb67-d63c3036750f",
   "metadata": {},
   "outputs": [],
   "source": [
    "!pip install WordCloud"
   ]
  },
  {
   "cell_type": "code",
   "execution_count": null,
   "id": "724c5840-eafa-444a-aa28-7de56b66a701",
   "metadata": {},
   "outputs": [],
   "source": [
    "from wordcloud import WordCloud"
   ]
  },
  {
   "cell_type": "code",
   "execution_count": null,
   "id": "a2f7479d-f279-4201-b9d2-423d11ceacfc",
   "metadata": {},
   "outputs": [],
   "source": [
    "data = df2[df2['rest_type'] == 'Casual Dining']\n",
    "# کاژل دایننیگ را که یک نوع رستوران است در یک دیتا فریم ذخیره میکنم"
   ]
  },
  {
   "cell_type": "code",
   "execution_count": null,
   "id": "399394af-9953-4c4c-aa31-e5453922eee6",
   "metadata": {},
   "outputs": [],
   "source": [
    "data.head(3)"
   ]
  },
  {
   "cell_type": "code",
   "execution_count": null,
   "id": "ccb892fc-a510-4a44-bd4d-d9c898e35f8a",
   "metadata": {},
   "outputs": [],
   "source": [
    "#  حالا با استفاده از یک حلقه فور کلمات منوهایی که در نوع رستوران کاژل دایننیگ محبوب هستند را بررسی میکنم"
   ]
  },
  {
   "cell_type": "code",
   "execution_count": null,
   "id": "09ddb7d8-7ad2-406a-bbac-416d52c03648",
   "metadata": {},
   "outputs": [],
   "source": [
    "dishes = ''\n",
    "for word in data['dish_liked'].dropna():     #حلقه برای کلمات ستون دیش لایک با حذف نال \n",
    "    words = word.split()                     #جدا کردن کلمات از هم \n",
    "    for i in range(len(words)):              # تا خط قبلی که اجرا کردم فقط کلمات رکورد آخر ستون دیش لایک را ارائه داد و لذا طول آن را بدست میارم که در حلقه اضافه کنم\n",
    "        words[i] = words[i].lower()          # برای اینکه برخی کلمات با حرف بزرگ شروع شدن همه را به کوچک تبدیل می کنم\n",
    "    dishes = dishes+ ' '.join(words)+ ' '    # فرمتی که نیاز دارم نمایش بدهم کلمات را\n"
   ]
  },
  {
   "cell_type": "code",
   "execution_count": null,
   "id": "3735e3c8-4ea2-4a7f-8e4a-0e44cb7dcc76",
   "metadata": {},
   "outputs": [],
   "source": [
    "words"
   ]
  },
  {
   "cell_type": "code",
   "execution_count": null,
   "id": "4753ca50-257d-4ab8-ab00-a5a0e1226b9d",
   "metadata": {},
   "outputs": [],
   "source": [
    "dishes  # تمام کلمات ستون دیش لایک برای نوع رستوران کژال داینینگ"
   ]
  },
  {
   "cell_type": "code",
   "execution_count": null,
   "id": "e86217e5-5fcc-4914-8738-cd4cadb5634e",
   "metadata": {},
   "outputs": [],
   "source": [
    "# حالا بیشترین کلماتی که تکرار شدن را می خواهم محاسبه کنم"
   ]
  },
  {
   "cell_type": "code",
   "execution_count": null,
   "id": "04640514-be36-4788-8498-944f720958ff",
   "metadata": {},
   "outputs": [],
   "source": [
    "import matplotlib.pyplot as plt   # کتابخانه مت پلوت را ایمپورت کردم که برای نمایش فراوانی استفاده کنم\n",
    "w = WordCloud().generate(dishes)  # کلمات درون دیشز را در یک دیتافریم جدید میریزم و با لایبرری ورود کلود پردازش می کنم \n",
    "plt.imshow(w)                     # نمایش فراوانی کلمات منوها"
   ]
  },
  {
   "cell_type": "code",
   "execution_count": null,
   "id": "53bae0eb-a39c-4b1b-8b85-18b40485251d",
   "metadata": {},
   "outputs": [],
   "source": []
  }
 ],
 "metadata": {
  "kernelspec": {
   "display_name": "Python 3 (ipykernel)",
   "language": "python",
   "name": "python3"
  },
  "language_info": {
   "codemirror_mode": {
    "name": "ipython",
    "version": 3
   },
   "file_extension": ".py",
   "mimetype": "text/x-python",
   "name": "python",
   "nbconvert_exporter": "python",
   "pygments_lexer": "ipython3",
   "version": "3.12.4"
  }
 },
 "nbformat": 4,
 "nbformat_minor": 5
}
